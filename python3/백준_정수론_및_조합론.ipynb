{
  "nbformat": 4,
  "nbformat_minor": 0,
  "metadata": {
    "colab": {
      "name": "백준 정수론 및 조합론",
      "provenance": [],
      "collapsed_sections": [],
      "authorship_tag": "ABX9TyNGQrYprC0BKbHgOpSl/4AQ",
      "include_colab_link": true
    },
    "kernelspec": {
      "name": "python3",
      "display_name": "Python 3"
    },
    "language_info": {
      "name": "python"
    }
  },
  "cells": [
    {
      "cell_type": "markdown",
      "metadata": {
        "id": "view-in-github",
        "colab_type": "text"
      },
      "source": [
        "<a href=\"https://colab.research.google.com/github/4pphier/baekjoon/blob/main/python3/%EB%B0%B1%EC%A4%80_%EC%A0%95%EC%88%98%EB%A1%A0_%EB%B0%8F_%EC%A1%B0%ED%95%A9%EB%A1%A0.ipynb\" target=\"_parent\"><img src=\"https://colab.research.google.com/assets/colab-badge.svg\" alt=\"Open In Colab\"/></a>"
      ]
    },
    {
      "cell_type": "code",
      "execution_count": null,
      "metadata": {
        "colab": {
          "base_uri": "https://localhost:8080/"
        },
        "id": "NnRBYNvPCKV0",
        "outputId": "7402477c-b8e7-4a81-dfa4-e3c678bbec42"
      },
      "outputs": [
        {
          "name": "stdout",
          "output_type": "stream",
          "text": [
            "8 16\n",
            "factor\n",
            "32 4\n",
            "multiple\n",
            "17 5\n",
            "neither\n",
            "0 0\n"
          ]
        }
      ],
      "source": [
        "#5086\n",
        "\n",
        "while True:\n",
        "  m, n = map(int, input().split())\n",
        "  if m == n == 0:\n",
        "    break\n",
        "  else:\n",
        "    k = m / n\n",
        "    l = n / m\n",
        "    if int(k) == k:\n",
        "      print('multiple')\n",
        "    elif int(l) == l:\n",
        "      print('factor')\n",
        "    else:\n",
        "      print('neither')"
      ]
    },
    {
      "cell_type": "code",
      "source": [
        "# 1037\n",
        "\n",
        "cnt = int(input())\n",
        "divisor = list(map(int, input().split()))\n",
        "maximum = max(divisor)\n",
        "minimum = min(divisor)\n",
        "n = maximum * minimum\n",
        "print(n)"
      ],
      "metadata": {
        "id": "jtCLPS1SDvNR"
      },
      "execution_count": null,
      "outputs": []
    },
    {
      "cell_type": "code",
      "source": [
        "# 2609\n",
        "\n",
        "n, m = map(int, input().split())\n",
        "gcd = 0\n",
        "\n",
        "for i in range(1, n+1):\n",
        "  if n % i == 0 and m % i == 0:\n",
        "    gcd = i\n",
        "\n",
        "lcm = gcd * (n / gcd) * (m / gcd)\n",
        "lcm = int(lcm)\n",
        "\n",
        "print(gcd)\n",
        "print(lcm)"
      ],
      "metadata": {
        "colab": {
          "base_uri": "https://localhost:8080/"
        },
        "id": "88WWUqZkEn1v",
        "outputId": "15225b71-95ed-4056-95e2-35b611b6b749"
      },
      "execution_count": null,
      "outputs": [
        {
          "output_type": "stream",
          "name": "stdout",
          "text": [
            "24 18\n",
            "6\n",
            "72\n"
          ]
        }
      ]
    },
    {
      "cell_type": "code",
      "source": [
        "# 1934\n",
        "\n",
        "def euclidean(x, y):\n",
        "  a = max(x, y)\n",
        "  b = min(x, y)\n",
        "  q = a // b\n",
        "  r = a % b\n",
        "  if r == 0:\n",
        "    return b\n",
        "  else:\n",
        "    return euclidean(b, r)\n",
        "\n",
        "t = int(input())\n",
        "\n",
        "for i in range(t):\n",
        "  m, n = map(int, input().split())\n",
        "  gcd = euclidean(m, n)\n",
        "  lcm = gcd * (n/gcd) * (m/gcd)\n",
        "  lcm = int(lcm)\n",
        "  print(lcm)"
      ],
      "metadata": {
        "colab": {
          "base_uri": "https://localhost:8080/"
        },
        "id": "7aEYCGsoGrBg",
        "outputId": "6e4d2d6a-1359-41d5-f89d-22d6a5434e34"
      },
      "execution_count": null,
      "outputs": [
        {
          "output_type": "stream",
          "name": "stdout",
          "text": [
            "3\n",
            "1 45000\n",
            "45000\n",
            "6 10\n",
            "30\n",
            "13 17\n",
            "221\n"
          ]
        }
      ]
    },
    {
      "cell_type": "code",
      "source": [
        "# 2981\n",
        "\n",
        "import math\n",
        "\n",
        "n = int(input()) # 숫자의 개수\n",
        "num = [int(input()) for i in range(n)] # 숫자 입력\n",
        "cha = [abs(num[k]-num[k+1]) for k in range(n-1)] # 차를 리스트로 저장\n",
        "cha = sorted(cha)\n",
        "\n",
        "# 최대공약수 구하는 함수\n",
        "def gcd(x, y):\n",
        "  a = max(x, y)\n",
        "  b = min(x, y)\n",
        "  q = a // b\n",
        "  r = a % b\n",
        "  if r == 0:\n",
        "    return b\n",
        "  else:\n",
        "    return gcd(b, r)\n",
        "\n",
        "# 차끼리의 최대공약수 중 가장 작은 수\n",
        "mind = cha[0]\n",
        "for j in range(0, len(cha)):\n",
        "  mind = gcd(mind, cha[j])\n",
        "\n",
        "# 최대공약수의 약수들이 M이 됨\n",
        "sqrt = math.ceil(math.sqrt(mind))\n",
        "M = {mind}\n",
        "for m in range(2, sqrt+1):\n",
        "  if mind%m == 0:\n",
        "    M.add(m)\n",
        "    M.add(int(mind/m))\n",
        "\n",
        "M = sorted(M)\n",
        "for ms in M:\n",
        "  print(ms, end = ' ')"
      ],
      "metadata": {
        "id": "q2jrXKPgItgp",
        "colab": {
          "base_uri": "https://localhost:8080/"
        },
        "outputId": "37048800-36ff-4d14-b2c3-0ea17f46c49c"
      },
      "execution_count": 25,
      "outputs": [
        {
          "output_type": "stream",
          "name": "stdout",
          "text": [
            "5\n",
            "5\n",
            "17\n",
            "23\n",
            "14\n",
            "83\n",
            "3 "
          ]
        }
      ]
    },
    {
      "cell_type": "code",
      "source": [
        "# 3036\n",
        "\n",
        "def euclidean(x, y):\n",
        "  a = max(x, y)\n",
        "  b = min(x, y)\n",
        "  q = a // b\n",
        "  r = a % b\n",
        "  if r == 0:\n",
        "    return b\n",
        "  else:\n",
        "    return euclidean(b, r)\n",
        "\n",
        "def rotate(x, y):\n",
        "  gcd = euclidean(x, y)\n",
        "  a = int(y * (1/gcd))\n",
        "  b = int(x * (1/gcd))\n",
        "  return str(b) + \"/\" + str(a)\n",
        "  \n",
        "n = int(input())\n",
        "ring = list(map(int, input().split()))\n",
        "\n",
        "standard = ring[0]\n",
        "\n",
        "for i in range(1, n):\n",
        "  print(rotate(standard, ring[i]))"
      ],
      "metadata": {
        "colab": {
          "base_uri": "https://localhost:8080/"
        },
        "id": "xDCQQfwywFUN",
        "outputId": "2086e5ad-c4f8-4b79-baf6-8cd65504dbf5"
      },
      "execution_count": null,
      "outputs": [
        {
          "output_type": "stream",
          "name": "stdout",
          "text": [
            "4\n",
            "300 1 1 300\n",
            "300/1\n",
            "300/1\n",
            "1/1\n"
          ]
        }
      ]
    },
    {
      "cell_type": "code",
      "source": [
        "# 11050\n",
        "\n",
        "def multiple(x, y):\n",
        "  if x <= y+1:\n",
        "    return x\n",
        "  else:\n",
        "    return x * multiple(x-1, y)\n",
        "\n",
        "n, k = map(int, input().split())\n",
        "\n",
        "numerator = multiple(n, k)\n",
        "denominator = multiple(n-k, 1)\n",
        "\n",
        "if n == k:\n",
        "  binom = 1\n",
        "else:\n",
        "  binom = int(numerator / denominator)\n",
        "\n",
        "print(binom)"
      ],
      "metadata": {
        "id": "n8UlBkG0yIDa",
        "colab": {
          "base_uri": "https://localhost:8080/"
        },
        "outputId": "c4c473dc-8629-49bd-9f99-d3826c6b7a6b"
      },
      "execution_count": null,
      "outputs": [
        {
          "output_type": "stream",
          "name": "stdout",
          "text": [
            "5 2\n",
            "10\n"
          ]
        }
      ]
    },
    {
      "cell_type": "code",
      "source": [
        "# 11051\n",
        "\n",
        "n, k = map(int, input().split())\n",
        "\n",
        "binom = [[0 for j in range(i+1)] for i in range(n+1)]\n",
        "\n",
        "for i in range(n+1):\n",
        "  for j in range(i+1):\n",
        "    if i == 0:\n",
        "      binom[i][j] = 1\n",
        "    elif j == i:\n",
        "      binom[i][j] = 1\n",
        "    elif j == 0:\n",
        "      binom[i][j] = 1\n",
        "\n",
        "if n == 1 or k == 0 or k == n:\n",
        "  binom_nk = 1\n",
        "else:\n",
        "  for i in range(1, n+1):\n",
        "    for j in range(1, min(i, k+1)):\n",
        "      binom[i][j] = binom[i-1][j-1] + binom[i-1][j]\n",
        "  binom_nk = binom[n][k]\n",
        "\n",
        "answer = binom_nk % 10007\n",
        "print(answer)"
      ],
      "metadata": {
        "colab": {
          "base_uri": "https://localhost:8080/"
        },
        "id": "AJOyteQuR1ZS",
        "outputId": "20445b24-bdda-4dd7-aaa0-96ad3f40738a"
      },
      "execution_count": null,
      "outputs": [
        {
          "output_type": "stream",
          "name": "stdout",
          "text": [
            "5 2\n",
            "10\n"
          ]
        }
      ]
    },
    {
      "cell_type": "code",
      "source": [
        "# 1010\n",
        "\n",
        "# 다리를 지을 수 있는 경우의 수 = m개 중 n개를 선택하는 경우의 수\n",
        "\n",
        "T = int(input())\n",
        "\n",
        "binom = [[0 for j in range(i+1)] for i in range(30+1)]\n",
        "\n",
        "for i in range(30+1):\n",
        "  for j in range(i+1):\n",
        "    if i == 0:\n",
        "      binom[i][j] = 1\n",
        "    elif j == i:\n",
        "      binom[i][j] = 1\n",
        "    elif j == 0:\n",
        "      binom[i][j] = 1\n",
        "\n",
        "for t in range(T):\n",
        "  n, m = map(int, input().split())\n",
        "  if m == 1 or n == 0 or m == n:\n",
        "    binom_mn = 1\n",
        "  else:\n",
        "    for i in range(1, m+1):\n",
        "      for j in range(1, min(i, m+1)):\n",
        "        binom[i][j] = binom[i-1][j-1] + binom[i-1][j]\n",
        "    binom_mn = binom[m][n]\n",
        "  print(binom_mn)"
      ],
      "metadata": {
        "id": "UQhJ8EQ-YcJY",
        "colab": {
          "base_uri": "https://localhost:8080/"
        },
        "outputId": "ded9a988-40ae-4e01-af26-6edad2847127"
      },
      "execution_count": null,
      "outputs": [
        {
          "output_type": "stream",
          "name": "stdout",
          "text": [
            "3\n",
            "2 2\n",
            "1\n",
            "1 5\n",
            "5\n",
            "13 29\n",
            "67863915\n"
          ]
        }
      ]
    },
    {
      "cell_type": "code",
      "source": [
        "# 9375\n",
        "\n",
        "T = int(input())\n",
        "\n",
        "for testcase in range(T):\n",
        "  n = int(input())\n",
        "  closet = {}\n",
        "\n",
        "  for i in range(n):\n",
        "    name, key = input().split()\n",
        "    if key in closet:\n",
        "      closet[key] = closet[key] + 1\n",
        "    else:\n",
        "      closet[key] = 1\n",
        "\n",
        "  fashion = 1\n",
        "\n",
        "  for cloth in closet:\n",
        "    item = closet[cloth] + 1\n",
        "    fashion = fashion * item\n",
        "\n",
        "  print(fashion - 1)"
      ],
      "metadata": {
        "colab": {
          "base_uri": "https://localhost:8080/"
        },
        "id": "521UEnnpdbDk",
        "outputId": "15105d60-54e2-48f7-9da6-e9fc871ca7bd"
      },
      "execution_count": null,
      "outputs": [
        {
          "output_type": "stream",
          "name": "stdout",
          "text": [
            "2\n",
            "3\n",
            "hat headgear\n",
            "sunglasses eyewear\n",
            "turban headgear\n",
            "5\n",
            "3\n",
            "mask face\n",
            "sunglasses face\n",
            "makeup face\n",
            "3\n"
          ]
        }
      ]
    },
    {
      "cell_type": "code",
      "source": [
        "# 1676\n",
        "\n",
        "n = int(input())\n",
        "\n",
        "answer = (n//5) + (n//25) + (n//125)\n",
        "\n",
        "print(answer)"
      ],
      "metadata": {
        "colab": {
          "base_uri": "https://localhost:8080/"
        },
        "id": "kTJNVgWQ2K_i",
        "outputId": "3168a30c-bb7b-45a3-fb14-a32ea3b5b86e"
      },
      "execution_count": null,
      "outputs": [
        {
          "output_type": "stream",
          "name": "stdout",
          "text": [
            "10\n",
            "2\n"
          ]
        }
      ]
    },
    {
      "cell_type": "code",
      "source": [
        "# 2004\n",
        "\n",
        "n, m = map(int, input().split())\n",
        "\n",
        "cnt_n_5 = 0\n",
        "cnt_n_2 = 0\n",
        "\n",
        "for i in range(1, 14):\n",
        "  cnt_n_5 = cnt_n_5 + n//(5**i)\n",
        "\n",
        "for i in range(1, 31):\n",
        "  cnt_n_2 = cnt_n_2 + n//(2**i)\n",
        "\n",
        "cnt_m_5 = 0\n",
        "cnt_m_2 = 0\n",
        "\n",
        "for i in range(1, 14):\n",
        "  cnt_m_5 = cnt_m_5 + m//(5**i)\n",
        "\n",
        "for i in range(1, 31):\n",
        "  cnt_m_2 = cnt_m_2 + m//(2**i)\n",
        "\n",
        "cnt_mn_5 = 0\n",
        "cnt_mn_2 = 0\n",
        "\n",
        "for i in range(1, 14):\n",
        "  cnt_mn_5 = cnt_mn_5 + (n-m)//(5**i)\n",
        "\n",
        "for i in range(1, 31):\n",
        "  cnt_mn_2 = cnt_mn_2 + (n-m)//(2**i)\n",
        "\n",
        "cnt_5 = cnt_n_5 - cnt_m_5 - cnt_mn_5\n",
        "cnt_2 = cnt_n_2 - cnt_m_2 - cnt_mn_2\n",
        "\n",
        "print(min(cnt_5, cnt_2))"
      ],
      "metadata": {
        "colab": {
          "base_uri": "https://localhost:8080/"
        },
        "id": "KMqMcYWaJwZ1",
        "outputId": "8849060c-7a0a-4bd5-8b14-52bb1ec31b41"
      },
      "execution_count": null,
      "outputs": [
        {
          "output_type": "stream",
          "name": "stdout",
          "text": [
            "25 12\n",
            "2\n"
          ]
        }
      ]
    }
  ]
}