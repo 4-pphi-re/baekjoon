{
  "nbformat": 4,
  "nbformat_minor": 0,
  "metadata": {
    "colab": {
      "provenance": [],
      "authorship_tag": "ABX9TyN+n9cHxj4r2ibcn/irh8qj",
      "include_colab_link": true
    },
    "kernelspec": {
      "name": "python3",
      "display_name": "Python 3"
    },
    "language_info": {
      "name": "python"
    }
  },
  "cells": [
    {
      "cell_type": "markdown",
      "metadata": {
        "id": "view-in-github",
        "colab_type": "text"
      },
      "source": [
        "<a href=\"https://colab.research.google.com/github/4-pphi-re/baekjoon/blob/main/python3/level2.ipynb\" target=\"_parent\"><img src=\"https://colab.research.google.com/assets/colab-badge.svg\" alt=\"Open In Colab\"/></a>"
      ]
    },
    {
      "cell_type": "markdown",
      "source": [
        "## essential"
      ],
      "metadata": {
        "id": "j7xZiXC7sa6f"
      }
    },
    {
      "cell_type": "markdown",
      "source": [
        "### 1259번: 팰린드롬수\n",
        "\n",
        "제시된 수가 팰린드롬수면 yes를 출력하고 팰린드롬수가 아니면 no 출력하기"
      ],
      "metadata": {
        "id": "jApEGOQMs2Yl"
      }
    },
    {
      "cell_type": "code",
      "execution_count": null,
      "metadata": {
        "colab": {
          "base_uri": "https://localhost:8080/"
        },
        "id": "BdZWUDSSr4y5",
        "outputId": "986b12ba-1787-4de4-c589-9da94fdabbe6"
      },
      "outputs": [
        {
          "name": "stdout",
          "output_type": "stream",
          "text": [
            "121\n",
            "yes\n",
            "1231\n",
            "no\n",
            "12341\n",
            "no\n",
            "12421\n",
            "yes\n",
            "0\n"
          ]
        }
      ],
      "source": [
        "def palindrom(x):\n",
        "  numlen = len(x)\n",
        "  for i in range(len(x)):\n",
        "    if x[i] != x[numlen-i-1]:\n",
        "      return \"no\"\n",
        "  return \"yes\"\n",
        "\n",
        "while True:\n",
        "  num = input() # 수를 문자열로 취급\n",
        "  if num == \"0\":\n",
        "    break\n",
        "  else:\n",
        "    print(palindrom(num))"
      ]
    },
    {
      "cell_type": "markdown",
      "source": [
        "### 1920번: 수 찾기\n",
        "\n",
        "주어진 N개의 정수 중 X라는 정수가 있는지 알아보기"
      ],
      "metadata": {
        "id": "psusC_GrfVK2"
      }
    },
    {
      "cell_type": "code",
      "source": [
        "n = int(input()) # 정수의 개수\n",
        "numlist = set(map(int, input().split())) # 입력받은 정수 목록을 집합으로\n",
        "m = int(input()) # 찾는 정수의 개수\n",
        "findlist = list(map(int, input().split())) # 찾는 정수 목록\n",
        "\n",
        "# 정수를 찾아보자\n",
        "for i in range(m):\n",
        "  if findlist[i] in numlist:\n",
        "    print(1)\n",
        "  else:\n",
        "    print(0)"
      ],
      "metadata": {
        "colab": {
          "base_uri": "https://localhost:8080/"
        },
        "id": "GoE39_j9fd_t",
        "outputId": "f2d0a870-cdb2-4b41-a830-c536d247e5bc"
      },
      "execution_count": null,
      "outputs": [
        {
          "output_type": "stream",
          "name": "stdout",
          "text": [
            "5\n",
            "4 1 5 2 3\n",
            "5\n",
            "1 3 7 9 5\n",
            "1\n",
            "1\n",
            "0\n",
            "0\n",
            "1\n"
          ]
        }
      ]
    },
    {
      "cell_type": "markdown",
      "source": [
        "### 2164번 : 카드2\n",
        "\n",
        "N장의 카드가 있을 때, 맨 윗장 버리기 $\\to$ 맨 윗장 아래로 내리기 $\\to$ 맨 윗장 버리기 $\\to$ ... 를 반복하면 가장 마지막에 남는 카드는 무엇인가?"
      ],
      "metadata": {
        "id": "YmFZi91Tzo-G"
      }
    },
    {
      "cell_type": "markdown",
      "source": [
        "카드의 맨 위와 아래에서 자료가 처리되므로 deque를 써본다."
      ],
      "metadata": {
        "id": "vy7hfFQIbDrB"
      }
    },
    {
      "cell_type": "code",
      "source": [
        "from collections import deque\n",
        "\n",
        "N = int(input()) # 카드 개수\n",
        "\n",
        "cards = deque([i for i in range(1, N+1)]) # 카드를 덱에 넣기\n",
        "\n",
        "while len(cards) > 0:\n",
        "  if len(cards) == 1:\n",
        "    print(cards[0])\n",
        "    break\n",
        "  else:\n",
        "    cards.popleft()\n",
        "    temp = cards.popleft()\n",
        "    cards.append(temp)\n",
        "    if len(cards) == 1:\n",
        "      print(cards[0])\n",
        "      break"
      ],
      "metadata": {
        "colab": {
          "base_uri": "https://localhost:8080/"
        },
        "id": "cMBD_gRQz-BV",
        "outputId": "907235e0-dc8b-4c66-b55f-c05990df9ad0"
      },
      "execution_count": 4,
      "outputs": [
        {
          "output_type": "stream",
          "name": "stdout",
          "text": [
            "6\n",
            "4\n"
          ]
        }
      ]
    },
    {
      "cell_type": "markdown",
      "source": [
        "### 9012번: 괄호\n",
        "\n",
        "괄호 문자열이 올바른 괄호 문자열(VPS)인지 아닌지 판별하기\n",
        "\n"
      ],
      "metadata": {
        "id": "GC281FGbd9MR"
      }
    },
    {
      "cell_type": "markdown",
      "source": [
        "'()'는 VPS이다. <br>\n",
        "x가 VPS라면 (x)는 VPS이다. <br>\n",
        "y또한 VPS라면 xy는 VPS이다. <br>\n",
        "그렇다면 VPS에는 항상 '()'가 포함되어 있으며, '()'를 제거해도 (문자열이 남아 있다면) VPS이지 않을까?"
      ],
      "metadata": {
        "id": "bff-zJlxeOvi"
      }
    },
    {
      "cell_type": "code",
      "source": [
        "def popvps(x):\n",
        "  while True:\n",
        "    for i in range(len(x)-1):\n",
        "      if x[i] == '(' and x[i+1] == ')': # '()' 제거\n",
        "        x.pop(i+1)\n",
        "        x.pop(i)\n",
        "        break # '()' 제거되면 문자열 처음으로 돌아가기\n",
        "    else:\n",
        "      return x # 제거가 완료되면 남은 문자열 반환\n",
        "\n",
        "n = int(input())\n",
        "\n",
        "for i in range(n):\n",
        "  ps = list(input())\n",
        "  validation = popvps(ps)\n",
        "  if len(validation) == 0: # '()'를 제거했을 때 남은 것이 없다 -> VPS\n",
        "    print(\"YES\")\n",
        "  else: # '()'를 제거했을 때 남은 부분이 있다 -> VPS 아님\n",
        "    print(\"NO\")"
      ],
      "metadata": {
        "colab": {
          "base_uri": "https://localhost:8080/"
        },
        "id": "Oi2vZLwAett3",
        "outputId": "afb51505-8345-451f-f2e0-293302cfdbc7"
      },
      "execution_count": 6,
      "outputs": [
        {
          "output_type": "stream",
          "name": "stdout",
          "text": [
            "3\n",
            "((\n",
            "NO\n",
            "))\n",
            "NO\n",
            "())(()\n",
            "NO\n"
          ]
        }
      ]
    }
  ]
}