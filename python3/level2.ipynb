{
  "nbformat": 4,
  "nbformat_minor": 0,
  "metadata": {
    "colab": {
      "provenance": [],
      "authorship_tag": "ABX9TyMn4GNqIGQk2jpdd0ANHqZJ",
      "include_colab_link": true
    },
    "kernelspec": {
      "name": "python3",
      "display_name": "Python 3"
    },
    "language_info": {
      "name": "python"
    }
  },
  "cells": [
    {
      "cell_type": "markdown",
      "metadata": {
        "id": "view-in-github",
        "colab_type": "text"
      },
      "source": [
        "<a href=\"https://colab.research.google.com/github/4-pphi-re/baekjoon/blob/main/python3/level2.ipynb\" target=\"_parent\"><img src=\"https://colab.research.google.com/assets/colab-badge.svg\" alt=\"Open In Colab\"/></a>"
      ]
    },
    {
      "cell_type": "markdown",
      "source": [
        "## essential"
      ],
      "metadata": {
        "id": "j7xZiXC7sa6f"
      }
    },
    {
      "cell_type": "markdown",
      "source": [
        "### 1259번: 팰린드롬수\n",
        "\n",
        "제시된 수가 팰린드롬수면 yes를 출력하고 팰린드롬수가 아니면 no 출력하기"
      ],
      "metadata": {
        "id": "jApEGOQMs2Yl"
      }
    },
    {
      "cell_type": "code",
      "execution_count": 7,
      "metadata": {
        "colab": {
          "base_uri": "https://localhost:8080/"
        },
        "id": "BdZWUDSSr4y5",
        "outputId": "986b12ba-1787-4de4-c589-9da94fdabbe6"
      },
      "outputs": [
        {
          "name": "stdout",
          "output_type": "stream",
          "text": [
            "121\n",
            "yes\n",
            "1231\n",
            "no\n",
            "12341\n",
            "no\n",
            "12421\n",
            "yes\n",
            "0\n"
          ]
        }
      ],
      "source": [
        "def palindrom(x):\n",
        "  numlen = len(x)\n",
        "  for i in range(len(x)):\n",
        "    if x[i] != x[numlen-i-1]:\n",
        "      return \"no\"\n",
        "  return \"yes\"\n",
        "\n",
        "while True:\n",
        "  num = input() # 수를 문자열로 취급\n",
        "  if num == \"0\":\n",
        "    break\n",
        "  else:\n",
        "    print(palindrom(num))"
      ]
    }
  ]
}