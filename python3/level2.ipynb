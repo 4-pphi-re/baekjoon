{
  "nbformat": 4,
  "nbformat_minor": 0,
  "metadata": {
    "colab": {
      "provenance": [],
      "authorship_tag": "ABX9TyMq5UyYptEY2kj5VgdbZUCc",
      "include_colab_link": true
    },
    "kernelspec": {
      "name": "python3",
      "display_name": "Python 3"
    },
    "language_info": {
      "name": "python"
    }
  },
  "cells": [
    {
      "cell_type": "markdown",
      "metadata": {
        "id": "view-in-github",
        "colab_type": "text"
      },
      "source": [
        "<a href=\"https://colab.research.google.com/github/4-pphi-re/baekjoon/blob/main/python3/level2.ipynb\" target=\"_parent\"><img src=\"https://colab.research.google.com/assets/colab-badge.svg\" alt=\"Open In Colab\"/></a>"
      ]
    },
    {
      "cell_type": "markdown",
      "source": [
        "## essential"
      ],
      "metadata": {
        "id": "j7xZiXC7sa6f"
      }
    },
    {
      "cell_type": "markdown",
      "source": [
        "### 1259번: 팰린드롬수\n",
        "\n",
        "제시된 수가 팰린드롬수면 yes를 출력하고 팰린드롬수가 아니면 no 출력하기"
      ],
      "metadata": {
        "id": "jApEGOQMs2Yl"
      }
    },
    {
      "cell_type": "code",
      "execution_count": 7,
      "metadata": {
        "colab": {
          "base_uri": "https://localhost:8080/"
        },
        "id": "BdZWUDSSr4y5",
        "outputId": "986b12ba-1787-4de4-c589-9da94fdabbe6"
      },
      "outputs": [
        {
          "name": "stdout",
          "output_type": "stream",
          "text": [
            "121\n",
            "yes\n",
            "1231\n",
            "no\n",
            "12341\n",
            "no\n",
            "12421\n",
            "yes\n",
            "0\n"
          ]
        }
      ],
      "source": [
        "def palindrom(x):\n",
        "  numlen = len(x)\n",
        "  for i in range(len(x)):\n",
        "    if x[i] != x[numlen-i-1]:\n",
        "      return \"no\"\n",
        "  return \"yes\"\n",
        "\n",
        "while True:\n",
        "  num = input() # 수를 문자열로 취급\n",
        "  if num == \"0\":\n",
        "    break\n",
        "  else:\n",
        "    print(palindrom(num))"
      ]
    },
    {
      "cell_type": "markdown",
      "source": [
        "### 1920번: 수 찾기\n",
        "\n",
        "주어진 N개의 정수 중 X라는 정수가 있는지 알아보기"
      ],
      "metadata": {
        "id": "psusC_GrfVK2"
      }
    },
    {
      "cell_type": "code",
      "source": [
        "n = int(input()) # 정수의 개수\n",
        "numlist = set(map(int, input().split())) # 입력받은 정수 목록을 집합으로\n",
        "m = int(input()) # 찾는 정수의 개수\n",
        "findlist = list(map(int, input().split())) # 찾는 정수 목록\n",
        "\n",
        "# 정수를 찾아보자\n",
        "for i in range(m):\n",
        "  if findlist[i] in numlist:\n",
        "    print(1)\n",
        "  else:\n",
        "    print(0)"
      ],
      "metadata": {
        "colab": {
          "base_uri": "https://localhost:8080/"
        },
        "id": "GoE39_j9fd_t",
        "outputId": "f2d0a870-cdb2-4b41-a830-c536d247e5bc"
      },
      "execution_count": 3,
      "outputs": [
        {
          "output_type": "stream",
          "name": "stdout",
          "text": [
            "5\n",
            "4 1 5 2 3\n",
            "5\n",
            "1 3 7 9 5\n",
            "1\n",
            "1\n",
            "0\n",
            "0\n",
            "1\n"
          ]
        }
      ]
    }
  ]
}