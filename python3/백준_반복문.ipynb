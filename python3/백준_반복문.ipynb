{
  "nbformat": 4,
  "nbformat_minor": 0,
  "metadata": {
    "colab": {
      "provenance": [],
      "authorship_tag": "ABX9TyMID80GpXeQvxXmIO+JAZPM",
      "include_colab_link": true
    },
    "kernelspec": {
      "name": "python3",
      "display_name": "Python 3"
    },
    "language_info": {
      "name": "python"
    }
  },
  "cells": [
    {
      "cell_type": "markdown",
      "metadata": {
        "id": "view-in-github",
        "colab_type": "text"
      },
      "source": [
        "<a href=\"https://colab.research.google.com/github/4pphier/baekjoon/blob/main/python3/%EB%B0%B1%EC%A4%80_%EB%B0%98%EB%B3%B5%EB%AC%B8.ipynb\" target=\"_parent\"><img src=\"https://colab.research.google.com/assets/colab-badge.svg\" alt=\"Open In Colab\"/></a>"
      ]
    },
    {
      "cell_type": "code",
      "execution_count": null,
      "metadata": {
        "id": "EUpprDjsg31_"
      },
      "outputs": [],
      "source": [
        "#2739\n",
        "\n",
        "N = int(input())\n",
        "\n",
        "for i in range(1, 10):\n",
        "  result = N * i\n",
        "  print(str(N) + \" * \" + str(i) + \" = \" + str(result))"
      ]
    },
    {
      "cell_type": "code",
      "source": [
        "#10950\n",
        "\n",
        "T = int(input())\n",
        "\n",
        "for i in range(0, T):\n",
        "  A, B = map(int, input().split())\n",
        "  print(A + B)"
      ],
      "metadata": {
        "id": "pZAHf3H0h9o-"
      },
      "execution_count": null,
      "outputs": []
    },
    {
      "cell_type": "code",
      "source": [
        "#8393\n",
        "\n",
        "n = int(input())\n",
        "sum = 0\n",
        "\n",
        "for i in range(1, n+1):\n",
        "  sum = sum + i\n",
        "\n",
        "print(sum)"
      ],
      "metadata": {
        "id": "8gxG54FwlajO"
      },
      "execution_count": null,
      "outputs": []
    },
    {
      "cell_type": "code",
      "source": [
        "#15552\n",
        "import sys\n",
        "\n",
        "T = int(input())\n",
        "\n",
        "for i in range(T):\n",
        "  A, B = map(int, sys.stdin.readline().split())\n",
        "  print(A+B)\n",
        "\n",
        "#채점 결과 맞았다고 뜨는데 colab에서는 실행이 안된다. 왜지?"
      ],
      "metadata": {
        "id": "cXSlFbTrmvd7"
      },
      "execution_count": null,
      "outputs": []
    },
    {
      "cell_type": "code",
      "source": [
        "#2741\n",
        "\n",
        "N = int(input())\n",
        "\n",
        "for i in range(1, N+1):\n",
        "  print(i)"
      ],
      "metadata": {
        "id": "sTfNIttYobZB"
      },
      "execution_count": null,
      "outputs": []
    },
    {
      "cell_type": "code",
      "source": [
        "#2742\n",
        "\n",
        "N = int(input())\n",
        "\n",
        "for i in range(0, N):\n",
        "  print(str(N-i))"
      ],
      "metadata": {
        "id": "ZHBYmOV4o7sc"
      },
      "execution_count": null,
      "outputs": []
    },
    {
      "cell_type": "code",
      "source": [
        "#11021\n",
        "#colab에서 오류\n",
        "import sys\n",
        "\n",
        "T = int(input())\n",
        "\n",
        "for i in range(T):\n",
        "  A, B = map(int, sys.stdin.readline().split())\n",
        "  print(\"Case #\" + str(i+1) + \": \" + str(A+B))"
      ],
      "metadata": {
        "id": "M7xYOGu6pPwq"
      },
      "execution_count": null,
      "outputs": []
    },
    {
      "cell_type": "code",
      "source": [
        "#11022\n",
        "#colab에서 오류\n",
        "import sys\n",
        "\n",
        "T = int(input())\n",
        "\n",
        "for i in range(T):\n",
        "  A, B = map(int, sys.stdin.readline().split())\n",
        "  print(\"Case #\" + str(i+1) + \": \" + str(A) + \" + \" + str(B) + \" = \" + str(A+B))"
      ],
      "metadata": {
        "id": "djoln8dkqGLf"
      },
      "execution_count": null,
      "outputs": []
    },
    {
      "cell_type": "code",
      "source": [
        "#2438\n",
        "\n",
        "N = int(input())\n",
        "\n",
        "for i in range(N):\n",
        "  star = \"*\" * (i+1)\n",
        "  print(star)"
      ],
      "metadata": {
        "id": "QO0B2bMyqZr4"
      },
      "execution_count": null,
      "outputs": []
    },
    {
      "cell_type": "code",
      "source": [
        "#2439\n",
        "\n",
        "N = int(input())\n",
        "\n",
        "for i in range(N):\n",
        "  space = \" \" * (N - i - 1)\n",
        "  star = \"*\" * (i + 1)\n",
        "  print(space + star)"
      ],
      "metadata": {
        "id": "G9RaxiOTqxn8"
      },
      "execution_count": null,
      "outputs": []
    },
    {
      "cell_type": "code",
      "source": [
        "#10871\n",
        "\n",
        "N, X = map(int, input().split())\n",
        "A = []\n",
        "\n",
        "A = list(map(int, input().split()))\n",
        "\n",
        "for i in range(N):\n",
        "  if A[i] < X:\n",
        "    print(A[i], end = ' ')"
      ],
      "metadata": {
        "id": "SUpuhvIHrlXi"
      },
      "execution_count": null,
      "outputs": []
    },
    {
      "cell_type": "code",
      "source": [
        "# 25304\n",
        "\n",
        "total = int(input()) # 총 금액\n",
        "kind = int(input()) # 종류 수\n",
        "sum = 0 # 계산할 금액\n",
        "\n",
        "for i in range(kind):\n",
        "  price, num = map(int, input().split())\n",
        "  sum += price * num\n",
        "\n",
        "if sum == total:\n",
        "  print(\"Yes\")\n",
        "else:\n",
        "  print(\"No\")"
      ],
      "metadata": {
        "colab": {
          "base_uri": "https://localhost:8080/"
        },
        "id": "NFaePwFJu8_n",
        "outputId": "9936cbde-a360-432c-a254-a1a4422cd38b"
      },
      "execution_count": null,
      "outputs": [
        {
          "output_type": "stream",
          "name": "stdout",
          "text": [
            "250000\n",
            "4\n",
            "20000 5\n",
            "30000 2\n",
            "10000 6\n",
            "5000 8\n",
            "No\n"
          ]
        }
      ]
    },
    {
      "cell_type": "code",
      "source": [
        "#10952\n",
        "\n",
        "while True:\n",
        "  A,B = map(int, input().split())\n",
        "  if A!=0 or B!=0:\n",
        "    print(A+B)\n",
        "  else:\n",
        "    break"
      ],
      "metadata": {
        "colab": {
          "base_uri": "https://localhost:8080/"
        },
        "id": "FsmjS2WJMEjK",
        "outputId": "9241de87-ca66-4dc7-b37a-a20942ee31ff"
      },
      "execution_count": 1,
      "outputs": [
        {
          "name": "stdout",
          "output_type": "stream",
          "text": [
            "1 1\n",
            "2\n",
            "2 3\n",
            "5\n",
            "3 4\n",
            "7\n",
            "9 8\n",
            "17\n",
            "5 2\n",
            "7\n",
            "0 0\n"
          ]
        }
      ]
    },
    {
      "cell_type": "code",
      "source": [
        "#10951\n",
        "\n",
        "while True:\n",
        "  try:\n",
        "    A,B = map(int, input().split())\n",
        "    print(A+B)\n",
        "  except:\n",
        "    break"
      ],
      "metadata": {
        "colab": {
          "base_uri": "https://localhost:8080/"
        },
        "id": "Yjd8l75gMOL8",
        "outputId": "df8d69e7-e44b-419b-e8e2-bd63d4f9715b"
      },
      "execution_count": 3,
      "outputs": [
        {
          "name": "stdout",
          "output_type": "stream",
          "text": [
            "1 1\n",
            "2\n",
            "2 3\n",
            "5\n",
            "3 4\n",
            "7\n",
            "9 8\n",
            "17\n",
            "5 2\n",
            "7\n",
            "\n"
          ]
        }
      ]
    },
    {
      "cell_type": "code",
      "source": [
        "#1110\n",
        "\n",
        "N = int(input())\n",
        "num = str(N)\n",
        "i = 1\n",
        "\n",
        "while True:\n",
        "  if int(num) < 10:\n",
        "    num = str(int(num))*2\n",
        "  else:\n",
        "    num = num[-1] + str(int(num[0]) + int(num[-1]))[-1]\n",
        "\n",
        "  if int(num) == N:\n",
        "    print(i)\n",
        "    break\n",
        "  else:\n",
        "    i = i + 1"
      ],
      "metadata": {
        "colab": {
          "base_uri": "https://localhost:8080/"
        },
        "id": "RAHlSzazMep8",
        "outputId": "cb752172-0db3-4800-be6a-d94379245c2d"
      },
      "execution_count": 4,
      "outputs": [
        {
          "output_type": "stream",
          "name": "stdout",
          "text": [
            "26\n",
            "4\n"
          ]
        }
      ]
    }
  ]
}