{
  "nbformat": 4,
  "nbformat_minor": 0,
  "metadata": {
    "colab": {
      "name": "백준 단계 04",
      "provenance": [],
      "collapsed_sections": [],
      "authorship_tag": "ABX9TyNc/i6OHVKfHkxzbKVFubek",
      "include_colab_link": true
    },
    "kernelspec": {
      "name": "python3",
      "display_name": "Python 3"
    },
    "language_info": {
      "name": "python"
    }
  },
  "cells": [
    {
      "cell_type": "markdown",
      "metadata": {
        "id": "view-in-github",
        "colab_type": "text"
      },
      "source": [
        "<a href=\"https://colab.research.google.com/github/4pphier/baekjoon/blob/main/python3/%EB%B0%B1%EC%A4%80_%EB%8B%A8%EA%B3%84_04.ipynb\" target=\"_parent\"><img src=\"https://colab.research.google.com/assets/colab-badge.svg\" alt=\"Open In Colab\"/></a>"
      ]
    },
    {
      "cell_type": "code",
      "execution_count": null,
      "metadata": {
        "colab": {
          "base_uri": "https://localhost:8080/"
        },
        "id": "4DapLzNJfRj0",
        "outputId": "dafe1557-ca4c-4c1a-c4a4-a4814bf93648"
      },
      "outputs": [
        {
          "name": "stdout",
          "output_type": "stream",
          "text": [
            "1 1\n",
            "2\n",
            "0 0\n"
          ]
        }
      ],
      "source": [
        "#10952\n",
        "\n",
        "while True:\n",
        "  A,B = map(int, input().split())\n",
        "  if A!=0 or B!=0:\n",
        "    print(A+B)\n",
        "  else:\n",
        "    break"
      ]
    },
    {
      "cell_type": "code",
      "source": [
        "#10951\n",
        "\n",
        "while True:\n",
        "  try:\n",
        "    A,B = map(int, input().split())\n",
        "    print(A+B)\n",
        "  except:\n",
        "    break"
      ],
      "metadata": {
        "colab": {
          "base_uri": "https://localhost:8080/"
        },
        "id": "cM7p98wjhOED",
        "outputId": "729f73e9-d46d-45ad-f238-cf24afad3773"
      },
      "execution_count": null,
      "outputs": [
        {
          "name": "stdout",
          "output_type": "stream",
          "text": [
            "1 1\n",
            "2\n",
            "\n"
          ]
        }
      ]
    },
    {
      "cell_type": "code",
      "source": [
        "#1110\n",
        "\n",
        "N = int(input())\n",
        "num = str(N)\n",
        "i = 1\n",
        "\n",
        "while True:\n",
        "  if int(num) < 10:\n",
        "    num = str(int(num))*2\n",
        "  else:\n",
        "    num = num[-1] + str(int(num[0]) + int(num[-1]))[-1]\n",
        "\n",
        "  if int(num) == N:\n",
        "    print(i)\n",
        "    break\n",
        "  else:\n",
        "    i = i + 1"
      ],
      "metadata": {
        "colab": {
          "base_uri": "https://localhost:8080/"
        },
        "id": "Bk6LRBDRhsZY",
        "outputId": "1cb6b769-3f68-40a6-f549-48ccba3a2014"
      },
      "execution_count": null,
      "outputs": [
        {
          "output_type": "stream",
          "name": "stdout",
          "text": [
            "26\n",
            "68\n",
            "84\n",
            "42\n",
            "26\n",
            "4\n"
          ]
        }
      ]
    },
    {
      "cell_type": "code",
      "source": [
        ""
      ],
      "metadata": {
        "id": "TIGUQNaYsl4B"
      },
      "execution_count": null,
      "outputs": []
    }
  ]
}