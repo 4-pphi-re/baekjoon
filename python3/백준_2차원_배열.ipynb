{
  "nbformat": 4,
  "nbformat_minor": 0,
  "metadata": {
    "colab": {
      "provenance": [],
      "collapsed_sections": [],
      "authorship_tag": "ABX9TyN9lKbBzsSqJSWia5nT6aI0",
      "include_colab_link": true
    },
    "kernelspec": {
      "name": "python3",
      "display_name": "Python 3"
    },
    "language_info": {
      "name": "python"
    }
  },
  "cells": [
    {
      "cell_type": "markdown",
      "metadata": {
        "id": "view-in-github",
        "colab_type": "text"
      },
      "source": [
        "<a href=\"https://colab.research.google.com/github/4pphier/baekjoon/blob/main/python3/%EB%B0%B1%EC%A4%80_2%EC%B0%A8%EC%9B%90_%EB%B0%B0%EC%97%B4.ipynb\" target=\"_parent\"><img src=\"https://colab.research.google.com/assets/colab-badge.svg\" alt=\"Open In Colab\"/></a>"
      ]
    },
    {
      "cell_type": "code",
      "execution_count": null,
      "metadata": {
        "colab": {
          "base_uri": "https://localhost:8080/"
        },
        "id": "Tb8hdPEjwB4J",
        "outputId": "389a7fd9-a2aa-4b69-9cd9-309087c27b71"
      },
      "outputs": [
        {
          "output_type": "stream",
          "name": "stdout",
          "text": [
            "3 3\n",
            "1 1 1\n",
            "2 2 2\n",
            "0 1 0\n",
            "3 3 3\n",
            "4 4 4\n",
            "5 5 100\n",
            "4 4 4 \n",
            "6 6 6 \n",
            "5 6 100 \n"
          ]
        }
      ],
      "source": [
        "# 2738\n",
        "\n",
        "n, m = map(int, input().split())\n",
        "\n",
        "a = []\n",
        "b = []\n",
        "sum = []\n",
        "\n",
        "for i in range(n):\n",
        "  a.append(list(map(int, input().split())))\n",
        "\n",
        "for j in range(n):\n",
        "  b.append(list(map(int, input().split())))\n",
        "\n",
        "for k in range(n):\n",
        "  line = []\n",
        "  for l in range(m):\n",
        "    line.append(a[k][l] + b[k][l])\n",
        "    print(line[l], end = ' ')\n",
        "  print()"
      ]
    },
    {
      "cell_type": "code",
      "source": [
        "# 2566\n",
        "\n",
        "arr = [list(map(int, input().split())) for i in range(9)]\n",
        "\n",
        "max = 0\n",
        "x = 1\n",
        "y = 1\n",
        "\n",
        "for i in range(9):\n",
        "  for j in range(9):\n",
        "    if arr[i][j] > max:\n",
        "      max = arr[i][j]\n",
        "      x = i + 1\n",
        "      y = j + 1\n",
        "\n",
        "print(max)\n",
        "print(x, y)"
      ],
      "metadata": {
        "colab": {
          "base_uri": "https://localhost:8080/"
        },
        "id": "Ns2l7iLrynEt",
        "outputId": "82597ef4-ff32-43fe-ba1f-c925d1ae9275"
      },
      "execution_count": null,
      "outputs": [
        {
          "output_type": "stream",
          "name": "stdout",
          "text": [
            "3 23 85 34 17 74 25 52 65\n",
            "10 7 39 42 88 52 14 72 63\n",
            "87 42 18 78 53 45 18 84 53\n",
            "34 28 64 85 12 16 75 36 55\n",
            "21 77 45 35 28 75 90 76 1\n",
            "25 87 65 15 28 11 37 28 74\n",
            "65 27 75 41 7 89 78 64 39\n",
            "47 47 70 45 23 65 3 41 44\n",
            "87 13 82 38 31 12 29 29 80\n",
            "90\n",
            "5 7\n"
          ]
        }
      ]
    },
    {
      "cell_type": "code",
      "source": [
        "# 2563\n",
        "\n",
        "arr = [[0 for i in range(100)] for j in range(100)]\n",
        "\n",
        "def paper(a, b, wall): # 색종이를 도화지에 붙이는 함수\n",
        "  for i in range(a, a+10):\n",
        "    for j in range(b, b+10):\n",
        "      wall[i][j] += 1\n",
        "  \n",
        "  return wall\n",
        "\n",
        "def getarea(wall): # 넓이를 구하는 함수\n",
        "  cnt = 0\n",
        "  for i in range(100):\n",
        "    for j in range(100):\n",
        "      if wall[i][j] != 0:\n",
        "        cnt += 1\n",
        "  \n",
        "  return cnt\n",
        "\n",
        "n = int(input()) # 색종이의 수\n",
        "\n",
        "for i in range(n):\n",
        "  x, y = map(int, input().split())\n",
        "  paper(x, y, arr)\n",
        "\n",
        "area = getarea(arr)\n",
        "print(area)"
      ],
      "metadata": {
        "colab": {
          "base_uri": "https://localhost:8080/"
        },
        "id": "9BaCx77YcJ8t",
        "outputId": "20bdb047-45cb-40ff-a63b-27506a022fba"
      },
      "execution_count": 8,
      "outputs": [
        {
          "output_type": "stream",
          "name": "stdout",
          "text": [
            "3\n",
            "3 7\n",
            "15 7\n",
            "5 2\n",
            "260\n"
          ]
        }
      ]
    }
  ]
}