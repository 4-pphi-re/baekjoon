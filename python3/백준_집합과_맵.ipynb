{
  "nbformat": 4,
  "nbformat_minor": 0,
  "metadata": {
    "colab": {
      "name": "백준 집합과 맵",
      "provenance": [],
      "collapsed_sections": [],
      "authorship_tag": "ABX9TyMz5fxmnlEALFC0s9zguN23",
      "include_colab_link": true
    },
    "kernelspec": {
      "name": "python3",
      "display_name": "Python 3"
    },
    "language_info": {
      "name": "python"
    }
  },
  "cells": [
    {
      "cell_type": "markdown",
      "metadata": {
        "id": "view-in-github",
        "colab_type": "text"
      },
      "source": [
        "<a href=\"https://colab.research.google.com/github/4pphier/baekjoon/blob/main/python3/%EB%B0%B1%EC%A4%80_%EC%A7%91%ED%95%A9%EA%B3%BC_%EB%A7%B5.ipynb\" target=\"_parent\"><img src=\"https://colab.research.google.com/assets/colab-badge.svg\" alt=\"Open In Colab\"/></a>"
      ]
    },
    {
      "cell_type": "code",
      "execution_count": null,
      "metadata": {
        "id": "_JpU84AUjEnf"
      },
      "outputs": [],
      "source": [
        "# 10815\n",
        "\n",
        "n = int(input())\n",
        "cards = list(map(int, input().split()))\n",
        "numlist = [0 for i in range(20000000)]\n",
        "\n",
        "for card in cards:\n",
        "    numlist[card] = 1\n",
        "\n",
        "m = int(input())\n",
        "testset = list(map(int, input().split()))\n",
        "\n",
        "for test in testset:\n",
        "    print(numlist[test], end = ' ')"
      ]
    },
    {
      "cell_type": "code",
      "source": [
        "# 14425\n",
        "\n",
        "n, m = map(int, input().split())\n",
        "S = {}\n",
        "\n",
        "for i in range(n):\n",
        "    word = input()\n",
        "    S[word] = 1\n",
        "\n",
        "for j in range(m):\n",
        "    test = input()\n",
        "    if test in S:\n",
        "        S[test] += 1\n",
        "    else:\n",
        "        continue\n",
        "\n",
        "answer = 0\n",
        "\n",
        "for keys in S:\n",
        "    answer = answer + S[keys]\n",
        "\n",
        "print(answer - len(S))"
      ],
      "metadata": {
        "id": "kpY0zC8TEpRA"
      },
      "execution_count": null,
      "outputs": []
    },
    {
      "cell_type": "code",
      "source": [
        "#1620\n",
        "\n",
        "n, m = map(int, input().split())\n",
        "\n",
        "dogam1 = {}\n",
        "dogam2 = {}\n",
        "\n",
        "for i in range(n):\n",
        "  pocketmon = input()\n",
        "  dogam1[pocketmon] = i+1\n",
        "  dogam2[i+1] = pocketmon\n",
        "\n",
        "qlist = [input() for j in range(m)]\n",
        "\n",
        "for question in qlist:\n",
        "  if question.isalpha():\n",
        "    print(dogam1[question])\n",
        "  else:\n",
        "    question = int(question)\n",
        "    print(dogam2[question])"
      ],
      "metadata": {
        "colab": {
          "base_uri": "https://localhost:8080/"
        },
        "id": "zB0xa161Ljbi",
        "outputId": "d602c9ea-539a-42ca-a857-6b4cd67be541"
      },
      "execution_count": null,
      "outputs": [
        {
          "output_type": "stream",
          "name": "stdout",
          "text": [
            "26 5\n",
            "Bulbasaur\n",
            "Ivysaur\n",
            "Venusaur\n",
            "Charmander\n",
            "Charmeleon\n",
            "Charizard\n",
            "Squirtle\n",
            "Wartortle\n",
            "Blastoise\n",
            "Caterpie\n",
            "Metapod\n",
            "Butterfree\n",
            "Weedle\n",
            "Kakuna\n",
            "Beedrill\n",
            "Pidgey\n",
            "Pidgeotto\n",
            "Pidgeot\n",
            "Rattata\n",
            "Raticate\n",
            "Spearow\n",
            "Fearow\n",
            "Ekans\n",
            "Arbok\n",
            "Pikachu\n",
            "Raichu\n",
            "25\n",
            "Pikachu\n",
            "Raichu\n",
            "26\n",
            "3\n",
            "Venusaur\n",
            "Pidgey\n",
            "16\n",
            "Kakuna\n",
            "14\n"
          ]
        }
      ]
    },
    {
      "cell_type": "code",
      "source": [
        "#10816\n",
        "\n",
        "n = int(input()) # 상근이가 갖고 있는 숫자 카드 개수\n",
        "scard = list(map(int, input().split())) # 상근이 숫자카드들\n",
        "\n",
        "# 상근이가 각 숫자 카드를 얼마나 가졌는지의 정보를 담은 딕셔너리 만들기\n",
        "\n",
        "numdic = {}\n",
        "\n",
        "for num in scard:\n",
        "  if num in numdic:\n",
        "    numdic[num] += 1\n",
        "  else:\n",
        "    numdic[num] = 1\n",
        "\n",
        "m = int(input()) # 제시되는 정수의 개수\n",
        "integer = list(map(int, input().split())) # 제시되는 정수들\n",
        "\n",
        "# 딕셔너리에 키로 존재하는 정수는 개수를, 존재하지 않는 정수는 0을 정답 리스트에 저장, 출력\n",
        "\n",
        "answer = []\n",
        "\n",
        "for i in integer:\n",
        "  if i in numdic:\n",
        "    answer.append(numdic[i])\n",
        "  else:\n",
        "    answer.append(0)\n",
        "    \n",
        "for ans in answer:\n",
        "  print(ans, end = ' ')"
      ],
      "metadata": {
        "colab": {
          "base_uri": "https://localhost:8080/"
        },
        "id": "FDthVeKwVyXb",
        "outputId": "df8c469f-8252-42b3-df5a-fb99f5274116"
      },
      "execution_count": null,
      "outputs": [
        {
          "output_type": "stream",
          "name": "stdout",
          "text": [
            "10\n",
            "6 3 2 10 10 10 -10 -10 7 3\n",
            "8\n",
            "10 9 -5 2 3 4 5 -10\n",
            "3 0 0 1 2 0 0 2 "
          ]
        }
      ]
    },
    {
      "cell_type": "code",
      "source": [
        "# 1764\n",
        "\n",
        "n, m = map(int, input().split()) # n: 듣도 못한 사람 수, m: 보도 못한 사람 수\n",
        "\n",
        "# 듣도 못한 사람 명단\n",
        "nonheard = {}\n",
        "\n",
        "for i in range(n):\n",
        "  name = input()\n",
        "  nonheard[name] = ''\n",
        "\n",
        "# 듣도 보도 못한 사람 명단\n",
        "nonhs = []\n",
        "\n",
        "# 보도 못한 사람 중 듣도 못한 사람에 포함되는 사람을 명단에 입력\n",
        "for j in range(m):\n",
        "  newname = input()\n",
        "  if newname in nonheard:\n",
        "    nonhs.append(newname)\n",
        "\n",
        "# 사전 순서대로 정렬 \n",
        "nonhs = sorted(nonhs)\n",
        "\n",
        "print(len(nonhs)) # 듣도 보도 못한 사람 수\n",
        "\n",
        "for ppl in nonhs: # 듣도 보도 못한 이름\n",
        "  print(ppl)"
      ],
      "metadata": {
        "colab": {
          "base_uri": "https://localhost:8080/"
        },
        "id": "x6vSxwU3b_TO",
        "outputId": "37a04fd2-987d-4103-9b6a-e015065ef8e4"
      },
      "execution_count": null,
      "outputs": [
        {
          "output_type": "stream",
          "name": "stdout",
          "text": [
            "3 4\n",
            "ohhenrie\n",
            "charlie\n",
            "baesangwook\n",
            "obama\n",
            "baesangwook\n",
            "ohhenrie\n",
            "clinton\n",
            "2\n",
            "baesangwook\n",
            "ohhenrie\n"
          ]
        }
      ]
    },
    {
      "cell_type": "code",
      "source": [
        "# 1269\n",
        "\n",
        "a, b = map(int, input().split()) # a: A 원소 개수, b: B 원소 개수\n",
        "\n",
        "A = list(map(int, input().split())) # 집합A\n",
        "A = sorted(A)\n",
        "B = list(map(int, input().split())) # 집합B\n",
        "B = sorted(B)\n",
        "\n",
        "# 이미 검사한 원소를 집합에서 지우는 함수. 시간 단축 위해서.\n",
        "def removing(sets, number, cnt):\n",
        "  if len(sets) == 0:\n",
        "    return cnt\n",
        "  elif sets[0] == number:\n",
        "    cnt += 1\n",
        "    sets.pop(0)\n",
        "    return removing(sets, number, cnt)\n",
        "  elif sets[0] < number:\n",
        "    sets.pop(0)\n",
        "    return removing(sets, number, cnt)\n",
        "  else:\n",
        "    return cnt\n",
        "\n",
        "# 교집합 원소 개수\n",
        "c = 0\n",
        "\n",
        "for num in A:\n",
        "  cnt = 0\n",
        "  c = c + removing(B, num, cnt)\n",
        "\n",
        "# 대칭 차집합 원소 개수\n",
        "lena = a - c\n",
        "lenb = b - c\n",
        "cha = lena + lenb\n",
        "print(cha)"
      ],
      "metadata": {
        "colab": {
          "base_uri": "https://localhost:8080/"
        },
        "id": "5Qq3YB7JyA61",
        "outputId": "be17ae95-58cb-42f8-c925-c579ebcd4a2f"
      },
      "execution_count": null,
      "outputs": [
        {
          "output_type": "stream",
          "name": "stdout",
          "text": [
            "3 5\n",
            "1 2 4\n",
            "2 3 4 5 6\n",
            "4\n"
          ]
        }
      ]
    },
    {
      "cell_type": "code",
      "source": [
        "# 1269 더 간단한 풀이\n",
        "# set: 집합\n",
        "\n",
        "a, b = map(int, input().split())\n",
        "\n",
        "A = set(map(int, input().split())) # 집합A\n",
        "B = set(map(int, input().split())) # 집합B\n",
        "common = A & B # A, B의 교집합. A.intersection(B)라고 쓸 수도 있음\n",
        "c = len(common) # 교집합의 길이\n",
        "answer = a + b - 2*c\n",
        "print(answer)"
      ],
      "metadata": {
        "colab": {
          "base_uri": "https://localhost:8080/"
        },
        "id": "WiHhlJsmIukF",
        "outputId": "9b6485c9-42fa-44d8-c75a-866eb6ec436c"
      },
      "execution_count": 3,
      "outputs": [
        {
          "output_type": "stream",
          "name": "stdout",
          "text": [
            "3 5\n",
            "1 2 4\n",
            "2 3 4 5 6\n",
            "4\n"
          ]
        }
      ]
    },
    {
      "cell_type": "code",
      "source": [
        "# 11478\n",
        "\n",
        "S = input() # 입력된 문자열\n",
        "slength = len(S) # 문자열의 길이\n",
        "parts = set() # 부분문자열을 담는 집합\n",
        "\n",
        "# 중복되지 않는 부분문자열을 담는 과정\n",
        "for i in range(0, slength+1):\n",
        "  for j in range(0, slength+1-i):\n",
        "    part = S[j:j+i]\n",
        "    parts.add(part)\n",
        "\n",
        "l = len(parts) - 1 # 집합에 ''이 포함되기 때문에 원소 개수에서 제외\n",
        "print(l)"
      ],
      "metadata": {
        "colab": {
          "base_uri": "https://localhost:8080/"
        },
        "id": "tqSdmQkcKvYU",
        "outputId": "514897f3-61c2-4458-c91d-3c0ed2ff044a"
      },
      "execution_count": 8,
      "outputs": [
        {
          "output_type": "stream",
          "name": "stdout",
          "text": [
            "ababc\n",
            "12\n"
          ]
        }
      ]
    }
  ]
}