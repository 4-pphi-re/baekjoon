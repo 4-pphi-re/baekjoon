{
  "nbformat": 4,
  "nbformat_minor": 0,
  "metadata": {
    "colab": {
      "name": "백준 단계 03",
      "provenance": [],
      "collapsed_sections": [],
      "authorship_tag": "ABX9TyPoFZEmYik/vlPyZcql1mT7",
      "include_colab_link": true
    },
    "kernelspec": {
      "name": "python3",
      "display_name": "Python 3"
    },
    "language_info": {
      "name": "python"
    }
  },
  "cells": [
    {
      "cell_type": "markdown",
      "metadata": {
        "id": "view-in-github",
        "colab_type": "text"
      },
      "source": [
        "<a href=\"https://colab.research.google.com/github/4pphier/baekjoon/blob/main/python3/%EB%B0%B1%EC%A4%80_%EB%8B%A8%EA%B3%84_03.ipynb\" target=\"_parent\"><img src=\"https://colab.research.google.com/assets/colab-badge.svg\" alt=\"Open In Colab\"/></a>"
      ]
    },
    {
      "cell_type": "code",
      "execution_count": null,
      "metadata": {
        "id": "EUpprDjsg31_"
      },
      "outputs": [],
      "source": [
        "#2739\n",
        "\n",
        "N = int(input())\n",
        "\n",
        "for i in range(1, 10):\n",
        "  result = N * i\n",
        "  print(str(N) + \" * \" + str(i) + \" = \" + str(result))"
      ]
    },
    {
      "cell_type": "code",
      "source": [
        "#10950\n",
        "\n",
        "T = int(input())\n",
        "\n",
        "for i in range(0, T):\n",
        "  A, B = map(int, input().split())\n",
        "  print(A + B)"
      ],
      "metadata": {
        "id": "pZAHf3H0h9o-"
      },
      "execution_count": null,
      "outputs": []
    },
    {
      "cell_type": "code",
      "source": [
        "#8393\n",
        "\n",
        "n = int(input())\n",
        "sum = 0\n",
        "\n",
        "for i in range(1, n+1):\n",
        "  sum = sum + i\n",
        "\n",
        "print(sum)"
      ],
      "metadata": {
        "id": "8gxG54FwlajO"
      },
      "execution_count": null,
      "outputs": []
    },
    {
      "cell_type": "code",
      "source": [
        "#15552\n",
        "import sys\n",
        "\n",
        "T = int(input())\n",
        "\n",
        "for i in range(T):\n",
        "  A, B = map(int, sys.stdin.readline().split())\n",
        "  print(A+B)\n",
        "\n",
        "#채점 결과 맞았다고 뜨는데 colab에서는 실행이 안된다. 왜지?"
      ],
      "metadata": {
        "id": "cXSlFbTrmvd7"
      },
      "execution_count": null,
      "outputs": []
    },
    {
      "cell_type": "code",
      "source": [
        "#2741\n",
        "\n",
        "N = int(input())\n",
        "\n",
        "for i in range(1, N+1):\n",
        "  print(i)"
      ],
      "metadata": {
        "id": "sTfNIttYobZB"
      },
      "execution_count": null,
      "outputs": []
    },
    {
      "cell_type": "code",
      "source": [
        "#2742\n",
        "\n",
        "N = int(input())\n",
        "\n",
        "for i in range(0, N):\n",
        "  print(str(N-i))"
      ],
      "metadata": {
        "id": "ZHBYmOV4o7sc"
      },
      "execution_count": null,
      "outputs": []
    },
    {
      "cell_type": "code",
      "source": [
        "#11021\n",
        "#colab에서 오류\n",
        "import sys\n",
        "\n",
        "T = int(input())\n",
        "\n",
        "for i in range(T):\n",
        "  A, B = map(int, sys.stdin.readline().split())\n",
        "  print(\"Case #\" + str(i+1) + \": \" + str(A+B))"
      ],
      "metadata": {
        "id": "M7xYOGu6pPwq"
      },
      "execution_count": null,
      "outputs": []
    },
    {
      "cell_type": "code",
      "source": [
        "#11022\n",
        "#colab에서 오류\n",
        "import sys\n",
        "\n",
        "T = int(input())\n",
        "\n",
        "for i in range(T):\n",
        "  A, B = map(int, sys.stdin.readline().split())\n",
        "  print(\"Case #\" + str(i+1) + \": \" + str(A) + \" + \" + str(B) + \" = \" + str(A+B))"
      ],
      "metadata": {
        "id": "djoln8dkqGLf"
      },
      "execution_count": null,
      "outputs": []
    },
    {
      "cell_type": "code",
      "source": [
        "#2438\n",
        "\n",
        "N = int(input())\n",
        "\n",
        "for i in range(N):\n",
        "  star = \"*\" * (i+1)\n",
        "  print(star)"
      ],
      "metadata": {
        "id": "QO0B2bMyqZr4"
      },
      "execution_count": null,
      "outputs": []
    },
    {
      "cell_type": "code",
      "source": [
        "#2439\n",
        "\n",
        "N = int(input())\n",
        "\n",
        "for i in range(N):\n",
        "  space = \" \" * (N - i - 1)\n",
        "  star = \"*\" * (i + 1)\n",
        "  print(space + star)"
      ],
      "metadata": {
        "id": "G9RaxiOTqxn8"
      },
      "execution_count": null,
      "outputs": []
    },
    {
      "cell_type": "code",
      "source": [
        "#10871\n",
        "\n",
        "N, X = map(int, input().split())\n",
        "A = []\n",
        "\n",
        "A = list(map(int, input().split()))\n",
        "\n",
        "for i in range(N):\n",
        "  if A[i] < X:\n",
        "    print(A[i], end = ' ')"
      ],
      "metadata": {
        "id": "SUpuhvIHrlXi"
      },
      "execution_count": null,
      "outputs": []
    }
  ]
}