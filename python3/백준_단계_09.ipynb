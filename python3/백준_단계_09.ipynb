{
  "nbformat": 4,
  "nbformat_minor": 0,
  "metadata": {
    "colab": {
      "name": "백준 단계 09",
      "provenance": [],
      "collapsed_sections": [],
      "authorship_tag": "ABX9TyPoz2AdBhQxs3dd/a1yUNZc",
      "include_colab_link": true
    },
    "kernelspec": {
      "name": "python3",
      "display_name": "Python 3"
    },
    "language_info": {
      "name": "python"
    }
  },
  "cells": [
    {
      "cell_type": "markdown",
      "metadata": {
        "id": "view-in-github",
        "colab_type": "text"
      },
      "source": [
        "<a href=\"https://colab.research.google.com/github/4pphier/baekjoon/blob/main/python3/%EB%B0%B1%EC%A4%80_%EB%8B%A8%EA%B3%84_09.ipynb\" target=\"_parent\"><img src=\"https://colab.research.google.com/assets/colab-badge.svg\" alt=\"Open In Colab\"/></a>"
      ]
    },
    {
      "cell_type": "code",
      "execution_count": null,
      "metadata": {
        "id": "fvToQ0_P4QWU"
      },
      "outputs": [],
      "source": [
        "#1978\n",
        "\n",
        "import math\n",
        "\n",
        "#소수판별함수1\n",
        "#어떤 수가 2이상 제곱근 이하의 어떤 정수로도\n",
        "#나누어떨어지지 않는다면 그 수를 소수라고 판별\n",
        "def isprime(x):\n",
        "  if x == 1:\n",
        "    return False\n",
        "  for i in range(2,int(math.sqrt(x))+1):\n",
        "    if x % i == 0:\n",
        "      return False\n",
        "  return True\n",
        "\n",
        "n = int(input())\n",
        "num = list(map(int, input().split()))\n",
        "prime = 0\n",
        "\n",
        "for k in num:\n",
        "  if isprime(k) == True:\n",
        "    prime = prime + 1\n",
        "\n",
        "print(prime)"
      ]
    },
    {
      "cell_type": "code",
      "source": [
        "#2581\n",
        "\n",
        "import math\n",
        "\n",
        "def isprime(x):\n",
        "  if x == 1:\n",
        "    return False\n",
        "  for i in range(2,int(math.sqrt(x))+1):\n",
        "    if x % i == 0:\n",
        "      return False\n",
        "  return True\n",
        "\n",
        "m = int(input())\n",
        "n = int(input())\n",
        "min = 0\n",
        "sum = 0\n",
        "\n",
        "for i in range(m, n+1):\n",
        "  if isprime(i) == True:\n",
        "    sum = sum + i\n",
        "    min = i\n",
        "    break\n",
        "\n",
        "for j in range(min+1, n+1):\n",
        "  if isprime(j) == True:\n",
        "    sum = sum + j\n",
        "\n",
        "if min == 0:\n",
        "  print(-1)\n",
        "else:\n",
        "  print(sum)\n",
        "  print(min)"
      ],
      "metadata": {
        "id": "1mA1WAhi6trw"
      },
      "execution_count": null,
      "outputs": []
    },
    {
      "cell_type": "code",
      "source": [
        "#11653\n",
        "\n",
        "n = int(input())\n",
        "i = 2\n",
        "\n",
        "while n != 1:\n",
        "  if n % i != 0:\n",
        "    i = i + 1\n",
        "  else:\n",
        "    n = n / i\n",
        "    print(i)"
      ],
      "metadata": {
        "id": "69CDknv78JfN"
      },
      "execution_count": null,
      "outputs": []
    },
    {
      "cell_type": "code",
      "source": [
        "#1929\n",
        "\n",
        "import math\n",
        "\n",
        "m, n = map(int,input().split())\n",
        "\n",
        "def isprime(x):\n",
        "  if x == 1:\n",
        "    return False\n",
        "  for i in range(2,int(math.sqrt(x))+1):\n",
        "    if x % i == 0:\n",
        "      return False\n",
        "  return True\n",
        "\n",
        "for j in range(m, n+1):\n",
        "  if isprime(j) == True:\n",
        "    print(j)"
      ],
      "metadata": {
        "id": "J251N3OW64rz"
      },
      "execution_count": null,
      "outputs": []
    },
    {
      "cell_type": "code",
      "source": [
        "#4948\n",
        "\n",
        "import math\n",
        "\n",
        "#소수판별함수2: 에라토스테네스의 체\n",
        "#2부터 시작하여 자기 자신을 제외한 배수를 모두 제외했을 때\n",
        "#남아 있는 수들이 소수\n",
        "def e_prime(x):\n",
        "  arr = [True for i in range(x+1)]\n",
        "  for j in range(2, int(math.sqrt(x))+1):\n",
        "    if arr[j] == True:\n",
        "      k = 2\n",
        "      while j * k <= x:\n",
        "        arr[j*k] = False\n",
        "        k = k+1\n",
        "  return arr\n",
        "\n",
        "n = int\n",
        "\n",
        "while n != 0:\n",
        "  n = int(input())\n",
        "  if n == 0:\n",
        "    break\n",
        "  else:\n",
        "    prime = e_prime(2*n).count(True) - e_prime(n).count(True)\n",
        "    print(prime)"
      ],
      "metadata": {
        "id": "GiJxI4og8Myh"
      },
      "execution_count": null,
      "outputs": []
    },
    {
      "cell_type": "code",
      "source": [
        "#9020\n",
        "\n",
        "import math\n",
        "\n",
        "def e_prime(x):\n",
        "  arr = [True for i in range(x+1)]\n",
        "  for j in range(2, int(math.sqrt(x))+1):\n",
        "    if arr[j] == True:\n",
        "      k = 2\n",
        "      while j * k <= x:\n",
        "        arr[j*k] = False\n",
        "        k = k+1\n",
        "  return arr\n",
        "\n",
        "t = int(input())\n",
        "\n",
        "for i in range(t):\n",
        "  n = int(input())\n",
        "  prime = e_prime(n)\n",
        "  a = int(math.floor(n/2))\n",
        "  b = n - a\n",
        "  while prime[a] != True or prime[b] != True:\n",
        "    if prime[a] == True and prime[b] == True:\n",
        "      break\n",
        "    else:\n",
        "      a = a-1\n",
        "      b = n-a\n",
        "  print(str(a) + ' ' + str(b))"
      ],
      "metadata": {
        "id": "019Ab5jAPiWe"
      },
      "execution_count": null,
      "outputs": []
    },
    {
      "cell_type": "code",
      "source": [
        "#1085\n",
        "\n",
        "x, y, w, h = map(int, input().split())\n",
        "\n",
        "up = h - y\n",
        "down = y\n",
        "right = x\n",
        "left = w - x\n",
        "d = min([up, down, right, left])\n",
        "print(d)"
      ],
      "metadata": {
        "id": "fON3r8Y4Ue6J"
      },
      "execution_count": null,
      "outputs": []
    },
    {
      "cell_type": "code",
      "source": [
        "#3009\n",
        "\n",
        "x1, y1 = map(int, input().split())\n",
        "x2, y2 = map(int, input().split())\n",
        "x3, y3 = map(int, input().split())\n",
        "\n",
        "if x2 == x3:\n",
        "  x4 = x1\n",
        "elif x1 == x3:\n",
        "  x4 = x2\n",
        "else:\n",
        "  x4 = x3\n",
        "\n",
        "if y2 == y3:\n",
        "  y4 = y1\n",
        "elif y1 == y3:\n",
        "  y4 = y2\n",
        "else:\n",
        "  y4 = y3\n",
        "\n",
        "print(str(x4) + ' ' + str(y4))"
      ],
      "metadata": {
        "id": "9IXI4sPRVlYS"
      },
      "execution_count": null,
      "outputs": []
    },
    {
      "cell_type": "code",
      "source": [
        "#4153\n",
        "\n",
        "while True:\n",
        "  triangle = list(map(int, input().split()))\n",
        "  if triangle[0] == 0:\n",
        "    break\n",
        "  else:\n",
        "    triangle.sort()\n",
        "    a = triangle[0]\n",
        "    b = triangle[1]\n",
        "    c = triangle[2]\n",
        "    if c**2 == a**2 + b**2:\n",
        "      print(\"right\")\n",
        "    else:\n",
        "      print(\"wrong\")"
      ],
      "metadata": {
        "id": "jYT-8T2Cfc7G"
      },
      "execution_count": null,
      "outputs": []
    },
    {
      "cell_type": "code",
      "source": [
        "#3053\n",
        "\n",
        "import math\n",
        "\n",
        "r = int(input())\n",
        "euclid = r**2 * math.pi\n",
        "taxi = r**2 * 2\n",
        "print(euclid)\n",
        "print(taxi)"
      ],
      "metadata": {
        "colab": {
          "base_uri": "https://localhost:8080/"
        },
        "id": "RrqIkGu8hTx5",
        "outputId": "e8ed9dbd-c2ce-4534-be16-2a1bcb7bc20b"
      },
      "execution_count": 5,
      "outputs": [
        {
          "output_type": "stream",
          "name": "stdout",
          "text": [
            "42\n",
            "5541.769440932395\n",
            "3528\n"
          ]
        }
      ]
    },
    {
      "cell_type": "code",
      "source": [
        "#1002\n",
        "\n",
        "t = int(input())\n",
        "\n",
        "for i in range(t):\n",
        "  x1, y1, r1, x2, y2, r2 = map(int, input().split())\n",
        "  plus = r1 + r2\n",
        "  minus = abs(r2 - r1)\n",
        "  distance = ((x2 - x1)**2 + (y2 - y1)**2)**(1/2)\n",
        "  if x1 == x2 and y1 == y2 and r1 == r2:\n",
        "    print(-1)\n",
        "  elif distance > plus:\n",
        "    print(0)\n",
        "  elif distance == plus:\n",
        "    print(1)\n",
        "  elif distance == minus:\n",
        "    print(1)\n",
        "  elif distance < minus:\n",
        "    print(0)\n",
        "  else:\n",
        "    print(2)"
      ],
      "metadata": {
        "id": "Y6-XTdq9kXqd"
      },
      "execution_count": null,
      "outputs": []
    }
  ]
}