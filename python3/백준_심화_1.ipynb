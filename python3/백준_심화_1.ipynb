{
  "nbformat": 4,
  "nbformat_minor": 0,
  "metadata": {
    "colab": {
      "provenance": [],
      "authorship_tag": "ABX9TyMjvoINpZsFknWmtffnjqRp",
      "include_colab_link": true
    },
    "kernelspec": {
      "name": "python3",
      "display_name": "Python 3"
    },
    "language_info": {
      "name": "python"
    }
  },
  "cells": [
    {
      "cell_type": "markdown",
      "metadata": {
        "id": "view-in-github",
        "colab_type": "text"
      },
      "source": [
        "<a href=\"https://colab.research.google.com/github/4pphier/baekjoon/blob/main/python3/%EB%B0%B1%EC%A4%80_%EC%8B%AC%ED%99%94_1.ipynb\" target=\"_parent\"><img src=\"https://colab.research.google.com/assets/colab-badge.svg\" alt=\"Open In Colab\"/></a>"
      ]
    },
    {
      "cell_type": "code",
      "execution_count": 1,
      "metadata": {
        "colab": {
          "base_uri": "https://localhost:8080/"
        },
        "id": "GBkCi2VClEVf",
        "outputId": "41a90790-d87a-47f9-ba3c-986b85aacfe5"
      },
      "outputs": [
        {
          "output_type": "stream",
          "name": "stdout",
          "text": [
            "         ,r'\"7\n",
            "r`-_   ,'  ,/\n",
            " \\. \". L_r'\n",
            "   `~\\/\n",
            "      |\n",
            "      |\n"
          ]
        }
      ],
      "source": [
        "#25083\n",
        "\n",
        "print(\"         ,r'\\\"7\")\n",
        "print(\"r`-_   ,'  ,/\")\n",
        "print(\" \\. \\\". L_r'\")\n",
        "print(\"   `~\\/\")\n",
        "print(\"      |\")\n",
        "print(\"      |\")"
      ]
    },
    {
      "cell_type": "code",
      "source": [
        "#3003\n",
        "\n",
        "dh = list(map(int, input().split())) # 입력된 기물 수\n",
        "chess = [1, 1, 2, 2, 2, 8] # 정답\n",
        "result = []\n",
        "\n",
        "for i in range(6):\n",
        "  result.append(chess[i] - dh[i])\n",
        "  print(result[i], end = ' ')"
      ],
      "metadata": {
        "colab": {
          "base_uri": "https://localhost:8080/"
        },
        "id": "v0Mk3R4dlQVE",
        "outputId": "9511d25f-9309-4699-f827-da7d87551f5f"
      },
      "execution_count": 2,
      "outputs": [
        {
          "output_type": "stream",
          "name": "stdout",
          "text": [
            "2 1 2 1 2 1\n",
            "-1 0 0 1 0 7 "
          ]
        }
      ]
    },
    {
      "cell_type": "code",
      "source": [
        "#2444\n",
        "\n",
        "# 윗부분은 n번째 줄까지 k번째 줄에는 빈공간 n-k개, 별이 2k-1개\n",
        "# 아랫부분은 n-1번째 줄까지 k번째 줄에는 빈공간 k개, 별이 2(n-k)-1개\n",
        "\n",
        "N = int(input())\n",
        "\n",
        "for i in range(1, N+1):\n",
        "  print(\" \"*(N-i) + \"*\"*(2*i - 1))\n",
        "\n",
        "for j in range(1, N):\n",
        "  print(\" \"*j + \"*\"*((2*N) - (2*j) - 1))"
      ],
      "metadata": {
        "colab": {
          "base_uri": "https://localhost:8080/"
        },
        "id": "dvjTRInKlbL_",
        "outputId": "7e6d9757-69be-4bf9-f442-036b7e7b7d73"
      },
      "execution_count": 4,
      "outputs": [
        {
          "output_type": "stream",
          "name": "stdout",
          "text": [
            "5\n",
            "    *\n",
            "   ***\n",
            "  *****\n",
            " *******\n",
            "*********\n",
            " *******\n",
            "  *****\n",
            "   ***\n",
            "    *\n"
          ]
        }
      ]
    },
    {
      "cell_type": "code",
      "source": [
        "#10988\n",
        "\n",
        "word = str(input())\n",
        "\n",
        "while True:\n",
        "  if len(word) == 1:\n",
        "    print(1)\n",
        "    break\n",
        "  elif len(word) == 0:\n",
        "    print(1)\n",
        "    break\n",
        "  else:\n",
        "    if word[0] == word[-1]:\n",
        "      word = word[1:-1]\n",
        "    else:\n",
        "      print(0)\n",
        "      break"
      ],
      "metadata": {
        "colab": {
          "base_uri": "https://localhost:8080/"
        },
        "id": "EJVDJ23dnPDt",
        "outputId": "95f769fd-4165-42ba-823b-6f781ca6c093"
      },
      "execution_count": 16,
      "outputs": [
        {
          "output_type": "stream",
          "name": "stdout",
          "text": [
            "baekjoon\n",
            "0\n"
          ]
        }
      ]
    },
    {
      "cell_type": "code",
      "source": [
        "#1157\n",
        "\n",
        "word = input()\n",
        "word_upper = word.upper()\n",
        "w = list(set(word_upper))\n",
        "count = []\n",
        "\n",
        "for i in w:\n",
        "  c = word_upper.count(i)\n",
        "  count.append(c)\n",
        "\n",
        "if count.count(max(count)) > 1:\n",
        "  print(\"?\")\n",
        "else:\n",
        "  print(w[count.index(max(count))])"
      ],
      "metadata": {
        "colab": {
          "base_uri": "https://localhost:8080/"
        },
        "id": "atel6jaqqzz9",
        "outputId": "fbae5f44-4fe7-4ced-b007-2d4843538bc8"
      },
      "execution_count": 18,
      "outputs": [
        {
          "output_type": "stream",
          "name": "stdout",
          "text": [
            "baaa\n",
            "A\n"
          ]
        }
      ]
    },
    {
      "cell_type": "code",
      "source": [
        "#2941\n",
        "\n",
        "word = input()\n",
        "num = 0\n",
        "\n",
        "for char in word:\n",
        "  if char.isalpha() == True:\n",
        "    num = num + 1\n",
        "\n",
        "if 'nj' in word:\n",
        "  num = num - word.count('nj')\n",
        "\n",
        "if 'lj' in word:\n",
        "  num = num - word.count('lj')\n",
        "\n",
        "if 'dz=' in word:\n",
        "  num = num - word.count('dz=')\n",
        "\n",
        "print(num)"
      ],
      "metadata": {
        "colab": {
          "base_uri": "https://localhost:8080/"
        },
        "id": "i_9Ku_1Gq7tI",
        "outputId": "40f92116-02a9-4ab3-bbd9-3d8d12e6f6ab"
      },
      "execution_count": 19,
      "outputs": [
        {
          "output_type": "stream",
          "name": "stdout",
          "text": [
            "dz=ak\n",
            "3\n"
          ]
        }
      ]
    },
    {
      "cell_type": "code",
      "source": [
        "#1316\n",
        "\n",
        "n = int(input())\n",
        "group_word = n\n",
        "\n",
        "for i in range(n):\n",
        "  word = input()\n",
        "  char_list = []\n",
        "  for j in range(len(word)):\n",
        "    if word[j] not in char_list:\n",
        "      char_list.append(word[j])\n",
        "    else:\n",
        "      if word[j] != word[j-1]:\n",
        "        group_word = group_word - 1\n",
        "        break\n",
        "\n",
        "print(group_word)"
      ],
      "metadata": {
        "colab": {
          "base_uri": "https://localhost:8080/"
        },
        "id": "dWQOVfHVrEsS",
        "outputId": "c5342719-2420-414a-e367-d988f91e7168"
      },
      "execution_count": 20,
      "outputs": [
        {
          "output_type": "stream",
          "name": "stdout",
          "text": [
            "9\n",
            "aaa\n",
            "aaazbz\n",
            "babb\n",
            "aazz\n",
            "azbz\n",
            "aabbaa\n",
            "abacc\n",
            "aba\n",
            "zzaz\n",
            "2\n"
          ]
        }
      ]
    },
    {
      "cell_type": "code",
      "source": [
        "#25206\n",
        "\n",
        "# 전공 평점 = (학점 * 과목평점)/(학점의 총합)\n",
        "# subject, credit, grade\n",
        "\n",
        "# 등급 별 평점 목록\n",
        "grade_dic = {\"A+\": 4.5, \"A0\": 4.0, \"B+\": 3.5, \"B0\": 3.0,\n",
        "             \"C+\": 2.5, \"C0\": 2.0, \"D+\": 1.5, \"D0\": 1.0, \"F\": 0}\n",
        "total_score = 0\n",
        "total_credit = 0\n",
        "\n",
        "for i in range(20):\n",
        "  subject, credit, grade = input().split()\n",
        "  if grade == \"P\": # P이면 평점 반영 안하고 패스\n",
        "    continue\n",
        "  else:\n",
        "    credit = float(credit)\n",
        "    score = grade_dic[grade]\n",
        "    total_score = total_score + (credit * score)\n",
        "    total_credit = total_credit + credit\n",
        "\n",
        "result = total_score / total_credit\n",
        "print(f\"{result:.6f}\")"
      ],
      "metadata": {
        "colab": {
          "base_uri": "https://localhost:8080/"
        },
        "id": "s5rHPZDQrWoB",
        "outputId": "e4e8e52a-376a-4e6f-ba9e-df5d851eb1cc"
      },
      "execution_count": 29,
      "outputs": [
        {
          "output_type": "stream",
          "name": "stdout",
          "text": [
            "ObjectOrientedProgramming1 3.0 A+\n",
            "IntroductiontoComputerEngineering 3.0 A+\n",
            "ObjectOrientedProgramming2 3.0 A0\n",
            "CreativeComputerEngineeringDesign 3.0 A+\n",
            "AssemblyLanguage 3.0 A+\n",
            "InternetProgramming 3.0 B0\n",
            "ApplicationProgramminginJava 3.0 A0\n",
            "SystemProgramming 3.0 B0\n",
            "OperatingSystem 3.0 B0\n",
            "WirelessCommunicationsandNetworking 3.0 C+\n",
            "LogicCircuits 3.0 B0\n",
            "DataStructure 4.0 A+\n",
            "MicroprocessorApplication 3.0 B+\n",
            "EmbeddedSoftware 3.0 C0\n",
            "ComputerSecurity 3.0 D+\n",
            "Database 3.0 C+\n",
            "Algorithm 3.0 B0\n",
            "CapstoneDesigninCSE 3.0 B+\n",
            "CompilerDesign 3.0 D0\n",
            "ProblemSolving 4.0 P\n",
            "3.284483\n"
          ]
        }
      ]
    }
  ]
}