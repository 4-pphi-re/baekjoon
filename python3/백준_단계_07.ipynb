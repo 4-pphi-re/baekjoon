{
  "nbformat": 4,
  "nbformat_minor": 0,
  "metadata": {
    "colab": {
      "name": "백준 단계 07",
      "provenance": [],
      "collapsed_sections": [],
      "authorship_tag": "ABX9TyN25qHNd95KvKlASe1qb/sG",
      "include_colab_link": true
    },
    "kernelspec": {
      "name": "python3",
      "display_name": "Python 3"
    },
    "language_info": {
      "name": "python"
    }
  },
  "cells": [
    {
      "cell_type": "markdown",
      "metadata": {
        "id": "view-in-github",
        "colab_type": "text"
      },
      "source": [
        "<a href=\"https://colab.research.google.com/github/4pphier/baekjoon/blob/main/python3/%EB%B0%B1%EC%A4%80_%EB%8B%A8%EA%B3%84_07.ipynb\" target=\"_parent\"><img src=\"https://colab.research.google.com/assets/colab-badge.svg\" alt=\"Open In Colab\"/></a>"
      ]
    },
    {
      "cell_type": "code",
      "execution_count": null,
      "metadata": {
        "id": "PM96I1A0V-uF"
      },
      "outputs": [],
      "source": [
        "#11654\n",
        "\n",
        "c = input()\n",
        "print(ord(c))"
      ]
    },
    {
      "cell_type": "code",
      "source": [
        "#11720\n",
        "\n",
        "n = int(input())\n",
        "s = input()\n",
        "sum = 0\n",
        "\n",
        "for char in s:\n",
        "  sum = sum + int(char)\n",
        "\n",
        "print(sum)"
      ],
      "metadata": {
        "id": "25H-zq0fWl2_"
      },
      "execution_count": null,
      "outputs": []
    },
    {
      "cell_type": "code",
      "source": [
        "#10809\n",
        "\n",
        "S = input()\n",
        "alphabet = 'abcdefghijklmnopqrstuvwxyz'\n",
        "index = []\n",
        "\n",
        "for char in alphabet:\n",
        "  if char not in S:\n",
        "    index.append(-1)\n",
        "  else:\n",
        "    for i in range(len(S)):\n",
        "      if char == S[i]:\n",
        "        index.append(i)\n",
        "        break\n",
        "\n",
        "for j in range(len(index)):\n",
        "  print(index[j], end = \" \")"
      ],
      "metadata": {
        "id": "NH0x94_PYEbG"
      },
      "execution_count": null,
      "outputs": []
    },
    {
      "cell_type": "code",
      "source": [
        "#2675\n",
        "\n",
        "T = int(input())\n",
        "\n",
        "for i in range(T):\n",
        "  R = 0\n",
        "  S = 0\n",
        "  trs = ''\n",
        "  R, S = input().split()\n",
        "  R = int(R)\n",
        "  for char in S:\n",
        "    trs = trs + char*R\n",
        "  print(trs)"
      ],
      "metadata": {
        "id": "a7hjUk_TbNfa"
      },
      "execution_count": null,
      "outputs": []
    },
    {
      "cell_type": "code",
      "source": [
        "#1157\n",
        "\n",
        "word = input()\n",
        "word_upper = word.upper()\n",
        "w = list(set(word_upper))\n",
        "count = []\n",
        "\n",
        "for i in w:\n",
        "  c = word_upper.count(i)\n",
        "  count.append(c)\n",
        "\n",
        "if count.count(max(count)) > 1:\n",
        "  print(\"?\")\n",
        "else:\n",
        "  print(w[count.index(max(count))])\n"
      ],
      "metadata": {
        "id": "t5pjcDrRdVd5"
      },
      "execution_count": null,
      "outputs": []
    },
    {
      "cell_type": "code",
      "source": [
        "#1152\n",
        "\n",
        "sentence = input()\n",
        "space = 0\n",
        "\n",
        "for char in sentence:\n",
        "  if char == ' ':\n",
        "    space = space + 1\n",
        "\n",
        "if sentence[0] == ' ':\n",
        "  space = space - 1\n",
        "\n",
        "if sentence[-1] == ' ':\n",
        "  space = space - 1\n",
        "\n",
        "print(space + 1)"
      ],
      "metadata": {
        "id": "g-L99vKfufxN"
      },
      "execution_count": null,
      "outputs": []
    },
    {
      "cell_type": "code",
      "source": [
        "#2908\n",
        "\n",
        "A, B = input().split()\n",
        "a_reverse = A[2] + A[1] + A[0]\n",
        "b_reverse = B[2] + B[1] + B[0]\n",
        "\n",
        "if int(a_reverse) > int(b_reverse):\n",
        "  print(a_reverse)\n",
        "else:\n",
        "  print(b_reverse)"
      ],
      "metadata": {
        "id": "yqnfk4QzvmNm"
      },
      "execution_count": null,
      "outputs": []
    },
    {
      "cell_type": "code",
      "source": [
        "#5622\n",
        "\n",
        "word = input()\n",
        "abc = 'ABCDEFGHIJKLMNOPQR'\n",
        "stu = 'STUVWXYZ'\n",
        "t = 0\n",
        "\n",
        "for char in word:\n",
        "  if char == 'Z':\n",
        "    t = t + 10\n",
        "  elif char in abc:\n",
        "    for i in range(len(abc)):\n",
        "      if abc[i] == char:\n",
        "        t = t + i // 3 + 3\n",
        "  else:\n",
        "    for j in range(len(stu)):\n",
        "      if stu[j] == char:\n",
        "        t = t + (j-1) // 3 + 9\n",
        "\n",
        "print(t)"
      ],
      "metadata": {
        "id": "55YslMVVaERM"
      },
      "execution_count": null,
      "outputs": []
    },
    {
      "cell_type": "code",
      "source": [
        "#2941\n",
        "\n",
        "word = input()\n",
        "num = 0\n",
        "\n",
        "for char in word:\n",
        "  if char.isalpha() == True:\n",
        "    num = num + 1\n",
        "\n",
        "if 'nj' in word:\n",
        "  num = num - word.count('nj')\n",
        "\n",
        "if 'lj' in word:\n",
        "  num = num - word.count('lj')\n",
        "\n",
        "if 'dz=' in word:\n",
        "  num = num - word.count('dz=')\n",
        "\n",
        "print(num)"
      ],
      "metadata": {
        "id": "3-CnqPxkzD-Q"
      },
      "execution_count": null,
      "outputs": []
    },
    {
      "cell_type": "code",
      "source": [
        "#1316\n",
        "\n",
        "n = int(input())\n",
        "group_word = n\n",
        "\n",
        "for i in range(n):\n",
        "  word = input()\n",
        "  char_list = []\n",
        "  for j in range(len(word)):\n",
        "    if word[j] not in char_list:\n",
        "      char_list.append(word[j])\n",
        "    else:\n",
        "      if word[j] != word[j-1]:\n",
        "        group_word = group_word - 1\n",
        "        break\n",
        "\n",
        "print(group_word)"
      ],
      "metadata": {
        "id": "en6lw_kz1Nd1"
      },
      "execution_count": null,
      "outputs": []
    }
  ]
}