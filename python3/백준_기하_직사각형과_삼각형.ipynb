{
  "nbformat": 4,
  "nbformat_minor": 0,
  "metadata": {
    "colab": {
      "provenance": [],
      "authorship_tag": "ABX9TyOoZQkYi5rtU4vVpiBBf/Ib",
      "include_colab_link": true
    },
    "kernelspec": {
      "name": "python3",
      "display_name": "Python 3"
    },
    "language_info": {
      "name": "python"
    }
  },
  "cells": [
    {
      "cell_type": "markdown",
      "metadata": {
        "id": "view-in-github",
        "colab_type": "text"
      },
      "source": [
        "<a href=\"https://colab.research.google.com/github/4pphier/baekjoon/blob/main/python3/%EB%B0%B1%EC%A4%80_%EA%B8%B0%ED%95%98_%EC%A7%81%EC%82%AC%EA%B0%81%ED%98%95%EA%B3%BC_%EC%82%BC%EA%B0%81%ED%98%95.ipynb\" target=\"_parent\"><img src=\"https://colab.research.google.com/assets/colab-badge.svg\" alt=\"Open In Colab\"/></a>"
      ]
    },
    {
      "cell_type": "code",
      "execution_count": null,
      "metadata": {
        "id": "-_2x6nJonkOO"
      },
      "outputs": [],
      "source": [
        "#1085\n",
        "\n",
        "x, y, w, h = map(int, input().split())\n",
        "\n",
        "up = h - y\n",
        "down = y\n",
        "right = x\n",
        "left = w - x\n",
        "d = min([up, down, right, left])\n",
        "print(d)"
      ]
    },
    {
      "cell_type": "code",
      "source": [
        "#3009\n",
        "\n",
        "x1, y1 = map(int, input().split())\n",
        "x2, y2 = map(int, input().split())\n",
        "x3, y3 = map(int, input().split())\n",
        "\n",
        "if x2 == x3:\n",
        "  x4 = x1\n",
        "elif x1 == x3:\n",
        "  x4 = x2\n",
        "else:\n",
        "  x4 = x3\n",
        "\n",
        "if y2 == y3:\n",
        "  y4 = y1\n",
        "elif y1 == y3:\n",
        "  y4 = y2\n",
        "else:\n",
        "  y4 = y3\n",
        "\n",
        "print(str(x4) + ' ' + str(y4))"
      ],
      "metadata": {
        "id": "xHn_0QUhnpNM"
      },
      "execution_count": null,
      "outputs": []
    },
    {
      "cell_type": "code",
      "source": [
        "# 27323\n",
        "\n",
        "a = int(input())\n",
        "b = int(input())\n",
        "print(a*b)"
      ],
      "metadata": {
        "colab": {
          "base_uri": "https://localhost:8080/"
        },
        "id": "-Ajg1MhanrWi",
        "outputId": "922d6dec-5e20-4d58-e763-8feef45d07fa"
      },
      "execution_count": null,
      "outputs": [
        {
          "output_type": "stream",
          "name": "stdout",
          "text": [
            "4\n",
            "4\n",
            "16\n"
          ]
        }
      ]
    },
    {
      "cell_type": "code",
      "source": [
        "# 15894\n",
        "\n",
        "# 사실 피라미드(?)의 둘레는 가장 아래에 있는 정사각형의 개수 n*4이다. n*n 정사각형이랑 둘레가 같다.\n",
        "\n",
        "n = int(input())\n",
        "\n",
        "print(n*4)"
      ],
      "metadata": {
        "colab": {
          "base_uri": "https://localhost:8080/"
        },
        "id": "3s-mz5U2oSW8",
        "outputId": "8912b89e-1b0d-4037-844d-d0567297451c"
      },
      "execution_count": null,
      "outputs": [
        {
          "output_type": "stream",
          "name": "stdout",
          "text": [
            "3\n",
            "12\n"
          ]
        }
      ]
    },
    {
      "cell_type": "code",
      "source": [
        "# 9063\n",
        "\n",
        "# 가장 작은 x, 가장 작은 y, 가장 큰 x, 가장 큰 y를 구한 다음에 직사각형 만들면 되겠다.\n",
        "\n",
        "n = int(input())\n",
        "xlist = []\n",
        "ylist = []\n",
        "\n",
        "for i in range(n):\n",
        "  x, y = map(int, input().split())\n",
        "  xlist.append(x)\n",
        "  ylist.append(y)\n",
        "\n",
        "maxx = max(xlist)\n",
        "minx = min(xlist)\n",
        "maxy = max(ylist)\n",
        "miny = min(ylist)\n",
        "\n",
        "xlen = maxx - minx\n",
        "ylen = maxy - miny\n",
        "\n",
        "print(xlen*ylen)"
      ],
      "metadata": {
        "colab": {
          "base_uri": "https://localhost:8080/"
        },
        "id": "6YwPhs59pCgG",
        "outputId": "eed897a3-590e-496f-fc5b-5e97189b28ec"
      },
      "execution_count": 9,
      "outputs": [
        {
          "output_type": "stream",
          "name": "stdout",
          "text": [
            "4\n",
            "2 1\n",
            "3 2\n",
            "5 2\n",
            "3 4\n",
            "9\n"
          ]
        }
      ]
    },
    {
      "cell_type": "code",
      "source": [
        "# 10101\n",
        "\n",
        "a = int(input())\n",
        "b = int(input())\n",
        "c = int(input())\n",
        "\n",
        "if a + b + c != 180:\n",
        "  print(\"Error\")\n",
        "elif a == 60 and b == 60:\n",
        "  print(\"Equilateral\")\n",
        "elif a == b or a == c or b == c:\n",
        "  print(\"Isosceles\")\n",
        "else:\n",
        "  print(\"Scalene\")"
      ],
      "metadata": {
        "colab": {
          "base_uri": "https://localhost:8080/"
        },
        "id": "eJw5NpkrrJP5",
        "outputId": "a3ad6fb2-e8e8-42e4-acdb-c205ab53e57a"
      },
      "execution_count": 16,
      "outputs": [
        {
          "output_type": "stream",
          "name": "stdout",
          "text": [
            "60\n",
            "70\n",
            "50\n",
            "Scalene\n"
          ]
        }
      ]
    },
    {
      "cell_type": "code",
      "source": [
        "# 5073\n",
        "\n",
        "while True:\n",
        "  lines = list(map(int, input().split()))\n",
        "  lines = sorted(lines)\n",
        "  if lines == [0, 0, 0]:\n",
        "    break\n",
        "  else:\n",
        "    if lines[2] >= (lines[1] + lines[0]):\n",
        "      print(\"Invalid\")\n",
        "    elif lines[2] == lines[1] and lines[2] == lines[0]:\n",
        "      print(\"Equilateral\")\n",
        "    elif lines[2] == lines[1] or lines[2] == lines[0] or lines[1] == lines[0]:\n",
        "      print(\"Isosceles\")\n",
        "    else:\n",
        "      print(\"Scalene\")"
      ],
      "metadata": {
        "colab": {
          "base_uri": "https://localhost:8080/"
        },
        "id": "zCpokNg8sPjT",
        "outputId": "1bb827c7-fb5d-4a4d-c0a7-6b9332264816"
      },
      "execution_count": 23,
      "outputs": [
        {
          "name": "stdout",
          "output_type": "stream",
          "text": [
            "7 7 7\n",
            "Equilateral\n",
            "6 5 4\n",
            "Scalene\n",
            "3 2 5\n",
            "Invalid\n",
            "6 2 6\n",
            "Isosceles\n",
            "0 0 0\n"
          ]
        }
      ]
    },
    {
      "cell_type": "code",
      "source": [
        "# 14215\n",
        "\n",
        "# 짧은 변 두 개 길이 합이 긴 변보다 길 경우에는 그대로\n",
        "# 아닌 경우에는 긴 변 길이를 짧은 변 두 개 길이 합 - 1로 바꿔서 더하기\n",
        "\n",
        "lines = list(map(int, input().split()))\n",
        "lines = sorted(lines)\n",
        "\n",
        "if lines[2] < lines[1] + lines[0]:\n",
        "  print(sum(lines))\n",
        "else:\n",
        "  newline = lines[1] + lines[0] - 1\n",
        "  print(lines[0] + lines[1] + newline)"
      ],
      "metadata": {
        "colab": {
          "base_uri": "https://localhost:8080/"
        },
        "id": "7_28k6Uft7bi",
        "outputId": "6bb59616-a10b-4486-d390-3ef297f533a0"
      },
      "execution_count": 27,
      "outputs": [
        {
          "output_type": "stream",
          "name": "stdout",
          "text": [
            "41 64 16\n",
            "113\n"
          ]
        }
      ]
    }
  ]
}