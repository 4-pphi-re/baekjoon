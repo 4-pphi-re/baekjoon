{
  "nbformat": 4,
  "nbformat_minor": 0,
  "metadata": {
    "colab": {
      "provenance": [],
      "authorship_tag": "ABX9TyMw4KCVaAio4otLKCLU5pB1",
      "include_colab_link": true
    },
    "kernelspec": {
      "name": "python3",
      "display_name": "Python 3"
    },
    "language_info": {
      "name": "python"
    }
  },
  "cells": [
    {
      "cell_type": "markdown",
      "metadata": {
        "id": "view-in-github",
        "colab_type": "text"
      },
      "source": [
        "<a href=\"https://colab.research.google.com/github/4pphier/baekjoon/blob/main/python3/%EB%B0%B1%EC%A4%80_%EC%9D%BC%EB%B0%98%EC%88%98%ED%95%991.ipynb\" target=\"_parent\"><img src=\"https://colab.research.google.com/assets/colab-badge.svg\" alt=\"Open In Colab\"/></a>"
      ]
    },
    {
      "cell_type": "code",
      "execution_count": 1,
      "metadata": {
        "id": "dVDc6lWKJKE5",
        "colab": {
          "base_uri": "https://localhost:8080/"
        },
        "outputId": "3667533b-aed5-41f3-c8dd-920dd09fe0cc"
      },
      "outputs": [
        {
          "output_type": "stream",
          "name": "stdout",
          "text": [
            "2100000000 9 10\n",
            "2100000001\n"
          ]
        }
      ],
      "source": [
        "#1712\n",
        "\n",
        "import math\n",
        "\n",
        "a, b, c = map(int, input().split())\n",
        "\n",
        "if c <= b:\n",
        "  bep = -1\n",
        "else:\n",
        "  n = a/(c-b)\n",
        "  if n == int(n):\n",
        "    bep = int(n + 1)\n",
        "  else:\n",
        "    bep = int(math.ceil(n))\n",
        "\n",
        "print(bep)"
      ]
    },
    {
      "cell_type": "code",
      "source": [
        "#2292\n",
        "\n",
        "n = int(input())\n",
        "i = 0\n",
        "\n",
        "def bee(k):\n",
        "  return(3*(k**2) + 3*k + 1)\n",
        "\n",
        "while bee(i) < n:\n",
        "  i = i + 1\n",
        "  if bee(i) >= n:\n",
        "    print(i+1)\n",
        "\n",
        "if n == 1:\n",
        "  print(n)"
      ],
      "metadata": {
        "id": "Tcr1DVW4GGpB",
        "colab": {
          "base_uri": "https://localhost:8080/"
        },
        "outputId": "37d7a232-c0cb-4d02-b3d4-79fa07cab66f"
      },
      "execution_count": 2,
      "outputs": [
        {
          "output_type": "stream",
          "name": "stdout",
          "text": [
            "13\n",
            "3\n"
          ]
        }
      ]
    },
    {
      "cell_type": "code",
      "source": [
        "#1193\n",
        "\n",
        "x = int(input())\n",
        "\n",
        "i = 0\n",
        "sum = 0\n",
        "\n",
        "while sum < x:\n",
        "  i = i + 1\n",
        "  sum = sum + i\n",
        "  if sum >= x:\n",
        "    line = i+1\n",
        "    position = x - sum + i\n",
        "    if line % 2 == 0:\n",
        "      print(str(line-position) + \"/\" + str(position))\n",
        "    else:\n",
        "      print(str(position) + \"/\" + str(line-position))"
      ],
      "metadata": {
        "id": "9uAlL_Z5KPxX",
        "colab": {
          "base_uri": "https://localhost:8080/"
        },
        "outputId": "5cf8359b-bb5c-41a3-8252-a2c873593335"
      },
      "execution_count": 3,
      "outputs": [
        {
          "output_type": "stream",
          "name": "stdout",
          "text": [
            "14\n",
            "2/4\n"
          ]
        }
      ]
    },
    {
      "cell_type": "code",
      "source": [
        "#2869\n",
        "\n",
        "import math\n",
        "a,b,v = map(int,input().split())\n",
        "d = math.ceil((v-b)/(a-b))\n",
        "print(d)"
      ],
      "metadata": {
        "id": "2ZXK_nGTefSq",
        "colab": {
          "base_uri": "https://localhost:8080/"
        },
        "outputId": "af238ecf-38f5-468b-e91d-82dd49bdd083"
      },
      "execution_count": 4,
      "outputs": [
        {
          "output_type": "stream",
          "name": "stdout",
          "text": [
            "100 99 1000000000\n",
            "999999901\n"
          ]
        }
      ]
    },
    {
      "cell_type": "code",
      "source": [
        "#10250\n",
        "\n",
        "t = int(input())\n",
        "\n",
        "for m in range(t):\n",
        "  h, w, n = map(int, input().split())\n",
        "  if n % h == 0:\n",
        "    num = n // h\n",
        "    floor = h\n",
        "  else:\n",
        "    num = n // h + 1\n",
        "    floor = n % h\n",
        "\n",
        "  if num < 10:\n",
        "    print(str(floor) + '0' + str(num))\n",
        "  else:\n",
        "    print(str(floor) + str(num))"
      ],
      "metadata": {
        "colab": {
          "base_uri": "https://localhost:8080/"
        },
        "id": "sTgiroTDbTmi",
        "outputId": "0d591e90-e5d2-411c-e6f3-6c1227efe2c6"
      },
      "execution_count": 5,
      "outputs": [
        {
          "output_type": "stream",
          "name": "stdout",
          "text": [
            "2\n",
            "6 12 10\n",
            "402\n",
            "30 50 72\n",
            "1203\n"
          ]
        }
      ]
    },
    {
      "cell_type": "code",
      "source": [
        "#2775\n",
        "#백준 사이트에서는 numpy를 사용할 수 없어 오답으로 처리됨\n",
        "\n",
        "'''import numpy as np'''\n",
        "t = int(input())\n",
        "\n",
        "for i in range(t):\n",
        "  k = int(input())\n",
        "  n = int(input())\n",
        "  '''apt = np.zeros((k+1,n))\n",
        "\n",
        "  for j in range(n):\n",
        "    apt[0,j] = j+1\n",
        "\n",
        "  for col in range(1,k+1):\n",
        "    for row in range(n):\n",
        "      sum = 0\n",
        "      for r in range(row+1):\n",
        "        sum = sum + apt[col-1,r]\n",
        "      apt[col,row] = sum\n",
        "  print(int(apt[k,n-1]))'''\n",
        "\n",
        "  apt = []\n",
        "\n",
        "  for j in range(k+1):\n",
        "    line = []\n",
        "    for l in range(n):\n",
        "      line.append(0)\n",
        "    apt.append(line)\n",
        "\n",
        "  for j in range(n):\n",
        "    apt[0][j] = j+1\n",
        "\n",
        "  for col in range(1,k+1):\n",
        "    for row in range(n):\n",
        "      sum = 0\n",
        "      for r in range(row+1):\n",
        "        sum = sum + apt[col-1][r]\n",
        "      apt[col][row] = sum\n",
        "\n",
        "  print(apt[k][n-1])"
      ],
      "metadata": {
        "id": "7-9VxTsoo1OZ",
        "colab": {
          "base_uri": "https://localhost:8080/"
        },
        "outputId": "8f0773cd-d7d1-42b2-b825-07c760c977e6"
      },
      "execution_count": 6,
      "outputs": [
        {
          "output_type": "stream",
          "name": "stdout",
          "text": [
            "2\n",
            "1\n",
            "3\n",
            "6\n",
            "2\n",
            "3\n",
            "10\n"
          ]
        }
      ]
    },
    {
      "cell_type": "code",
      "source": [
        "#2839\n",
        "\n",
        "n = int(input())\n",
        "sugar = 0\n",
        "\n",
        "while True:\n",
        "  if n % 5 != 0:\n",
        "    sugar = sugar + 1\n",
        "    n = n - 3\n",
        "    if 0 < n < 2:\n",
        "      print(-1)\n",
        "      break\n",
        "  elif n % 5 == 0:\n",
        "    sugar = sugar + (n/5)\n",
        "    print(int(sugar))\n",
        "    break"
      ],
      "metadata": {
        "id": "5cwRyUjqqlFU",
        "colab": {
          "base_uri": "https://localhost:8080/"
        },
        "outputId": "cb4e9557-763c-418e-f413-9dd1cc931077"
      },
      "execution_count": 7,
      "outputs": [
        {
          "output_type": "stream",
          "name": "stdout",
          "text": [
            "11\n",
            "3\n"
          ]
        }
      ]
    },
    {
      "cell_type": "code",
      "source": [
        "#10757\n",
        "\n",
        "a, b = map(int, input().split())\n",
        "print(a+b)"
      ],
      "metadata": {
        "id": "SQsaeI6FtEtA",
        "colab": {
          "base_uri": "https://localhost:8080/"
        },
        "outputId": "677c6e24-82c8-434b-c258-3aa8028e9331"
      },
      "execution_count": 8,
      "outputs": [
        {
          "output_type": "stream",
          "name": "stdout",
          "text": [
            "9223372036854775807 9223372036854775808\n",
            "18446744073709551615\n"
          ]
        }
      ]
    },
    {
      "cell_type": "code",
      "source": [
        "#1011\n",
        "\n",
        "import math\n",
        "\n",
        "t = int(input())\n",
        "\n",
        "for i in range(t):\n",
        "  x, y = map(int,input().split())\n",
        "  warp = 0\n",
        "  distance = y - x\n",
        "  n = math.ceil(math.sqrt(distance))\n",
        "  if distance <= (n-1)**2 + n-1:\n",
        "    warp = 2*n - 2\n",
        "  else:\n",
        "    warp = 2*n - 1\n",
        "  print(warp)"
      ],
      "metadata": {
        "id": "f9UMFT9-uCrZ",
        "colab": {
          "base_uri": "https://localhost:8080/"
        },
        "outputId": "7581f3d0-10aa-4773-d256-a6c367b7fb54"
      },
      "execution_count": 9,
      "outputs": [
        {
          "output_type": "stream",
          "name": "stdout",
          "text": [
            "3\n",
            "0 3\n",
            "3\n",
            "1 5\n",
            "3\n",
            "45 50\n",
            "4\n"
          ]
        }
      ]
    },
    {
      "cell_type": "code",
      "source": [
        "# 2745\n",
        "# 진법 변환: b진법 수 n을 10진법으로 바꿔 출력\n",
        "\n",
        "n, b = input().split()\n",
        "b = int(b)\n",
        "length = len(n) # n의 자리수\n",
        "\n",
        "dec = 0\n",
        "\n",
        "for i in range(length):\n",
        "  digit = n[i]\n",
        "  if digit.isalpha(): # 알파벳이면 아스키코드로 변환 후 10부터 시작하도록 다시 변환\n",
        "    digit = ord(digit) - 55\n",
        "  else:\n",
        "    digit = int(digit) # 숫자면 정수형으로 변환\n",
        "  dec += digit * (b**(length - i - 1)) # i번째 숫자가 나타내는 값은 b의 length - i - 1제곱 * 숫자\n",
        "\n",
        "print(dec)\n",
        "\n",
        "# 내장함수를 사용하면 된다고 한다\n",
        "# https://my-coding-notes.tistory.com/344\n",
        "# b진법 수를 10진법으로 변환하는 함수\n",
        "# int(n, int(b))"
      ],
      "metadata": {
        "colab": {
          "base_uri": "https://localhost:8080/"
        },
        "id": "nLpUS1BIwBq0",
        "outputId": "be32553e-006b-4812-8539-8e40877d893f"
      },
      "execution_count": 29,
      "outputs": [
        {
          "output_type": "stream",
          "name": "stdout",
          "text": [
            "ZZZZZ 36\n",
            "60466175\n"
          ]
        }
      ]
    },
    {
      "cell_type": "code",
      "source": [
        "# 11005\n",
        "# 진법 변환: 10진법 수 n을 b진법으로 바꿔 출력\n",
        "\n",
        "n, b = map(int, input().split())\n",
        "num = ''\n",
        "\n",
        "while n != 0:\n",
        "  digit = n % b # 마지막 자리수는 n을 b로 나눈 나머지\n",
        "  if digit >= 10:\n",
        "    digit = chr(digit + 55) # 10 이상이면 아스키코드 사용해서 변환\n",
        "  num += str(digit)\n",
        "  n = n // b # 나머지 제외하고 다시 연산\n",
        "\n",
        "print(num[::-1]) # 낮은 자리수부터 담겨 있으므로 뒤집어서 출력"
      ],
      "metadata": {
        "colab": {
          "base_uri": "https://localhost:8080/"
        },
        "id": "jYBGyKRV4q87",
        "outputId": "f097b521-7dbc-4797-ad18-439bcd068b4e"
      },
      "execution_count": 32,
      "outputs": [
        {
          "output_type": "stream",
          "name": "stdout",
          "text": [
            "60466175 36\n",
            "ZZZZZ\n"
          ]
        }
      ]
    },
    {
      "cell_type": "code",
      "source": [
        "# 2720\n",
        "# 거스름돈으로 줘야 할 quarter, dime, nickel, penny 개수\n",
        "\n",
        "T = int(input()) # number of test case\n",
        "\n",
        "for t in range(T):\n",
        "  c = int(input())\n",
        "  q = c // 25 # number of quarters\n",
        "  c = c % 25\n",
        "  d = c // 10 # number of dimes\n",
        "  c = c % 10\n",
        "  n = c // 5 # number of nickels\n",
        "  p = c % 5 # number of pennies\n",
        "  print(q, d, n, p)"
      ],
      "metadata": {
        "colab": {
          "base_uri": "https://localhost:8080/"
        },
        "id": "DSmLGiin8Lla",
        "outputId": "5b6b5749-5900-4d67-a05b-dc89c8266a5c"
      },
      "execution_count": 33,
      "outputs": [
        {
          "output_type": "stream",
          "name": "stdout",
          "text": [
            "3\n",
            "124\n",
            "4 2 0 4\n",
            "25\n",
            "1 0 0 0\n",
            "194\n",
            "7 1 1 4\n"
          ]
        }
      ]
    },
    {
      "cell_type": "code",
      "source": [
        "# 2903\n",
        "# 각 변의 중앙과 사각형의 중심에 점을 찍는 것을 반복할 때 저장되는 점의 개수\n",
        "# n+1 단계에서 점의 개수는 n 단계 사각형의 변의 개수 + n 단계 사각형의 개수\n",
        "# 근데 (n 단계 윗줄의 점의 개수 * 2 - 1)**2의 규칙을 가지고 있을 것 같은데...\n",
        "# 그렇다면 n단계 점의 개수 = (2**n + 1) ** 2\n",
        "\n",
        "n = int(input())\n",
        "\n",
        "print((2**n + 1)**2)"
      ],
      "metadata": {
        "colab": {
          "base_uri": "https://localhost:8080/"
        },
        "id": "JjMicrJo-NoD",
        "outputId": "8f84b14a-bae5-49ab-b3c4-55b388dfe485"
      },
      "execution_count": 39,
      "outputs": [
        {
          "output_type": "stream",
          "name": "stdout",
          "text": [
            "5\n",
            "1089\n"
          ]
        }
      ]
    }
  ]
}