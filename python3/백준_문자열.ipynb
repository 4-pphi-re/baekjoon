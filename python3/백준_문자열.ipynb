{
  "nbformat": 4,
  "nbformat_minor": 0,
  "metadata": {
    "colab": {
      "provenance": [],
      "authorship_tag": "ABX9TyPjptG717qA4ZKQNajZjbP8",
      "include_colab_link": true
    },
    "kernelspec": {
      "name": "python3",
      "display_name": "Python 3"
    },
    "language_info": {
      "name": "python"
    }
  },
  "cells": [
    {
      "cell_type": "markdown",
      "metadata": {
        "id": "view-in-github",
        "colab_type": "text"
      },
      "source": [
        "<a href=\"https://colab.research.google.com/github/4pphier/baekjoon/blob/main/python3/%EB%B0%B1%EC%A4%80_%EB%AC%B8%EC%9E%90%EC%97%B4.ipynb\" target=\"_parent\"><img src=\"https://colab.research.google.com/assets/colab-badge.svg\" alt=\"Open In Colab\"/></a>"
      ]
    },
    {
      "cell_type": "code",
      "execution_count": 1,
      "metadata": {
        "id": "PM96I1A0V-uF",
        "colab": {
          "base_uri": "https://localhost:8080/"
        },
        "outputId": "81e232a8-4057-48da-8056-63889c9e4287"
      },
      "outputs": [
        {
          "output_type": "stream",
          "name": "stdout",
          "text": [
            "z\n",
            "122\n"
          ]
        }
      ],
      "source": [
        "#11654\n",
        "\n",
        "c = input()\n",
        "print(ord(c))"
      ]
    },
    {
      "cell_type": "code",
      "source": [
        "#11720\n",
        "\n",
        "n = int(input())\n",
        "s = input()\n",
        "sum = 0\n",
        "\n",
        "for char in s:\n",
        "  sum = sum + int(char)\n",
        "\n",
        "print(sum)"
      ],
      "metadata": {
        "id": "25H-zq0fWl2_",
        "colab": {
          "base_uri": "https://localhost:8080/"
        },
        "outputId": "31d1a963-c08b-4c76-da6c-b69e691cb634"
      },
      "execution_count": 2,
      "outputs": [
        {
          "output_type": "stream",
          "name": "stdout",
          "text": [
            "11\n",
            "10987654321\n",
            "46\n"
          ]
        }
      ]
    },
    {
      "cell_type": "code",
      "source": [
        "#10809\n",
        "\n",
        "S = input()\n",
        "alphabet = 'abcdefghijklmnopqrstuvwxyz'\n",
        "index = []\n",
        "\n",
        "for char in alphabet:\n",
        "  if char not in S:\n",
        "    index.append(-1)\n",
        "  else:\n",
        "    for i in range(len(S)):\n",
        "      if char == S[i]:\n",
        "        index.append(i)\n",
        "        break\n",
        "\n",
        "for j in range(len(index)):\n",
        "  print(index[j], end = \" \")"
      ],
      "metadata": {
        "id": "NH0x94_PYEbG",
        "colab": {
          "base_uri": "https://localhost:8080/"
        },
        "outputId": "99df4ffe-62da-45e1-97fb-3c3aa7e61e00"
      },
      "execution_count": 3,
      "outputs": [
        {
          "output_type": "stream",
          "name": "stdout",
          "text": [
            "baekjoon\n",
            "1 0 -1 -1 2 -1 -1 -1 -1 4 3 -1 -1 7 5 -1 -1 -1 -1 -1 -1 -1 -1 -1 -1 -1 "
          ]
        }
      ]
    },
    {
      "cell_type": "code",
      "source": [
        "#2675\n",
        "\n",
        "T = int(input())\n",
        "\n",
        "for i in range(T):\n",
        "  R = 0\n",
        "  S = 0\n",
        "  trs = ''\n",
        "  R, S = input().split()\n",
        "  R = int(R)\n",
        "  for char in S:\n",
        "    trs = trs + char*R\n",
        "  print(trs)"
      ],
      "metadata": {
        "id": "a7hjUk_TbNfa",
        "colab": {
          "base_uri": "https://localhost:8080/"
        },
        "outputId": "8a1e0b8b-304f-4820-e039-3c61f659ce9a"
      },
      "execution_count": 4,
      "outputs": [
        {
          "output_type": "stream",
          "name": "stdout",
          "text": [
            "2\n",
            "3 ABC\n",
            "AAABBBCCC\n",
            "5 /HTP\n",
            "/////HHHHHTTTTTPPPPP\n"
          ]
        }
      ]
    },
    {
      "cell_type": "code",
      "source": [
        "#1157\n",
        "\n",
        "word = input()\n",
        "word_upper = word.upper()\n",
        "w = list(set(word_upper))\n",
        "count = []\n",
        "\n",
        "for i in w:\n",
        "  c = word_upper.count(i)\n",
        "  count.append(c)\n",
        "\n",
        "if count.count(max(count)) > 1:\n",
        "  print(\"?\")\n",
        "else:\n",
        "  print(w[count.index(max(count))])\n"
      ],
      "metadata": {
        "id": "t5pjcDrRdVd5",
        "colab": {
          "base_uri": "https://localhost:8080/"
        },
        "outputId": "98f9aa28-3ebc-4984-fb21-2a0ab94e30dc"
      },
      "execution_count": 9,
      "outputs": [
        {
          "output_type": "stream",
          "name": "stdout",
          "text": [
            "baaa\n",
            "A\n"
          ]
        }
      ]
    },
    {
      "cell_type": "code",
      "source": [
        "#1152\n",
        "\n",
        "sentence = input()\n",
        "space = 0\n",
        "\n",
        "for char in sentence:\n",
        "  if char == ' ':\n",
        "    space = space + 1\n",
        "\n",
        "if sentence[0] == ' ':\n",
        "  space = space - 1\n",
        "\n",
        "if sentence[-1] == ' ':\n",
        "  space = space - 1\n",
        "\n",
        "print(space + 1)"
      ],
      "metadata": {
        "id": "g-L99vKfufxN",
        "colab": {
          "base_uri": "https://localhost:8080/"
        },
        "outputId": "32cb8e70-1c2c-4749-ab50-e469b00d874c"
      },
      "execution_count": 8,
      "outputs": [
        {
          "output_type": "stream",
          "name": "stdout",
          "text": [
            "The Curious Case of Benjamin Button\n",
            "6\n"
          ]
        }
      ]
    },
    {
      "cell_type": "code",
      "source": [
        "#2908\n",
        "\n",
        "A, B = input().split()\n",
        "a_reverse = A[2] + A[1] + A[0]\n",
        "b_reverse = B[2] + B[1] + B[0]\n",
        "\n",
        "if int(a_reverse) > int(b_reverse):\n",
        "  print(a_reverse)\n",
        "else:\n",
        "  print(b_reverse)"
      ],
      "metadata": {
        "id": "yqnfk4QzvmNm",
        "colab": {
          "base_uri": "https://localhost:8080/"
        },
        "outputId": "387e1916-f06e-47f0-fbd6-62574642e673"
      },
      "execution_count": 10,
      "outputs": [
        {
          "output_type": "stream",
          "name": "stdout",
          "text": [
            "839 237\n",
            "938\n"
          ]
        }
      ]
    },
    {
      "cell_type": "code",
      "source": [
        "#5622\n",
        "\n",
        "word = input()\n",
        "abc = 'ABCDEFGHIJKLMNOPQR'\n",
        "stu = 'STUVWXYZ'\n",
        "t = 0\n",
        "\n",
        "for char in word:\n",
        "  if char == 'Z':\n",
        "    t = t + 10\n",
        "  elif char in abc:\n",
        "    for i in range(len(abc)):\n",
        "      if abc[i] == char:\n",
        "        t = t + i // 3 + 3\n",
        "  else:\n",
        "    for j in range(len(stu)):\n",
        "      if stu[j] == char:\n",
        "        t = t + (j-1) // 3 + 9\n",
        "\n",
        "print(t)"
      ],
      "metadata": {
        "id": "55YslMVVaERM",
        "colab": {
          "base_uri": "https://localhost:8080/"
        },
        "outputId": "f45c4e3f-c313-49d6-a8e6-c5b77f2af912"
      },
      "execution_count": 11,
      "outputs": [
        {
          "output_type": "stream",
          "name": "stdout",
          "text": [
            "UNUCIC\n",
            "36\n"
          ]
        }
      ]
    },
    {
      "cell_type": "code",
      "source": [
        "#2941\n",
        "\n",
        "word = input()\n",
        "num = 0\n",
        "\n",
        "for char in word:\n",
        "  if char.isalpha() == True:\n",
        "    num = num + 1\n",
        "\n",
        "if 'nj' in word:\n",
        "  num = num - word.count('nj')\n",
        "\n",
        "if 'lj' in word:\n",
        "  num = num - word.count('lj')\n",
        "\n",
        "if 'dz=' in word:\n",
        "  num = num - word.count('dz=')\n",
        "\n",
        "print(num)"
      ],
      "metadata": {
        "id": "3-CnqPxkzD-Q",
        "colab": {
          "base_uri": "https://localhost:8080/"
        },
        "outputId": "d9bd1092-ebc1-48f5-a814-4e677a0d889b"
      },
      "execution_count": 12,
      "outputs": [
        {
          "output_type": "stream",
          "name": "stdout",
          "text": [
            "dz=ak\n",
            "3\n"
          ]
        }
      ]
    },
    {
      "cell_type": "code",
      "source": [
        "#1316\n",
        "\n",
        "n = int(input())\n",
        "group_word = n\n",
        "\n",
        "for i in range(n):\n",
        "  word = input()\n",
        "  char_list = []\n",
        "  for j in range(len(word)):\n",
        "    if word[j] not in char_list:\n",
        "      char_list.append(word[j])\n",
        "    else:\n",
        "      if word[j] != word[j-1]:\n",
        "        group_word = group_word - 1\n",
        "        break\n",
        "\n",
        "print(group_word)"
      ],
      "metadata": {
        "id": "en6lw_kz1Nd1",
        "colab": {
          "base_uri": "https://localhost:8080/"
        },
        "outputId": "11af82d2-11d4-4a31-b758-d40b5e31fcd9"
      },
      "execution_count": 13,
      "outputs": [
        {
          "output_type": "stream",
          "name": "stdout",
          "text": [
            "9\n",
            "aaa\n",
            "aaazbz\n",
            "babb\n",
            "aazz\n",
            "azbz\n",
            "aabbaa\n",
            "abacc\n",
            "aba\n",
            "zzaz\n",
            "2\n"
          ]
        }
      ]
    },
    {
      "cell_type": "code",
      "source": [
        "# 27866\n",
        "\n",
        "text = input() #문자열 입력\n",
        "i = int(input()) #글자 위치 입력\n",
        "\n",
        "character = text[i-1] #위치는 1부터 시작하므로 1을 빼줌\n",
        "\n",
        "print(character)"
      ],
      "metadata": {
        "colab": {
          "base_uri": "https://localhost:8080/"
        },
        "id": "ZSCAU8gyQQk8",
        "outputId": "512c4483-c388-4485-ef36-a117af333540"
      },
      "execution_count": 15,
      "outputs": [
        {
          "output_type": "stream",
          "name": "stdout",
          "text": [
            "Baekjoon\n",
            "4\n",
            "k\n"
          ]
        }
      ]
    },
    {
      "cell_type": "code",
      "source": [
        "# 2743\n",
        "# 단어의 길이 출력하기\n",
        "\n",
        "text = input()\n",
        "length = len(text)\n",
        "\n",
        "print(length)"
      ],
      "metadata": {
        "colab": {
          "base_uri": "https://localhost:8080/"
        },
        "id": "a1mqKWc3RA87",
        "outputId": "0efe3b52-1781-4bdc-e182-c41e26ab7643"
      },
      "execution_count": 16,
      "outputs": [
        {
          "output_type": "stream",
          "name": "stdout",
          "text": [
            "pulljima\n",
            "8\n"
          ]
        }
      ]
    },
    {
      "cell_type": "code",
      "source": [
        "# 9086\n",
        "# 문자열의 첫 글자와 마지막 글자 출력\n",
        "\n",
        "t = int(input()) # number of test case\n",
        "\n",
        "for i in range(t):\n",
        "  text = input()\n",
        "  first = text[0]\n",
        "  last = text[-1]\n",
        "  print(first+last)"
      ],
      "metadata": {
        "colab": {
          "base_uri": "https://localhost:8080/"
        },
        "id": "TNTb1rTeRSSA",
        "outputId": "efffcad4-33bd-49f5-afa9-a2ccc905a6d1"
      },
      "execution_count": 17,
      "outputs": [
        {
          "output_type": "stream",
          "name": "stdout",
          "text": [
            "3\n",
            "ACDKJFOWIEGHE\n",
            "AE\n",
            "O\n",
            "OO\n",
            "AB\n",
            "AB\n"
          ]
        }
      ]
    },
    {
      "cell_type": "code",
      "source": [
        "# 11718\n",
        "# 입력된대로 출력하기...\n",
        "\n",
        "while True:\n",
        "  try:\n",
        "    text = input()\n",
        "    print(text)\n",
        "  except:\n",
        "    break"
      ],
      "metadata": {
        "colab": {
          "base_uri": "https://localhost:8080/"
        },
        "id": "BHDPvgh-R2kF",
        "outputId": "26923646-59fd-4bb2-a24f-876a57a01d75"
      },
      "execution_count": 21,
      "outputs": [
        {
          "output_type": "stream",
          "name": "stdout",
          "text": [
            "Baekjoon\n",
            "Baekjoon\n",
            "Hello\n",
            "Hello\n",
            "Online Judge\n",
            "Online Judge\n"
          ]
        }
      ]
    }
  ]
}