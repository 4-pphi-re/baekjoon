{
  "nbformat": 4,
  "nbformat_minor": 0,
  "metadata": {
    "colab": {
      "provenance": [],
      "authorship_tag": "ABX9TyP22mcOKODdo+Q0lzu9fnz9",
      "include_colab_link": true
    },
    "kernelspec": {
      "name": "python3",
      "display_name": "Python 3"
    },
    "language_info": {
      "name": "python"
    }
  },
  "cells": [
    {
      "cell_type": "markdown",
      "metadata": {
        "id": "view-in-github",
        "colab_type": "text"
      },
      "source": [
        "<a href=\"https://colab.research.google.com/github/4pphier/baekjoon/blob/main/python3/%EB%B0%B1%EC%A4%80_%ED%95%A8%EC%88%98.ipynb\" target=\"_parent\"><img src=\"https://colab.research.google.com/assets/colab-badge.svg\" alt=\"Open In Colab\"/></a>"
      ]
    },
    {
      "cell_type": "code",
      "execution_count": null,
      "metadata": {
        "id": "wIlmj0rIAld_"
      },
      "outputs": [],
      "source": [
        "#15596\n",
        "\n",
        "def solve(a) -> int:\n",
        "  for i in range(len(a)):\n",
        "    sum = sum + a[i]\n",
        "  return sum"
      ]
    },
    {
      "cell_type": "code",
      "source": [
        "#4673\n",
        "\n",
        "def d(n):\n",
        "  dn = n\n",
        "  for i in range(len(str(n))):\n",
        "    dn = dn + int(str(n)[i])\n",
        "  return dn\n",
        "\n",
        "dn_list = []\n",
        "\n",
        "for i in range (1, 10000):\n",
        "  dn_list.append(d(i))\n",
        " \n",
        "for j in range(1, 10000):\n",
        "    if j not in dn_list:\n",
        "      print(j)"
      ],
      "metadata": {
        "id": "nWlfQf8yCYqp"
      },
      "execution_count": null,
      "outputs": []
    },
    {
      "cell_type": "code",
      "source": [
        "#1065\n",
        "\n",
        "def han(n):\n",
        "  if len(str(n)) < 3 and int(str(n)) > 0:\n",
        "    return True\n",
        "  else:\n",
        "    if int(str(n)[1])*2 == int(str(n)[2]) + int(str(n)[0]):\n",
        "      return True\n",
        "    else:\n",
        "      return False\n",
        "\n",
        "n = int(input())\n",
        "han_list = []\n",
        "\n",
        "for i in range(1, n+1):\n",
        "  han_list.append(han(i))\n",
        "\n",
        "print(han_list.count(True))"
      ],
      "metadata": {
        "id": "No3Fw5ulD-IX"
      },
      "execution_count": null,
      "outputs": []
    }
  ]
}