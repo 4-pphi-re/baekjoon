{
  "nbformat": 4,
  "nbformat_minor": 0,
  "metadata": {
    "colab": {
      "provenance": [],
      "authorship_tag": "ABX9TyPjbDb7jPdbg0Xsh+xGffnf",
      "include_colab_link": true
    },
    "kernelspec": {
      "name": "python3",
      "display_name": "Python 3"
    },
    "language_info": {
      "name": "python"
    }
  },
  "cells": [
    {
      "cell_type": "markdown",
      "metadata": {
        "id": "view-in-github",
        "colab_type": "text"
      },
      "source": [
        "<a href=\"https://colab.research.google.com/github/4-pphi-re/baekjoon/blob/main/python3/class2.ipynb\" target=\"_parent\"><img src=\"https://colab.research.google.com/assets/colab-badge.svg\" alt=\"Open In Colab\"/></a>"
      ]
    },
    {
      "cell_type": "markdown",
      "source": [
        "## essential"
      ],
      "metadata": {
        "id": "j7xZiXC7sa6f"
      }
    },
    {
      "cell_type": "markdown",
      "source": [
        "### 1259번: 팰린드롬수\n",
        "\n",
        "제시된 수가 팰린드롬수면 yes를 출력하고 팰린드롬수가 아니면 no 출력하기"
      ],
      "metadata": {
        "id": "jApEGOQMs2Yl"
      }
    },
    {
      "cell_type": "code",
      "execution_count": null,
      "metadata": {
        "colab": {
          "base_uri": "https://localhost:8080/"
        },
        "id": "BdZWUDSSr4y5",
        "outputId": "986b12ba-1787-4de4-c589-9da94fdabbe6"
      },
      "outputs": [
        {
          "name": "stdout",
          "output_type": "stream",
          "text": [
            "121\n",
            "yes\n",
            "1231\n",
            "no\n",
            "12341\n",
            "no\n",
            "12421\n",
            "yes\n",
            "0\n"
          ]
        }
      ],
      "source": [
        "def palindrom(x):\n",
        "  numlen = len(x)\n",
        "  for i in range(len(x)):\n",
        "    if x[i] != x[numlen-i-1]:\n",
        "      return \"no\"\n",
        "  return \"yes\"\n",
        "\n",
        "while True:\n",
        "  num = input() # 수를 문자열로 취급\n",
        "  if num == \"0\":\n",
        "    break\n",
        "  else:\n",
        "    print(palindrom(num))"
      ]
    },
    {
      "cell_type": "markdown",
      "source": [
        "### 1920번: 수 찾기\n",
        "\n",
        "주어진 N개의 정수 중 X라는 정수가 있는지 알아보기"
      ],
      "metadata": {
        "id": "psusC_GrfVK2"
      }
    },
    {
      "cell_type": "code",
      "source": [
        "n = int(input()) # 정수의 개수\n",
        "numlist = set(map(int, input().split())) # 입력받은 정수 목록을 집합으로\n",
        "m = int(input()) # 찾는 정수의 개수\n",
        "findlist = list(map(int, input().split())) # 찾는 정수 목록\n",
        "\n",
        "# 정수를 찾아보자\n",
        "for i in range(m):\n",
        "  if findlist[i] in numlist:\n",
        "    print(1)\n",
        "  else:\n",
        "    print(0)"
      ],
      "metadata": {
        "colab": {
          "base_uri": "https://localhost:8080/"
        },
        "id": "GoE39_j9fd_t",
        "outputId": "f2d0a870-cdb2-4b41-a830-c536d247e5bc"
      },
      "execution_count": null,
      "outputs": [
        {
          "output_type": "stream",
          "name": "stdout",
          "text": [
            "5\n",
            "4 1 5 2 3\n",
            "5\n",
            "1 3 7 9 5\n",
            "1\n",
            "1\n",
            "0\n",
            "0\n",
            "1\n"
          ]
        }
      ]
    },
    {
      "cell_type": "markdown",
      "source": [
        "### 2164번 : 카드2\n",
        "\n",
        "N장의 카드가 있을 때, 맨 윗장 버리기 $\\to$ 맨 윗장 아래로 내리기 $\\to$ 맨 윗장 버리기 $\\to$ ... 를 반복하면 가장 마지막에 남는 카드는 무엇인가?"
      ],
      "metadata": {
        "id": "YmFZi91Tzo-G"
      }
    },
    {
      "cell_type": "markdown",
      "source": [
        "카드의 맨 위와 아래에서 자료가 처리되므로 deque를 써본다."
      ],
      "metadata": {
        "id": "vy7hfFQIbDrB"
      }
    },
    {
      "cell_type": "code",
      "source": [
        "from collections import deque\n",
        "\n",
        "N = int(input()) # 카드 개수\n",
        "\n",
        "cards = deque([i for i in range(1, N+1)]) # 카드를 덱에 넣기\n",
        "\n",
        "while len(cards) > 0:\n",
        "  if len(cards) == 1:\n",
        "    print(cards[0])\n",
        "    break\n",
        "  else:\n",
        "    cards.popleft()\n",
        "    temp = cards.popleft()\n",
        "    cards.append(temp)\n",
        "    if len(cards) == 1:\n",
        "      print(cards[0])\n",
        "      break"
      ],
      "metadata": {
        "colab": {
          "base_uri": "https://localhost:8080/"
        },
        "id": "cMBD_gRQz-BV",
        "outputId": "907235e0-dc8b-4c66-b55f-c05990df9ad0"
      },
      "execution_count": null,
      "outputs": [
        {
          "output_type": "stream",
          "name": "stdout",
          "text": [
            "6\n",
            "4\n"
          ]
        }
      ]
    },
    {
      "cell_type": "markdown",
      "source": [
        "### 9012번: 괄호\n",
        "\n",
        "괄호 문자열이 올바른 괄호 문자열(VPS)인지 아닌지 판별하기\n",
        "\n"
      ],
      "metadata": {
        "id": "GC281FGbd9MR"
      }
    },
    {
      "cell_type": "markdown",
      "source": [
        "'()'는 VPS이다. <br>\n",
        "x가 VPS라면 (x)는 VPS이다. <br>\n",
        "y또한 VPS라면 xy는 VPS이다. <br>\n",
        "그렇다면 VPS에는 항상 '()'가 포함되어 있으며, '()'를 제거해도 (문자열이 남아 있다면) VPS이지 않을까?"
      ],
      "metadata": {
        "id": "bff-zJlxeOvi"
      }
    },
    {
      "cell_type": "code",
      "source": [
        "def popvps(x):\n",
        "  while True:\n",
        "    for i in range(len(x)-1):\n",
        "      if x[i] == '(' and x[i+1] == ')': # '()' 제거\n",
        "        x.pop(i+1)\n",
        "        x.pop(i)\n",
        "        break # '()' 제거되면 문자열 처음으로 돌아가기\n",
        "    else:\n",
        "      return x # 제거가 완료되면 남은 문자열 반환\n",
        "\n",
        "n = int(input())\n",
        "\n",
        "for i in range(n):\n",
        "  ps = list(input())\n",
        "  validation = popvps(ps)\n",
        "  if len(validation) == 0: # '()'를 제거했을 때 남은 것이 없다 -> VPS\n",
        "    print(\"YES\")\n",
        "  else: # '()'를 제거했을 때 남은 부분이 있다 -> VPS 아님\n",
        "    print(\"NO\")"
      ],
      "metadata": {
        "colab": {
          "base_uri": "https://localhost:8080/"
        },
        "id": "Oi2vZLwAett3",
        "outputId": "afb51505-8345-451f-f2e0-293302cfdbc7"
      },
      "execution_count": null,
      "outputs": [
        {
          "output_type": "stream",
          "name": "stdout",
          "text": [
            "3\n",
            "((\n",
            "NO\n",
            "))\n",
            "NO\n",
            "())(()\n",
            "NO\n"
          ]
        }
      ]
    },
    {
      "cell_type": "markdown",
      "source": [
        "### 10828번: 스택\n",
        "스택 구현하기 <br>\n",
        "스택을 \"구현\"하는 문제에서 deque를 써도 되나 하는 생각은 있지만 일단 만들어보기..."
      ],
      "metadata": {
        "id": "HwjlT2x-e2_y"
      }
    },
    {
      "cell_type": "code",
      "source": [
        "from collections import deque\n",
        "import sys\n",
        "\n",
        "n = int(sys.stdin.readline())\n",
        "# n = int(input())\n",
        "\n",
        "stack = deque([])\n",
        "\n",
        "for i in range(n):\n",
        "  command_line = sys.stdin.readline().split()\n",
        "  # command_line = input().split()\n",
        "  command = command_line[0]\n",
        "  if command == \"push\":\n",
        "    item = command_line[1]\n",
        "    stack.appendleft(item)\n",
        "  elif command == \"pop\":\n",
        "    if len(stack) == 0:\n",
        "      print(-1)\n",
        "    else:\n",
        "      item = stack.popleft()\n",
        "      print(item)\n",
        "  elif command == \"size\":\n",
        "    print(len(stack))\n",
        "  elif command == \"empty\":\n",
        "    if len(stack) == 0:\n",
        "      print(1)\n",
        "    else:\n",
        "      print(0)\n",
        "  elif command == \"top\":\n",
        "    if len(stack) == 0:\n",
        "      print(-1)\n",
        "    else:\n",
        "      item = stack[0]\n",
        "      print(item)"
      ],
      "metadata": {
        "id": "Pu4YyObxe163"
      },
      "execution_count": null,
      "outputs": []
    },
    {
      "cell_type": "markdown",
      "source": [
        "### 10845번: 큐\n",
        "큐를 구현하는 문제"
      ],
      "metadata": {
        "id": "dVpJ9Qup1EZk"
      }
    },
    {
      "cell_type": "code",
      "source": [
        "from collections import deque\n",
        "import sys\n",
        "\n",
        "n = int(sys.stdin.readline())\n",
        "# n = int(input())\n",
        "\n",
        "que = deque([])\n",
        "\n",
        "for i in range(n):\n",
        "  command_line = sys.stdin.readline().split()\n",
        "  # command_line = input().split()\n",
        "  command = command_line[0]\n",
        "  if command == \"push\":\n",
        "    item = command_line[1]\n",
        "    que.append(item)\n",
        "  elif command == \"pop\":\n",
        "    if len(que) == 0:\n",
        "      print(-1)\n",
        "    else:\n",
        "      item = que.popleft()\n",
        "      print(item)\n",
        "  elif command == \"size\":\n",
        "    print(len(que))\n",
        "  elif command == \"empty\":\n",
        "    if len(que) == 0:\n",
        "      print(1)\n",
        "    else:\n",
        "      print(0)\n",
        "  elif command == \"front\":\n",
        "    if len(que) == 0:\n",
        "      print(-1)\n",
        "    else:\n",
        "      print(que[0])\n",
        "  elif command == \"back\":\n",
        "    if len(que) == 0:\n",
        "      print(-1)\n",
        "    else:\n",
        "      print(que[-1])"
      ],
      "metadata": {
        "id": "mJl_eE5f1I-i"
      },
      "execution_count": null,
      "outputs": []
    },
    {
      "cell_type": "markdown",
      "source": [
        "### 11866번: 요세푸스 문제\n",
        "\n",
        "N명이 있는 원에서 k번째를 제거할 때, 제거되는 순서는?"
      ],
      "metadata": {
        "id": "P0jQx-v5jgyL"
      }
    },
    {
      "cell_type": "code",
      "source": [
        "# import sys\n",
        "\n",
        "# N, k = map(int, sys.stdin.readline().split())\n",
        "\n",
        "N, k = map(int, input().split())\n",
        "\n",
        "circle = [i for i in range(1, N+1)]\n",
        "\n",
        "p = []\n",
        "\n",
        "index = 0\n",
        "\n",
        "while len(circle) > 0:\n",
        "  index = (index + k - 1) % len(circle)\n",
        "  ans = circle.pop(index)\n",
        "  p.append(ans)\n",
        "\n",
        "  if len(circle) == 0:\n",
        "    break\n",
        "\n",
        "print(\"<\", end = \"\")\n",
        "for i in range(len(p)-1):\n",
        "  print(f\"{p[i]}, \", end = \"\")\n",
        "print(f\"{p[len(p)-1]}>\")"
      ],
      "metadata": {
        "colab": {
          "base_uri": "https://localhost:8080/"
        },
        "id": "4u2_lfDxjgDg",
        "outputId": "f9bd04ad-9b33-4aa2-f3ce-c0bdcbae5b92"
      },
      "execution_count": null,
      "outputs": [
        {
          "output_type": "stream",
          "name": "stdout",
          "text": [
            "7 3\n",
            "<3, 6, 2, 7, 5, 1, 4>\n"
          ]
        }
      ]
    },
    {
      "cell_type": "markdown",
      "source": [
        "### 30802번: 웰컴 키트\n",
        "\n",
        "티셔츠 T장씩 몇 묶음을 준비해야 하는지와 펜 P자루씩 몇 묶음을 준비해야 하는지"
      ],
      "metadata": {
        "id": "2_XDO_HHqIXV"
      }
    },
    {
      "cell_type": "code",
      "source": [
        "import math\n",
        "import sys\n",
        "\n",
        "n = int(input())\n",
        "size = list(map(int, input().split()))\n",
        "t, p = map(int, input().split())\n",
        "\n",
        "'''n = int(sys.stdin.readline())\n",
        "size = list(map(int, sys.stdin.readline().split()))\n",
        "t, p = map(int, sys.stdin.readline().split())'''\n",
        "\n",
        "# 티셔츠 묶음 수 구하기\n",
        "tshirt = 0\n",
        "\n",
        "for i in range(len(size)):\n",
        "  if size[i] == 0:\n",
        "    continue\n",
        "  else:\n",
        "    tshirt = tshirt + int(math.ceil(size[i]/t))\n",
        "\n",
        "# 펜 묶음 수와 개수 구하기\n",
        "pens = n//p\n",
        "pen = n%p\n",
        "\n",
        "print(tshirt)\n",
        "print(pens, pen)"
      ],
      "metadata": {
        "colab": {
          "base_uri": "https://localhost:8080/"
        },
        "id": "mFGM5-Z5rH8p",
        "outputId": "51beff95-c9e9-4b68-c4aa-8195d4a0209c"
      },
      "execution_count": null,
      "outputs": [
        {
          "output_type": "stream",
          "name": "stdout",
          "text": [
            "23\n",
            "3 1 4 1 5 9\n",
            "5 7\n",
            "7\n",
            "3 2\n"
          ]
        }
      ]
    },
    {
      "cell_type": "markdown",
      "source": [
        "## non essential"
      ],
      "metadata": {
        "id": "VCVLs4AMJpxr"
      }
    },
    {
      "cell_type": "markdown",
      "source": [
        "### 15829번: Hashing\n",
        "\n",
        "해시 함수를 통해 주어진 문자열의 해시값 계산하기"
      ],
      "metadata": {
        "id": "R8oyqSKPJsRK"
      }
    },
    {
      "cell_type": "code",
      "source": [
        "from collections import deque\n",
        "\n",
        "# 그냥 for문에 넣어서 풀 수도 있지만 일단 해시 '함수'라고 하니 함수로 선언해보겠다\n",
        "def hash(x: deque, r: int):\n",
        "  i = 0\n",
        "  ans = 0\n",
        "  while len(x) > 0:\n",
        "    num = x.popleft()\n",
        "    hashnum = num * (r ** i)\n",
        "    ans = ans + hashnum\n",
        "    i = i + 1\n",
        "    if len(x) == 0:\n",
        "      break\n",
        "  return ans\n",
        "\n",
        "# 각 알파벳 별 대응되는 숫자 미리 딕셔너리에 저장\n",
        "chrid = {'a':1, 'b':2, 'c':3, 'd':4, 'e':5, 'f':6, 'g':7, 'h':8, 'i':9, 'j':10, 'k':11, 'l':12, 'm':13, 'n':14, 'o':15, 'p':16, 'q':17, 'r':18, 's':19, 't':20, 'u':21, 'v':22, 'w':23, 'x':24, 'y':25, 'z':26}\n",
        "\n",
        "# 입력\n",
        "n = int(input())\n",
        "string = input()\n",
        "\n",
        "# 문자열의 각 글자를 숫자로 바꾸기\n",
        "idlist = deque([])\n",
        "\n",
        "for i in range(n):\n",
        "  chr = string[i]\n",
        "  chrnum = chrid[chr]\n",
        "  idlist.append(chrnum)\n",
        "\n",
        "# 해시값 계산\n",
        "hashresult = hash(idlist, 31)\n",
        "result = hashresult % 1234567891\n",
        "print(result)"
      ],
      "metadata": {
        "id": "HQrDjIdxjv7E",
        "colab": {
          "base_uri": "https://localhost:8080/"
        },
        "outputId": "696e2a8e-5130-4559-a387-97a44bc21106"
      },
      "execution_count": null,
      "outputs": [
        {
          "output_type": "stream",
          "name": "stdout",
          "text": [
            "1\n",
            "i\n",
            "9\n"
          ]
        }
      ]
    },
    {
      "cell_type": "markdown",
      "source": [
        "### 28702번: FizzBuzz\n",
        "\n",
        "i가 3의 배수이면서 5의 배수이면 FizzBuzz <br>\n",
        "i가 3의 배수이지만 5의 배수가 아니면 Fizz <br>\n",
        "i가 3의 배수가 아니지만 5의 배수면 Buzz <br>\n",
        "i가 3의 배수도 아니고 5의 배수도 아니면 i 그대로 <br>\n",
        "\n",
        "연속한 3개 항이 제시되었을 때, 다음에 올 것을 구하기"
      ],
      "metadata": {
        "id": "65xnMzNrnVfg"
      }
    },
    {
      "cell_type": "markdown",
      "source": [
        "3의 배수와 5의 배수가 조건 $\\to$ 15번째마다 반복. <br>\n",
        "패턴 15개 만들어놓으면 모든 패턴 다 커버 가능하다. <br>"
      ],
      "metadata": {
        "id": "2OnULLqfoCcY"
      }
    },
    {
      "cell_type": "markdown",
      "source": [
        "그래서 패턴을 다 만들어봤다.\n",
        "\n",
        "<table border=\"1\">\n",
        "  <tr>\n",
        "    <th>input</th>\n",
        "    <th>next</th>\n",
        "  </tr>\n",
        "  <tr>\n",
        "    <td>1 2 Fizz</td>\n",
        "    <td>4</td>\n",
        "  </tr>\n",
        "  <tr>\n",
        "    <td>2 Fizz 4</td>\n",
        "    <td>Buzz</td>\n",
        "  </tr>\n",
        "  <tr>\n",
        "    <td>Fizz 5 Buzz</td>\n",
        "    <td>Fizz</td>\n",
        "  </tr>\n",
        "  <tr>\n",
        "    <td>5 Buzz Fizz</td>\n",
        "    <td>7</td>\n",
        "  </tr>\n",
        "  <tr>\n",
        "    <td>Buzz Fizz 7</td>\n",
        "    <td>8</td>\n",
        "  </tr>\n",
        "  <tr>\n",
        "    <td>Fizz 7 8</td>\n",
        "    <td>Fizz</td>\n",
        "  </tr>\n",
        "  <tr>\n",
        "    <td>7 8 Fizz</td>\n",
        "    <td>Buzz</td>\n",
        "  </tr>\n",
        "  <tr>\n",
        "    <td>8 Fizz Buzz</td>\n",
        "    <td>11</td>\n",
        "  </tr>\n",
        "  <tr>\n",
        "    <td>Fizz Buzz 11</td>\n",
        "    <td>Fizz</td>\n",
        "  </tr>\n",
        "  <tr>\n",
        "    <td>Buzz 11 Fizz</td>\n",
        "    <td>13</td>\n",
        "  </tr>\n",
        "  <tr>\n",
        "    <td>11 Fizz 13</td>\n",
        "    <td>14</td>\n",
        "  </tr>\n",
        "  <tr>\n",
        "    <td>Fizz 13 14</td>\n",
        "    <td>FizzBuzz</td>\n",
        "  </tr>\n",
        "  <tr>\n",
        "    <td>13 14 FizzBuzz</td>\n",
        "    <td>16</td>\n",
        "  </tr>\n",
        "  <tr>\n",
        "    <td>14 FizzBuzz 16</td>\n",
        "    <td>17</td>\n",
        "  </tr>\n",
        "  <tr>\n",
        "    <td>FizzBuzz 16 17</td>\n",
        "    <td>Fizz</td>\n",
        "  </tr>\n",
        "</table>"
      ],
      "metadata": {
        "id": "TVWHPIfeq-TT"
      }
    },
    {
      "cell_type": "code",
      "source": [
        "# 입력이 정수면 정수형으로 바꾸기\n",
        "def reduce(x: str):\n",
        "  try:\n",
        "    x = int(x)\n",
        "    # 15로 나눈 나머지로 변환\n",
        "    y = x % 15\n",
        "  except:\n",
        "    y = x\n",
        "  return y\n",
        "\n",
        "# 입력\n",
        "a = input()\n",
        "b = input()\n",
        "c = input()\n",
        "\n",
        "# 패턴 목록\n",
        "pattern_dict = {\n",
        "  '12Fizz': 'ai',\n",
        "  '2Fizz4': 'Buzz',\n",
        "  'Fizz4Buzz': 'Fizz',\n",
        "  '4BuzzFizz': 'ai',\n",
        "  'BuzzFizz7': 'ci',\n",
        "  'Fizz78': 'Fizz',\n",
        "  '78Fizz': 'Buzz',\n",
        "  '8FizzBuzz': 'ai',\n",
        "  'FizzBuzz11': 'Fizz',\n",
        "  'Buzz11Fizz': 'bi',\n",
        "  '11Fizz13': 'ai',\n",
        "  'Fizz1314': 'FizzBuzz',\n",
        "  '1314FizzBuzz': 'ai',\n",
        "  '14FizzBuzz1': 'ai',\n",
        "  'FizzBuzz12': 'Fizz'\n",
        "}\n",
        "\n",
        "# 원하는 형태로 변환\n",
        "a_r = reduce(a)\n",
        "b_r = reduce(b)\n",
        "c_r = reduce(c)\n",
        "\n",
        "# 패턴 찾기\n",
        "previous_pattern = str(a_r)+str(b_r)+str(c_r)\n",
        "next_pattern = pattern_dict[previous_pattern]\n",
        "\n",
        "# 패턴을 다시 답으로 변환\n",
        "if next_pattern == 'ai':\n",
        "  next = int(a) + 3\n",
        "elif next_pattern == 'bi':\n",
        "  next = int(b) + 2\n",
        "elif next_pattern == 'ci':\n",
        "  next = int(c) + 1\n",
        "else:\n",
        "  next = next_pattern\n",
        "\n",
        "print(next)"
      ],
      "metadata": {
        "colab": {
          "base_uri": "https://localhost:8080/"
        },
        "id": "JEpXisIxr1bH",
        "outputId": "5bd95f24-61ed-442d-c034-47d08e18899d"
      },
      "execution_count": null,
      "outputs": [
        {
          "output_type": "stream",
          "name": "stdout",
          "text": [
            "980803\n",
            "980804\n",
            "FizzBuzz\n",
            "980806\n"
          ]
        }
      ]
    },
    {
      "cell_type": "markdown",
      "source": [
        "### 4949번: 균형잡힌 세상\n",
        "\n",
        "모든 소괄호와 대괄호가 짝이 맞는가?"
      ],
      "metadata": {
        "id": "7oXNT35Q7k5B"
      }
    },
    {
      "cell_type": "markdown",
      "source": [
        "9012번이랑 똑같이 풀면 된다...<br>\n",
        "고 생각했는데 무한히 돌아서 스택을 만들어보았다."
      ],
      "metadata": {
        "id": "IHqsEUyq70oK"
      }
    },
    {
      "cell_type": "code",
      "source": [
        "from collections import deque\n",
        "\n",
        "# 균형잡힌 문자열 판별 함수\n",
        "def balanced(x: deque):\n",
        "  # 임시로 괄호를 저장하는 스택\n",
        "  temp = deque([])\n",
        "  while True:\n",
        "     # 문자열이 비어 있으면 중단\n",
        "    if len(x) == 0:\n",
        "      break\n",
        "    else:\n",
        "      # 스택이 비어 있으면 첫 번째 괄호문자 넣기\n",
        "      if len(temp) == 0:\n",
        "        now = x.popleft()\n",
        "        temp.append(now)\n",
        "      # 마지막에 스택에 들어간 괄호와 남은 문자열 중 첫 번째 괄호문자가 짝이 맞으면 pop\n",
        "      else:\n",
        "        if (temp[-1] == \"(\" and x[0] == \")\") or (temp[-1] == \"[\" and x[0] == \"]\"):\n",
        "          temp.pop()\n",
        "          x.popleft()\n",
        "        # 짝이 맞지 않으면 계속 스택 쌓기\n",
        "        else:\n",
        "          now = x.popleft()\n",
        "          temp.append(now)\n",
        "  return temp\n",
        "\n",
        "# 입력 중에서 괄호만 저장하는 함수\n",
        "def bracket(y: str):\n",
        "  brackets = []\n",
        "  for i in range(len(y)):\n",
        "    target = y[i]\n",
        "    if target in (\"(\", \")\", \"[\", \"]\"):\n",
        "      brackets.append(target)\n",
        "  brackets = deque(brackets)\n",
        "  return brackets\n",
        "\n",
        "while True:\n",
        "  # 입력 받기\n",
        "  sentence = input()\n",
        "\n",
        "  # 종료 조건\n",
        "  if sentence == \".\":\n",
        "    break\n",
        "  else:\n",
        "    # 입력한 문장 중 괄호만 저장\n",
        "    brackets = bracket(sentence)\n",
        "\n",
        "    # 균형잡힌 문자열 판별\n",
        "    remaining = balanced(brackets)\n",
        "\n",
        "    # 만약 균형잡힌 문자열이라면 remaining의 길이는 0\n",
        "    if len(remaining) == 0:\n",
        "      print(\"yes\")\n",
        "    else:\n",
        "      print(\"no\")"
      ],
      "metadata": {
        "colab": {
          "base_uri": "https://localhost:8080/"
        },
        "id": "Mi_ymKEN75T5",
        "outputId": "60a8f92a-3c95-4157-cffd-54ff8e19d33d"
      },
      "execution_count": null,
      "outputs": [
        {
          "name": "stdout",
          "output_type": "stream",
          "text": [
            "So when I die (the [first] I will see in (heaven) is a score list).\n",
            "yes\n",
            "[ first in ] ( first out ).\n",
            "yes\n",
            "Half Moon tonight (At least it is better than no Moon at all].\n",
            "no\n",
            "A rope may form )( a trail in a maze.\n",
            "no\n",
            "Help( I[m being held prisoner in a fortune cookie factory)].\n",
            "no\n",
            "([ (([( [ ] ) ( ) (( ))] )) ]).\n",
            "yes\n",
            " .\n",
            "yes\n",
            ".\n"
          ]
        }
      ]
    },
    {
      "cell_type": "markdown",
      "source": [
        "### 10773번: 제로"
      ],
      "metadata": {
        "id": "cfZpq4nNplgK"
      }
    },
    {
      "cell_type": "code",
      "source": [
        "from collections import deque\n",
        "\n",
        "k = int(input())\n",
        "\n",
        "nums = deque([])\n",
        "\n",
        "for i in range(k):\n",
        "  now = int(input())\n",
        "  if now == 0:\n",
        "    nums.pop()\n",
        "  else:\n",
        "    nums.append(now)\n",
        "\n",
        "answer = sum(nums)\n",
        "print(answer)"
      ],
      "metadata": {
        "colab": {
          "base_uri": "https://localhost:8080/"
        },
        "id": "VvksuyYgpofg",
        "outputId": "d578315c-53d0-4b64-965f-4b36944f331f"
      },
      "execution_count": null,
      "outputs": [
        {
          "output_type": "stream",
          "name": "stdout",
          "text": [
            "10\n",
            "1\n",
            "3\n",
            "5\n",
            "4\n",
            "0\n",
            "0\n",
            "7\n",
            "0\n",
            "0\n",
            "6\n",
            "7\n"
          ]
        }
      ]
    },
    {
      "cell_type": "markdown",
      "source": [
        "### 18110번: solved.ac\n",
        "\n",
        "주어진 값들의 30% 절사평균은 얼마인가?"
      ],
      "metadata": {
        "id": "D5OqmdR4yUNl"
      }
    },
    {
      "cell_type": "code",
      "source": [
        "# 그냥 풀어도 상관 없을 것 같은데 n=0일 때 예외를 위해 if문 안에 모든 기능을 다 넣으면 보기 복잡할 것 같아서 필요한 내용을 각각 함수로 구현했다.\n",
        "\n",
        "import math\n",
        "import sys\n",
        "\n",
        "# 모든 의견 받기\n",
        "def get_opinion(n: int):\n",
        "  opinions = [int(sys.stdin.readline()) for i in range(n)]\n",
        "  return opinions\n",
        "\n",
        "# 30% 절사하기\n",
        "def cut_opinion(x: list, n: int):\n",
        "  cut = int(math.floor((n*0.15) + 0.5))\n",
        "  x = sorted(x)\n",
        "  opinion_new = x[cut:n-cut]\n",
        "  return opinion_new\n",
        "\n",
        "n = int(sys.stdin.readline())\n",
        "\n",
        "if n == 0:\n",
        "  print(0)\n",
        "else:\n",
        "  opinions = get_opinion(n)\n",
        "  opinion_new = cut_opinion(opinions, n)\n",
        "  j = len(opinion_new)\n",
        "  if j == 0:\n",
        "    print(0)\n",
        "  else:\n",
        "    level = int(math.floor((sum(opinion_new)/len(opinion_new))+0.5))\n",
        "    print(level)"
      ],
      "metadata": {
        "colab": {
          "base_uri": "https://localhost:8080/"
        },
        "id": "YzpKD-nfygzF",
        "outputId": "1f603a23-e733-49dc-ca3b-a2032f7958b0"
      },
      "execution_count": null,
      "outputs": [
        {
          "output_type": "stream",
          "name": "stdout",
          "text": [
            "10\n",
            "1\n",
            "13\n",
            "12\n",
            "15\n",
            "3\n",
            "16\n",
            "13\n",
            "12\n",
            "14\n",
            "15\n",
            "13\n"
          ]
        }
      ]
    },
    {
      "cell_type": "markdown",
      "source": [
        "### 1966번: 프린터 큐\n",
        "\n",
        "중요도에 따른 우선순위가 고려되었을 때, 특정 문서가 몇 번째에 출력될까?"
      ],
      "metadata": {
        "id": "1xupWVQjL5UQ"
      }
    },
    {
      "cell_type": "code",
      "source": [
        "import sys\n",
        "from collections import deque\n",
        "\n",
        "t = int(input())\n",
        "\n",
        "for i in range(t):\n",
        "  n, m = map(int,sys.stdin.readline().split())\n",
        "  doclist = list(map(int, sys.stdin.readline().split()))\n",
        "  #n, m = map(int, input().split())\n",
        "  #doclist = list(map(int, input().split()))\n",
        "  # 중요도를 확인하고자 하는 문서의 중요도를 다른 변수에 저장하고 리스트에서는 0으로 바꾼다.\n",
        "  target = doclist[m]\n",
        "  doclist[m] = 0\n",
        "  # 빠른 처리를 위해 deque를 사용\n",
        "  doclist = deque(doclist)\n",
        "  order = 0\n",
        "  finished = False\n",
        "  while finished == False:\n",
        "    imp = max(doclist) # 현재 최대 중요도\n",
        "    # 최대 중요도가 확인하고자 하는 문서의 중요도와 같거나 작은 경우, 확인하고자 하는 문서가 출력될 것\n",
        "    if imp <= target:\n",
        "      while not finished:\n",
        "        # 0인 경우(==확인하고자 하는 문서인 경우) 문서 출력하고 종료\n",
        "        if doclist[0] == 0:\n",
        "          order = order + 1\n",
        "          finished = True\n",
        "          break\n",
        "        # 확인하고자 하는 문서와 같은 중요도를 가진 문서가 앞에 오는 경우\n",
        "        elif doclist[0] == target:\n",
        "          order = order + 1\n",
        "          doclist.popleft()\n",
        "        else: # doclist[0] < target인 경우 맨뒤로 보내야 하지만 order에는 영향을 미치지 않으므로 pop\n",
        "          doclist.popleft()\n",
        "    else:\n",
        "      # 현재 최대 중요도를 가진 문서가 나오기 전까지 뒤로 보내기\n",
        "      # 최대 중요도인 문서가 나오면 order를 증가시키고 앞으로 돌아가서 최대 중요도 다시 구하기\n",
        "      while True:\n",
        "        if doclist[0] == imp:\n",
        "          order = order + 1\n",
        "          doclist.popleft()\n",
        "          break\n",
        "        else:\n",
        "          temp = doclist.popleft()\n",
        "          doclist.append(temp)\n",
        "  print(order)"
      ],
      "metadata": {
        "id": "KLhdBgVlMIeY",
        "colab": {
          "base_uri": "https://localhost:8080/"
        },
        "outputId": "dac72a49-55b8-4dbe-9b70-dc3c412e23e8"
      },
      "execution_count": null,
      "outputs": [
        {
          "output_type": "stream",
          "name": "stdout",
          "text": [
            "3\n",
            "1 0\n",
            "5\n",
            "1\n",
            "4 2\n",
            "1 2 3 4\n",
            "2\n",
            "6 0\n",
            "1 1 9 1 1 1\n",
            "2\n"
          ]
        }
      ]
    },
    {
      "cell_type": "markdown",
      "source": [
        "### 1654번: 랜선 자르기\n"
      ],
      "metadata": {
        "id": "_lU363OOEmOw"
      }
    },
    {
      "cell_type": "markdown",
      "source": [
        "감이 안 잡혀서 알고리즘 분류를 보니 이분 탐색, 매개 변수 탐색이라고 한다. <br>\n",
        "\n",
        "이분 탐색: 원하는 값과 데이터의 중간 값을 비교하면서 위쪽이나 아래쪽을 찾는 탐색 방법 <br>\n",
        "매개 변수 탐색: 최적화 문제를 결정 문제로 풀 수 있도록 하는 방법. <br>\n",
        "\n",
        " 이 문제의 경우, 최대 랜선 길이를 탐색하는 문제 -> 구한 길이가 최대 랜선 길이인가?를 판별하는 문제로 바꿀 수 있다."
      ],
      "metadata": {
        "id": "YZ7PaMolvow4"
      }
    },
    {
      "cell_type": "code",
      "source": [
        "import sys\n",
        "\n",
        "k, n = map(int, input().split())\n",
        "lans = [int(input()) for i in range(k)]\n",
        "#lans = [int(sys.stdin.readline()) for i in range(k)]\n",
        "\n",
        "maximum = max(lans)\n",
        "\n",
        "# 랜선을 세는 함수\n",
        "def count_lans(x: int): # x는 랜선 길이\n",
        "  cnt = 0\n",
        "  global lans\n",
        "  x\n",
        "  for l in lans:\n",
        "    temp = l//x\n",
        "    cnt += temp\n",
        "  return cnt\n",
        "\n",
        "# 랜선 길이 정하기\n",
        "def length_lans(a: int, b: int): # 최소 길이, 최대 길이\n",
        "  if a > b:\n",
        "    return b\n",
        "\n",
        "  mid = (a+b) // 2\n",
        "  cnt = count_lans(mid)\n",
        "\n",
        "  global n\n",
        "  if cnt < n: # 필요한 것보다 랜선이 적게 나오면 길이 줄이기\n",
        "    return length_lans(a, mid-1)\n",
        "  else: # 필요한 것 이상으로 랜선이 나오면 길이를 늘려보기\n",
        "    return length_lans(mid+1, b)\n",
        "\n",
        "length = length_lans(1, maximum)\n",
        "print(length)"
      ],
      "metadata": {
        "colab": {
          "base_uri": "https://localhost:8080/"
        },
        "id": "fiQQXVs1ubZC",
        "outputId": "31e6f45a-166b-47c3-d0da-c72a7873334d"
      },
      "execution_count": 1,
      "outputs": [
        {
          "output_type": "stream",
          "name": "stdout",
          "text": [
            "4 11\n",
            "802\n",
            "743\n",
            "457\n",
            "539\n",
            "200\n"
          ]
        }
      ]
    }
  ]
}