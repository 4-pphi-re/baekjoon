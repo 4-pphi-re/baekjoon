{
  "nbformat": 4,
  "nbformat_minor": 0,
  "metadata": {
    "colab": {
      "name": "백준 단계 10",
      "provenance": [],
      "collapsed_sections": [],
      "authorship_tag": "ABX9TyN0sOXLg0MVPm2hn5NhMQnj",
      "include_colab_link": true
    },
    "kernelspec": {
      "name": "python3",
      "display_name": "Python 3"
    },
    "language_info": {
      "name": "python"
    }
  },
  "cells": [
    {
      "cell_type": "markdown",
      "metadata": {
        "id": "view-in-github",
        "colab_type": "text"
      },
      "source": [
        "<a href=\"https://colab.research.google.com/github/4pphier/baekjoon/blob/main/python3/%EB%B0%B1%EC%A4%80_%EB%8B%A8%EA%B3%84_10.ipynb\" target=\"_parent\"><img src=\"https://colab.research.google.com/assets/colab-badge.svg\" alt=\"Open In Colab\"/></a>"
      ]
    },
    {
      "cell_type": "code",
      "execution_count": null,
      "metadata": {
        "id": "NHOQbv4oPN3S"
      },
      "outputs": [],
      "source": [
        "#10872\n",
        "\n",
        "def factorial(x):\n",
        "  if x <= 0:\n",
        "    return 1\n",
        "  else:\n",
        "    return x * factorial(x-1)\n",
        "\n",
        "n = int(input())\n",
        "\n",
        "print(factorial(n))"
      ]
    },
    {
      "cell_type": "code",
      "source": [
        "#10870\n",
        "\n",
        "def fibonacci(x):\n",
        "  if x == 0:\n",
        "    return 0\n",
        "  elif x == 1:\n",
        "    return 1\n",
        "  else:\n",
        "    return fibonacci(x-1) + fibonacci(x-2)\n",
        "\n",
        "n = int(input())\n",
        "\n",
        "print(fibonacci(n))"
      ],
      "metadata": {
        "id": "Q125Ev8vSBhb"
      },
      "execution_count": null,
      "outputs": []
    },
    {
      "cell_type": "code",
      "source": [
        "#2447\n",
        "\n",
        "n = int(input())\n",
        "\n",
        "def star_blank(x):\n",
        "  star = []\n",
        "  for i in range(3*len(x)):\n",
        "    if i // len(x) == 1:\n",
        "      star.append(x[i % len(x)] + \" \" * len(x) + x[i % len(x)])\n",
        "    else:\n",
        "      star.append(x[i % len(x)] * 3)\n",
        "  return star\n",
        "\n",
        "pattern = [\"***\", \"* *\", \"***\"]\n",
        "k = 0\n",
        "\n",
        "while n != 3:\n",
        "  n = int(n/3)\n",
        "  k = k + 1\n",
        "\n",
        "for j in range(k):\n",
        "  pattern = star_blank(pattern)\n",
        "  \n",
        "for p in pattern:\n",
        "   print(p)"
      ],
      "metadata": {
        "id": "5DlORyVcKGFr",
        "colab": {
          "base_uri": "https://localhost:8080/"
        },
        "outputId": "b3da5272-6682-42e4-dbb6-1b1d2523c30e"
      },
      "execution_count": null,
      "outputs": [
        {
          "output_type": "stream",
          "name": "stdout",
          "text": [
            "27\n",
            "***************************\n",
            "* ** ** ** ** ** ** ** ** *\n",
            "***************************\n",
            "***   ******   ******   ***\n",
            "* *   * ** *   * ** *   * *\n",
            "***   ******   ******   ***\n",
            "***************************\n",
            "* ** ** ** ** ** ** ** ** *\n",
            "***************************\n",
            "*********         *********\n",
            "* ** ** *         * ** ** *\n",
            "*********         *********\n",
            "***   ***         ***   ***\n",
            "* *   * *         * *   * *\n",
            "***   ***         ***   ***\n",
            "*********         *********\n",
            "* ** ** *         * ** ** *\n",
            "*********         *********\n",
            "***************************\n",
            "* ** ** ** ** ** ** ** ** *\n",
            "***************************\n",
            "***   ******   ******   ***\n",
            "* *   * ** *   * ** *   * *\n",
            "***   ******   ******   ***\n",
            "***************************\n",
            "* ** ** ** ** ** ** ** ** *\n",
            "***************************\n"
          ]
        }
      ]
    },
    {
      "cell_type": "code",
      "source": [
        "#11729\n",
        "def hanoi(x, tower1, tower2, tower3):\n",
        "  if x == 1:\n",
        "    print(tower1, tower3)\n",
        "  else:\n",
        "    hanoi(x-1, tower1, tower3, tower2)\n",
        "    print(tower1, tower3)\n",
        "    hanoi(x-1, tower2, tower1, tower3)\n",
        "\n",
        "n = int(input())\n",
        "k = 2**n - 1\n",
        "print(k)\n",
        "hanoi(n, 1, 2, 3)"
      ],
      "metadata": {
        "id": "rKJimHDIMYfm",
        "colab": {
          "base_uri": "https://localhost:8080/"
        },
        "outputId": "83e3a35d-399c-4a07-85e4-500d84283bdd"
      },
      "execution_count": null,
      "outputs": [
        {
          "output_type": "stream",
          "name": "stdout",
          "text": [
            "3\n",
            "7\n",
            "1 3\n",
            "1 2\n",
            "3 2\n",
            "1 3\n",
            "2 1\n",
            "2 3\n",
            "1 3\n"
          ]
        }
      ]
    }
  ]
}