{
  "nbformat": 4,
  "nbformat_minor": 0,
  "metadata": {
    "colab": {
      "provenance": [],
      "authorship_tag": "ABX9TyPSZYuJFHqcwvk1lxRTljKb",
      "include_colab_link": true
    },
    "kernelspec": {
      "name": "python3",
      "display_name": "Python 3"
    },
    "language_info": {
      "name": "python"
    }
  },
  "cells": [
    {
      "cell_type": "markdown",
      "metadata": {
        "id": "view-in-github",
        "colab_type": "text"
      },
      "source": [
        "<a href=\"https://colab.research.google.com/github/4pphier/baekjoon/blob/main/python3/%EB%B0%B1%EC%A4%80_%EC%A1%B0%EA%B1%B4%EB%AC%B8.ipynb\" target=\"_parent\"><img src=\"https://colab.research.google.com/assets/colab-badge.svg\" alt=\"Open In Colab\"/></a>"
      ]
    },
    {
      "cell_type": "code",
      "execution_count": 1,
      "metadata": {
        "id": "M77_MKR2MArv",
        "colab": {
          "base_uri": "https://localhost:8080/"
        },
        "outputId": "433aecb5-f90d-430b-d39a-ef3f63a724f0"
      },
      "outputs": [
        {
          "output_type": "stream",
          "name": "stdout",
          "text": [
            "5 5\n",
            "==\n"
          ]
        }
      ],
      "source": [
        "#1330\n",
        "A, B = map(int, input().split())\n",
        "if A > B:\n",
        "  print('>')\n",
        "elif A < B:\n",
        "  print('<')\n",
        "else:\n",
        "  print('==')"
      ]
    },
    {
      "cell_type": "code",
      "source": [
        "#9498\n",
        "score = int(input())\n",
        "if 90 <= score <= 100:\n",
        "  print('A')\n",
        "elif 80 <= score <= 89:\n",
        "  print('B')\n",
        "elif 70 <= score <= 79:\n",
        "  print('C')\n",
        "elif 60 <= score <= 69:\n",
        "  print('D')\n",
        "else:\n",
        "  print('F')"
      ],
      "metadata": {
        "id": "O4ovFBvqM-Ik",
        "colab": {
          "base_uri": "https://localhost:8080/"
        },
        "outputId": "ffedba99-4505-4e40-e1f1-437e30836226"
      },
      "execution_count": 2,
      "outputs": [
        {
          "output_type": "stream",
          "name": "stdout",
          "text": [
            "100\n",
            "A\n"
          ]
        }
      ]
    },
    {
      "cell_type": "code",
      "source": [
        "#2753\n",
        "\n",
        "year = int(input())\n",
        "\n",
        "if year % 400 == 0:\n",
        "  print(\"1\")\n",
        "elif (year % 4 == 0) and (year % 100 != 0):\n",
        "  print(\"1\")\n",
        "else:\n",
        "  print(\"0\")"
      ],
      "metadata": {
        "id": "rAc_RymrITPm",
        "colab": {
          "base_uri": "https://localhost:8080/"
        },
        "outputId": "941cbe5b-81c5-4b87-c003-b60f369a1211"
      },
      "execution_count": 3,
      "outputs": [
        {
          "output_type": "stream",
          "name": "stdout",
          "text": [
            "1999\n",
            "0\n"
          ]
        }
      ]
    },
    {
      "cell_type": "code",
      "source": [
        "#14681\n",
        "\n",
        "x = int(input())\n",
        "y = int(input())\n",
        "\n",
        "if x > 0:\n",
        "  if y > 0:\n",
        "    print(\"1\")\n",
        "  else:\n",
        "    print(\"4\")\n",
        "else:\n",
        "  if y > 0:\n",
        "    print(\"2\")\n",
        "  else:\n",
        "    print(\"3\")"
      ],
      "metadata": {
        "id": "mllMmj9HJXAr",
        "colab": {
          "base_uri": "https://localhost:8080/"
        },
        "outputId": "a52e03ba-81f2-4e38-ad58-7a39c0d84e52"
      },
      "execution_count": 4,
      "outputs": [
        {
          "output_type": "stream",
          "name": "stdout",
          "text": [
            "9\n",
            "-13\n",
            "4\n"
          ]
        }
      ]
    },
    {
      "cell_type": "code",
      "source": [
        "#2884\n",
        "\n",
        "H, M = map(int, input().split())\n",
        "\n",
        "if M >= 45:\n",
        "  m = M-45\n",
        "  print(str(H) + \" \" + str(m))\n",
        "else:\n",
        "  m = 60 - (45-M)\n",
        "  if H == 0:\n",
        "    print(\"23 \" + str(m))\n",
        "  else:\n",
        "    h = H-1\n",
        "    print(str(h) + \" \" + str(m))"
      ],
      "metadata": {
        "id": "drk1NGfgJ7Jo",
        "colab": {
          "base_uri": "https://localhost:8080/"
        },
        "outputId": "d01613d7-c722-4e4d-b090-9230117cbe1b"
      },
      "execution_count": 5,
      "outputs": [
        {
          "output_type": "stream",
          "name": "stdout",
          "text": [
            "23 40\n",
            "22 55\n"
          ]
        }
      ]
    },
    {
      "cell_type": "code",
      "source": [
        "#2525\n",
        "\n",
        "h, m = map(int, input().split())\n",
        "time = int(input())\n",
        "\n",
        "min = (m + time) % 60\n",
        "hour = h + (m + time) // 60\n",
        "\n",
        "if hour > 23:\n",
        "  hour = hour - 24\n",
        "\n",
        "print(hour, min)"
      ],
      "metadata": {
        "id": "1Bz44G5a_hMp",
        "colab": {
          "base_uri": "https://localhost:8080/"
        },
        "outputId": "43eaecf5-9ba9-491e-be5d-e40881216e88"
      },
      "execution_count": 6,
      "outputs": [
        {
          "output_type": "stream",
          "name": "stdout",
          "text": [
            "23 48\n",
            "25\n",
            "0 13\n"
          ]
        }
      ]
    },
    {
      "cell_type": "code",
      "source": [
        "#2480\n",
        "\n",
        "dice = list(map(int, input().split()))\n",
        "\n",
        "if dice[0] == dice[1] == dice[2]:\n",
        "  prize = 10000 + dice[0] * 1000\n",
        "elif dice[0] == dice[1]:\n",
        "  prize = 1000 + dice[0] * 100\n",
        "elif dice[0] == dice[2]:\n",
        "  prize = 1000 + dice[0] * 100\n",
        "elif dice[1] == dice[2]:\n",
        "  prize = 1000 + dice[1] * 100\n",
        "else:\n",
        "  prize = max(dice) * 100\n",
        "\n",
        "print(prize)"
      ],
      "metadata": {
        "id": "pDjaZgcHAk8f",
        "colab": {
          "base_uri": "https://localhost:8080/"
        },
        "outputId": "f249e95d-4b1d-4c8b-fe13-e3b379d1199a"
      },
      "execution_count": 7,
      "outputs": [
        {
          "output_type": "stream",
          "name": "stdout",
          "text": [
            "6 2 5\n",
            "600\n"
          ]
        }
      ]
    }
  ]
}