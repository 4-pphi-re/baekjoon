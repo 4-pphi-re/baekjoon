{
  "nbformat": 4,
  "nbformat_minor": 0,
  "metadata": {
    "colab": {
      "name": "백준 단계 05",
      "provenance": [],
      "collapsed_sections": [],
      "authorship_tag": "ABX9TyMTne2xBXIYvt1do+EmQ05Y",
      "include_colab_link": true
    },
    "kernelspec": {
      "name": "python3",
      "display_name": "Python 3"
    },
    "language_info": {
      "name": "python"
    }
  },
  "cells": [
    {
      "cell_type": "markdown",
      "metadata": {
        "id": "view-in-github",
        "colab_type": "text"
      },
      "source": [
        "<a href=\"https://colab.research.google.com/github/4pphier/baekjoon/blob/main/python3/%EB%B0%B1%EC%A4%80_%EB%8B%A8%EA%B3%84_05.ipynb\" target=\"_parent\"><img src=\"https://colab.research.google.com/assets/colab-badge.svg\" alt=\"Open In Colab\"/></a>"
      ]
    },
    {
      "cell_type": "code",
      "execution_count": null,
      "metadata": {
        "id": "xTtMmwpHeh1x"
      },
      "outputs": [],
      "source": [
        "#10818\n",
        "\n",
        "n = int(input())\n",
        "num = list(map(int, input().split()))\n",
        "print(min(num), max(num))"
      ]
    },
    {
      "cell_type": "code",
      "source": [
        "#2562\n",
        "\n",
        "num = []\n",
        "\n",
        "for i in range(0,9):\n",
        "  num.append(int(input()))\n",
        "\n",
        "m = max(num)\n",
        "print(m)\n",
        "\n",
        "for i in range(1,10):\n",
        "  if num[i-1] == m:\n",
        "    print(i)\n",
        "    break "
      ],
      "metadata": {
        "id": "NRxRCEUT0hPV"
      },
      "execution_count": null,
      "outputs": []
    },
    {
      "cell_type": "code",
      "source": [
        "#2577\n",
        "\n",
        "a = int(input())\n",
        "b = int(input())\n",
        "c = int(input())\n",
        "mul = str(a*b*c)\n",
        "\n",
        "for i in range(0, 10):\n",
        "  print(mul.count(str(i)))\n",
        "  i = i + 1"
      ],
      "metadata": {
        "id": "s5EQXLRg1ZYP"
      },
      "execution_count": null,
      "outputs": []
    },
    {
      "cell_type": "code",
      "source": [
        "#3052\n",
        "\n",
        "rm_list = []\n",
        "\n",
        "for i in range(10):\n",
        "  num = int(input())\n",
        "  rm = num % 42\n",
        "  if rm not in rm_list:\n",
        "    rm_list.append(rm)\n",
        "  \n",
        "print(len(rm_list))"
      ],
      "metadata": {
        "id": "nCtdjzL1z025"
      },
      "execution_count": null,
      "outputs": []
    },
    {
      "cell_type": "code",
      "source": [
        "#1546\n",
        "\n",
        "n = int(input())\n",
        "score = list(map(int, input().split()))\n",
        "max_score = max(score)\n",
        "new_score = []\n",
        "sum = 0\n",
        "\n",
        "for i in range(len(score)):\n",
        "  new = score[i] / max_score * 100\n",
        "  new_score.append(new)\n",
        "\n",
        "for j in range(len(new_score)):\n",
        "  sum = sum + new_score[j]\n",
        "\n",
        "print(sum/len(new_score))"
      ],
      "metadata": {
        "id": "HeuiEnTT5Dzx"
      },
      "execution_count": null,
      "outputs": []
    },
    {
      "cell_type": "code",
      "source": [
        "#8958\n",
        "\n",
        "n = int(input())\n",
        "\n",
        "for i in range(n):\n",
        "  trial_list = []\n",
        "  score = 0\n",
        "  total = 0\n",
        "  trial = input()\n",
        "  for char in trial:\n",
        "    trial_list.append(char)\n",
        "  for response in trial_list:\n",
        "    if response == 'X':\n",
        "      score = 0\n",
        "    else:\n",
        "      score = score + 1\n",
        "      total = total + score\n",
        "  print(total)"
      ],
      "metadata": {
        "id": "td2EZXzdDpbe"
      },
      "execution_count": null,
      "outputs": []
    },
    {
      "cell_type": "code",
      "source": [
        "#4344\n",
        "\n",
        "c = int(input())\n",
        "\n",
        "for i in range(c):\n",
        "  sum = 0\n",
        "  average = 0\n",
        "  over = 0\n",
        "  n = list(map(int, input().split()))\n",
        "  for j in range(1, len(n)):\n",
        "    sum = sum + n[j]\n",
        "  average = sum / n[0]\n",
        "  for k in range(1, len(n)):\n",
        "    if n[k] > average:\n",
        "      over = over + 1\n",
        "  p = over/n[0] * 100\n",
        "  print(\"%.3f\" %p + \"%\")"
      ],
      "metadata": {
        "id": "XYnRJ9-4H6DK"
      },
      "execution_count": null,
      "outputs": []
    }
  ]
}