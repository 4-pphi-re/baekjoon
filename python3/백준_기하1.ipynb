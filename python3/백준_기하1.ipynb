{
  "nbformat": 4,
  "nbformat_minor": 0,
  "metadata": {
    "colab": {
      "name": "백준 기하1",
      "provenance": [],
      "collapsed_sections": [],
      "authorship_tag": "ABX9TyOg67aLplOuPRBWmVmhLLmC",
      "include_colab_link": true
    },
    "kernelspec": {
      "name": "python3",
      "display_name": "Python 3"
    },
    "language_info": {
      "name": "python"
    }
  },
  "cells": [
    {
      "cell_type": "markdown",
      "metadata": {
        "id": "view-in-github",
        "colab_type": "text"
      },
      "source": [
        "<a href=\"https://colab.research.google.com/github/4pphier/baekjoon/blob/main/python3/%EB%B0%B1%EC%A4%80_%EA%B8%B0%ED%95%981.ipynb\" target=\"_parent\"><img src=\"https://colab.research.google.com/assets/colab-badge.svg\" alt=\"Open In Colab\"/></a>"
      ]
    },
    {
      "cell_type": "code",
      "execution_count": null,
      "metadata": {
        "colab": {
          "base_uri": "https://localhost:8080/"
        },
        "id": "b--BgE0wOkS7",
        "outputId": "843428f8-4845-4ce2-d7aa-431e8d820fe2"
      },
      "outputs": [
        {
          "output_type": "stream",
          "name": "stdout",
          "text": [
            "6 2 10 3\n",
            "1\n"
          ]
        }
      ],
      "source": [
        "#1085\n",
        "\n",
        "x, y, w, h = map(int, input().split())\n",
        "\n",
        "up = h - y\n",
        "down = y\n",
        "right = x\n",
        "left = w - x\n",
        "d = min([up, down, right, left])\n",
        "print(d)"
      ]
    },
    {
      "cell_type": "code",
      "source": [
        "#3009\n",
        "\n",
        "x1, y1 = map(int, input().split())\n",
        "x2, y2 = map(int, input().split())\n",
        "x3, y3 = map(int, input().split())\n",
        "\n",
        "if x2 == x3:\n",
        "  x4 = x1\n",
        "elif x1 == x3:\n",
        "  x4 = x2\n",
        "else:\n",
        "  x4 = x3\n",
        "\n",
        "if y2 == y3:\n",
        "  y4 = y1\n",
        "elif y1 == y3:\n",
        "  y4 = y2\n",
        "else:\n",
        "  y4 = y3\n",
        "\n",
        "print(str(x4) + ' ' + str(y4))"
      ],
      "metadata": {
        "colab": {
          "base_uri": "https://localhost:8080/"
        },
        "id": "X6xEWtTROrHM",
        "outputId": "46bb1a2f-023f-4138-ede9-38cbbe2c0b2e"
      },
      "execution_count": null,
      "outputs": [
        {
          "output_type": "stream",
          "name": "stdout",
          "text": [
            "5 5\n",
            "5 7\n",
            "7 5\n",
            "7 7\n"
          ]
        }
      ]
    },
    {
      "cell_type": "code",
      "source": [
        "#4153\n",
        "\n",
        "while True:\n",
        "  triangle = list(map(int, input().split()))\n",
        "  if triangle[0] == 0:\n",
        "    break\n",
        "  else:\n",
        "    triangle.sort()\n",
        "    a = triangle[0]\n",
        "    b = triangle[1]\n",
        "    c = triangle[2]\n",
        "    if c**2 == a**2 + b**2:\n",
        "      print(\"right\")\n",
        "    else:\n",
        "      print(\"wrong\")"
      ],
      "metadata": {
        "colab": {
          "base_uri": "https://localhost:8080/"
        },
        "id": "SVubfSLTOyNO",
        "outputId": "372ea45a-9c2a-438f-ed8b-b1b90c17a556"
      },
      "execution_count": null,
      "outputs": [
        {
          "name": "stdout",
          "output_type": "stream",
          "text": [
            "6 8 10\n",
            "right\n",
            "25 52 60\n",
            "wrong\n",
            "5 12 13\n",
            "right\n",
            "0 0 0\n"
          ]
        }
      ]
    },
    {
      "cell_type": "code",
      "source": [
        "# 3053\n",
        "\n",
        "import math\n",
        "\n",
        "r = int(input())\n",
        "euclid = r**2 * math.pi\n",
        "taxi = r**2 * 2\n",
        "print(euclid)\n",
        "print(taxi)"
      ],
      "metadata": {
        "colab": {
          "base_uri": "https://localhost:8080/"
        },
        "id": "RBFQlGAoO9jY",
        "outputId": "aed004d4-8d42-42e8-ef7e-1d4218f8edf7"
      },
      "execution_count": null,
      "outputs": [
        {
          "output_type": "stream",
          "name": "stdout",
          "text": [
            "1\n",
            "3.141592653589793\n",
            "2\n"
          ]
        }
      ]
    },
    {
      "cell_type": "code",
      "source": [
        "#1002\n",
        "\n",
        "t = int(input())\n",
        "\n",
        "for i in range(t):\n",
        "  x1, y1, r1, x2, y2, r2 = map(int, input().split())\n",
        "  plus = r1 + r2\n",
        "  minus = abs(r2 - r1)\n",
        "  distance = ((x2 - x1)**2 + (y2 - y1)**2)**(1/2)\n",
        "  if x1 == x2 and y1 == y2 and r1 == r2:\n",
        "    print(-1)\n",
        "  elif distance > plus:\n",
        "    print(0)\n",
        "  elif distance == plus:\n",
        "    print(1)\n",
        "  elif distance == minus:\n",
        "    print(1)\n",
        "  elif distance < minus:\n",
        "    print(0)\n",
        "  else:\n",
        "    print(2)"
      ],
      "metadata": {
        "colab": {
          "base_uri": "https://localhost:8080/"
        },
        "id": "9CIhtlqfPEXO",
        "outputId": "e18a87ca-f8be-4054-e5dc-6d0107e25a6d"
      },
      "execution_count": null,
      "outputs": [
        {
          "output_type": "stream",
          "name": "stdout",
          "text": [
            "3\n",
            "0 0 13 40 0 37\n",
            "2\n",
            "0 0 3 0 7 4\n",
            "1\n",
            "1 1 1 1 1 5\n",
            "0\n"
          ]
        }
      ]
    },
    {
      "cell_type": "code",
      "source": [
        "# 2477\n",
        "\n",
        "n = int(input()) # 1제곱미터에서 자라는 참외 개수\n",
        "\n",
        "dir = [] # 방향\n",
        "leng = [] # 길이\n",
        "\n",
        "\n",
        "for i in range(6): # 입력\n",
        "  direction, length = map(int,input().split())\n",
        "  dir.append(direction)\n",
        "  leng.append(length)\n",
        "\n",
        "# 계산을 쉽게 하기 위해 2배로\n",
        "dir = dir * 2\n",
        "leng = leng * 2\n",
        "\n",
        "# 만약 j번째 길이와 j+2번째 길이가 같고\n",
        "# j+1번째 길이와 j+3번째 길이가 같다면\n",
        "# 전체 넓이에서 j+1번째 길이 * j+2번째 길이를 뺀 것이 밭의 넓이\n",
        "\n",
        "for j in range(6):\n",
        "  if dir[j] == dir[j+2] and dir[j+1] == dir[j+3]:\n",
        "    key = [dir[j+1],dir[j+2]]\n",
        "    dele = [leng[j+1], leng[j+2]]\n",
        "    break\n",
        "\n",
        "field = [] # 큰 직사각형의 변\n",
        "\n",
        "# 중복되지 않는 방향으로 가는 길이가 큰 직사각형의 모서리\n",
        "for k in range(6):\n",
        "  if dir[k] not in key:\n",
        "    field.append(leng[k])\n",
        "\n",
        "area = field[0]*field[1] - dele[0]*dele[1]\n",
        "melon = area * n\n",
        "print(melon)"
      ],
      "metadata": {
        "colab": {
          "base_uri": "https://localhost:8080/"
        },
        "id": "qxWsMdRLPRVz",
        "outputId": "f2f0153e-3a61-4cc5-e14f-337a2846f835"
      },
      "execution_count": null,
      "outputs": [
        {
          "output_type": "stream",
          "name": "stdout",
          "text": [
            "7\n",
            "4 50\n",
            "2 160\n",
            "3 30\n",
            "1 60\n",
            "3 20\n",
            "1 100\n",
            "47600\n"
          ]
        }
      ]
    },
    {
      "cell_type": "code",
      "source": [
        "# 1004\n",
        "\n",
        "import math\n",
        "\n",
        "T = int(input()) # 테스트 케이스 개수\n",
        "\n",
        "for t in range(T):\n",
        "  x1, y1, x2, y2 = map(int, input().split()) # 시작점, 도착점\n",
        "  n = int(input()) # 행성의 개수\n",
        "  space = [] # 행성들 담는 리스트\n",
        "  cnt = 0\n",
        "\n",
        "  for i in range(n):\n",
        "    planet = list(map(int, input().split())) # 행성계 정보를 리스트로\n",
        "    space.append(planet)\n",
        "  \n",
        "  for planets in space:\n",
        "    x = planets[0]\n",
        "    y = planets[1]\n",
        "    r = planets[2]\n",
        "\n",
        "    if math.sqrt((x-x1)**2 + (y-y1)**2) < r and math.sqrt((x-x2)**2 + (y-y2)**2) < r:\n",
        "      # 행성계가 시작점과 도착점을 둘 다 포함하고 있다면 횟수 추가하지 않음\n",
        "      continue\n",
        "    \n",
        "    elif math.sqrt((x-x1)**2 + (y-y1)**2) < r or math.sqrt((x-x2)**2 + (y-y2)**2) < r:\n",
        "      # 행성계가 시작점과 도착점 하나만 포함하고 있다면 통과해야 하므로 횟수 추가\n",
        "      cnt = cnt+1\n",
        "\n",
        "  print(cnt)"
      ],
      "metadata": {
        "colab": {
          "base_uri": "https://localhost:8080/"
        },
        "id": "dacGjiFdiPXT",
        "outputId": "4444e65a-352a-42e4-80eb-1437e8decdb6"
      },
      "execution_count": null,
      "outputs": [
        {
          "output_type": "stream",
          "name": "stdout",
          "text": [
            "2\n",
            "-5 1 12 1\n",
            "7\n",
            "1 1 8\n",
            "-3 -1 1\n",
            "2 2 2\n",
            "5 5 1\n",
            "-4 5 1\n",
            "12 1 1\n",
            "12 1 2\n",
            "3\n",
            "-5 1 5 1\n",
            "1\n",
            "0 0 2\n",
            "0\n"
          ]
        }
      ]
    },
    {
      "cell_type": "code",
      "source": [
        "# 1358\n",
        "\n",
        "W, H, X, Y, P = map(int, input().split())\n",
        "# W: 직사각형 너비, H: 직사각형 높이, (X,Y): 직사각형 왼쪽 아래 좌표, P: 선수 수\n",
        "r = int(0.5*H) # 원의 반지름\n",
        "leftx, lefty = X, Y+r # 왼쪽 원 중심\n",
        "rightx, righty = X+W, Y+r # 오른쪽 원 중심\n",
        "cnt = 0\n",
        "\n",
        "for i in range(P):\n",
        "  x, y = map(int, input().split()) # 각 선수의 좌표\n",
        "  if X <= x <= X+W and Y <= y <= Y+H: # 직사각형 영역 안에 있는 경우\n",
        "    cnt += 1\n",
        "  elif ((leftx-x)**2 + (lefty - y)**2) <= r**2: # 왼쪽 반원 안에 있는 경우\n",
        "    cnt += 1\n",
        "  elif ((rightx-x)**2 + (righty - y)**2) <= r**2: # 오른쪽 반원 안에 있는 경우\n",
        "    cnt += 1\n",
        "\n",
        "print(cnt)"
      ],
      "metadata": {
        "colab": {
          "base_uri": "https://localhost:8080/"
        },
        "id": "9AU-52jVeUfO",
        "outputId": "81e9dc4f-b8d2-4c14-e6df-b933c08bf185"
      },
      "execution_count": 6,
      "outputs": [
        {
          "output_type": "stream",
          "name": "stdout",
          "text": [
            "24 100 -62 71 8\n",
            "-63 109\n",
            "-26 164\n",
            "-9 91\n",
            "-113 80\n",
            "-124 75\n",
            "-95 140\n",
            "-89 116\n",
            "-55 113\n",
            "6\n"
          ]
        }
      ]
    }
  ]
}