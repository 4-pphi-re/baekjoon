{
  "nbformat": 4,
  "nbformat_minor": 0,
  "metadata": {
    "colab": {
      "name": "백준 단계 11",
      "provenance": [],
      "authorship_tag": "ABX9TyO7RfrgSModeDCFhtsLQpNq",
      "include_colab_link": true
    },
    "kernelspec": {
      "name": "python3",
      "display_name": "Python 3"
    },
    "language_info": {
      "name": "python"
    }
  },
  "cells": [
    {
      "cell_type": "markdown",
      "metadata": {
        "id": "view-in-github",
        "colab_type": "text"
      },
      "source": [
        "<a href=\"https://colab.research.google.com/github/4pphier/baekjoon/blob/main/python3/%EB%B0%B1%EC%A4%80_%EB%8B%A8%EA%B3%84_11.ipynb\" target=\"_parent\"><img src=\"https://colab.research.google.com/assets/colab-badge.svg\" alt=\"Open In Colab\"/></a>"
      ]
    },
    {
      "cell_type": "code",
      "execution_count": null,
      "metadata": {
        "id": "S4BYA1LuSYa3"
      },
      "outputs": [],
      "source": [
        "#2798\n",
        "\n",
        "n, m = map(int, input().split())\n",
        "card = list(map(int, input().split()))\n",
        "sum = []\n",
        "\n",
        "for i in range(0, n-2):\n",
        "  for j in range(i+1, n-1):\n",
        "    for k in range(j+1, n):\n",
        "      sum.append(card[i] + card[j] + card[k])\n",
        "\n",
        "for s in range(len(sum)):\n",
        "  if sum[s] > m:\n",
        "    sum[s] = 0\n",
        "\n",
        "print(max(sum))"
      ]
    },
    {
      "cell_type": "code",
      "source": [
        "#2231\n",
        "\n",
        "n = int(input())\n",
        "m = 0\n",
        "\n",
        "for i in range(1, n):\n",
        "  sum = 0\n",
        "  stri = str(i)\n",
        "  for digit in stri:\n",
        "    sum = sum + int(digit)\n",
        "  if sum + i == n:\n",
        "    m = i\n",
        "    break\n",
        "\n",
        "print(m)"
      ],
      "metadata": {
        "id": "Pdz-_61r62kY"
      },
      "execution_count": null,
      "outputs": []
    },
    {
      "cell_type": "code",
      "source": [
        "#7568\n",
        "\n",
        "n = int(input())\n",
        "val = []\n",
        "for i in range(n):\n",
        "  val.append(list(map(int, input().split())))\n",
        "\n",
        "for i in range(len(val)):\n",
        "  rank = 1\n",
        "  for j in range(len(val)):\n",
        "    if val[i][0] < val[j][0] and val[i][1] < val[j][1]:\n",
        "      rank = rank+1\n",
        "  print(rank, end = ' ')"
      ],
      "metadata": {
        "id": "iPOZVGyp8N7H"
      },
      "execution_count": null,
      "outputs": []
    },
    {
      "cell_type": "code",
      "source": [
        "#1018\n",
        "\n",
        "n, m = map(int, input().split())\n",
        "board = []\n",
        "\n",
        "for i in range(n):\n",
        "  row = list(input())\n",
        "  board.append(row)\n",
        "\n",
        "\n",
        "white_chess = []\n",
        "black_chess = []\n",
        "\n",
        "for i in range(8):\n",
        "  if i % 2 == 0:\n",
        "    white_chess.append(['W','B','W','B','W','B','W','B'])\n",
        "  else:\n",
        "    white_chess.append(['B','W','B','W','B','W','B','W'])\n",
        "\n",
        "for i in range(8):\n",
        "  if i % 2 == 0:\n",
        "    black_chess.append(['B','W','B','W','B','W','B','W'])\n",
        "  else:\n",
        "    black_chess.append(['W','B','W','B','W','B','W','B'])\n",
        "\n",
        "r = 0\n",
        "c = 0\n",
        "min = 64\n",
        "\n",
        "while (r+8) <= n:\n",
        "  chess = []\n",
        "  countw = 0\n",
        "  countb = 0\n",
        "  for i in range(r, r+8):\n",
        "    lst = []\n",
        "    for j in range(c, c+8):\n",
        "      lst.append(board[i][j])\n",
        "    chess.append(lst)\n",
        "  for k in range(0, 8):\n",
        "    for l in range(0, 8):\n",
        "      if white_chess[k][l] != chess[k][l]:\n",
        "        countw = countw + 1\n",
        "      if black_chess[k][l] != chess[k][l]:\n",
        "        countb = countb + 1\n",
        "  if countw < min:\n",
        "    min = countw\n",
        "  if countb < min:\n",
        "    min = countb\n",
        "  if c + 8 >= m:\n",
        "    r = r + 1\n",
        "    c = 0\n",
        "  else:\n",
        "    c = c + 1\n",
        "\n",
        "print(min)"
      ],
      "metadata": {
        "id": "OHM93SHM4FU8"
      },
      "execution_count": null,
      "outputs": []
    },
    {
      "cell_type": "code",
      "source": [
        "#1436\n",
        "\n",
        "n = int(input())\n",
        "i = 665\n",
        "doom = 0\n",
        "\n",
        "while doom < n:\n",
        "  i = i + 1\n",
        "  if '666' in str(i):\n",
        "    doom = doom+1\n",
        "\n",
        "print(i)"
      ],
      "metadata": {
        "id": "6kPjPUn7-QFk"
      },
      "execution_count": null,
      "outputs": []
    }
  ]
}