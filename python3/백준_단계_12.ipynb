{
  "nbformat": 4,
  "nbformat_minor": 0,
  "metadata": {
    "colab": {
      "name": "백준 단계 12",
      "provenance": [],
      "collapsed_sections": [],
      "authorship_tag": "ABX9TyOFhzSj7mWIZIClket4GHZN",
      "include_colab_link": true
    },
    "kernelspec": {
      "name": "python3",
      "display_name": "Python 3"
    },
    "language_info": {
      "name": "python"
    }
  },
  "cells": [
    {
      "cell_type": "markdown",
      "metadata": {
        "id": "view-in-github",
        "colab_type": "text"
      },
      "source": [
        "<a href=\"https://colab.research.google.com/github/4pphier/baekjoon/blob/main/python3/%EB%B0%B1%EC%A4%80_%EB%8B%A8%EA%B3%84_12.ipynb\" target=\"_parent\"><img src=\"https://colab.research.google.com/assets/colab-badge.svg\" alt=\"Open In Colab\"/></a>"
      ]
    },
    {
      "cell_type": "code",
      "execution_count": null,
      "metadata": {
        "id": "5OkAkrYg0r4Q"
      },
      "outputs": [],
      "source": [
        "#2750\n",
        "\n",
        "n = int(input())\n",
        "num = []\n",
        "for i in range(n):\n",
        "  num.append(int(input()))\n",
        "\n",
        "sort = sorted(num)\n",
        "\n",
        "for j in sort:\n",
        "  print(j)"
      ]
    },
    {
      "cell_type": "code",
      "source": [
        "#2751\n",
        "\n",
        "import sys\n",
        "\n",
        "n = int(input())\n",
        "num = []\n",
        "for i in range(n):\n",
        "  num.append(int(sys.stdin.readline()))\n",
        "\n",
        "sort = sorted(num)\n",
        "\n",
        "for j in sort:\n",
        "  print(j)"
      ],
      "metadata": {
        "id": "HAn1fYuC2Wvr"
      },
      "execution_count": null,
      "outputs": []
    },
    {
      "cell_type": "code",
      "source": [
        "#10989\n",
        "\n",
        "import sys\n",
        "\n",
        "n = int(input())\n",
        "arr = [0] * 10001\n",
        "\n",
        "for i in range(n):\n",
        "  num = int(sys.stdin.readline())\n",
        "  arr[num] = arr[num] + 1\n",
        "\n",
        "for j in range(10001):\n",
        "  if arr[j] != 0:\n",
        "    for k in range(arr[j]):\n",
        "      print(j)"
      ],
      "metadata": {
        "id": "0zY6vzmt0jsY"
      },
      "execution_count": null,
      "outputs": []
    },
    {
      "cell_type": "code",
      "source": [
        "#2108\n",
        "\n",
        "from collections import Counter\n",
        "import sys\n",
        "\n",
        "n = int(input())\n",
        "num_list = []\n",
        "\n",
        "for i in range(n):\n",
        "  num = int(sys.stdin.readline())\n",
        "  num_list.append(num)\n",
        "\n",
        "sort = sorted(num_list)\n",
        "mean = sum(num_list) / n\n",
        "\n",
        "if n % 2 == 0:\n",
        "  median = (sort[int((n/2)-1)] + sort[int(n/2)])/2\n",
        "else:\n",
        "  median = sort[int(n//2)]\n",
        "\n",
        "cnt = Counter(sort)\n",
        "cnt_list = cnt.most_common()\n",
        "\n",
        "if len(cnt_list) == 1:\n",
        "  mode = cnt_list[0][0]\n",
        "else:\n",
        "  if cnt_list[0][1] == cnt_list[1][1]:\n",
        "    mode = cnt_list[1][0]\n",
        "  else:\n",
        "    mode = cnt_list[0][0]\n",
        "\n",
        "scale = sort[n-1] - sort[0]\n",
        "\n",
        "print(round(mean))\n",
        "print(median)\n",
        "print(mode)\n",
        "print(scale)"
      ],
      "metadata": {
        "id": "r3dwFn9wObtv"
      },
      "execution_count": null,
      "outputs": []
    },
    {
      "cell_type": "code",
      "source": [
        "#1427\n",
        "\n",
        "n = input()\n",
        "n_list = []\n",
        "\n",
        "for digit in n:\n",
        "  n_list.append(digit)\n",
        "\n",
        "n_sort = sorted(n_list, reverse=True)\n",
        "\n",
        "for digit in n_sort:\n",
        "  print(digit, end='')"
      ],
      "metadata": {
        "id": "tyYsBN4s04ww"
      },
      "execution_count": null,
      "outputs": []
    },
    {
      "cell_type": "code",
      "source": [
        "#11650\n",
        "\n",
        "n = int(input())\n",
        "co = []\n",
        "\n",
        "for i in range(n):\n",
        "  co.append(list(map(int, input().split())))\n",
        "\n",
        "co_sort = sorted(co)\n",
        "\n",
        "for dot in co_sort:\n",
        "  print(dot[0], dot[1])"
      ],
      "metadata": {
        "id": "EV9Rci4gYN1O"
      },
      "execution_count": null,
      "outputs": []
    },
    {
      "cell_type": "code",
      "source": [
        "#11651\n",
        "\n",
        "n = int(input())\n",
        "co = []\n",
        "\n",
        "for i in range(n):\n",
        "  co.append(list(map(int, input().split())))\n",
        "\n",
        "co_sort = sorted(co, key = lambda x : (x[1],x[0]))\n",
        "\n",
        "for dot in co_sort:\n",
        "  print(dot[0], dot[1])"
      ],
      "metadata": {
        "id": "G0hmEpvGbkWA"
      },
      "execution_count": null,
      "outputs": []
    },
    {
      "cell_type": "code",
      "source": [
        "#1181\n",
        "\n",
        "n = int(input())\n",
        "word = []\n",
        "\n",
        "for i in range(n):\n",
        "  len_word = []\n",
        "  w = input()\n",
        "  len_word = [len(w), w]\n",
        "  if len_word not in word:\n",
        "    word.append(len_word)\n",
        "\n",
        "word_sort = sorted(word)\n",
        "\n",
        "for vocab in word_sort:\n",
        "  print(vocab[1])"
      ],
      "metadata": {
        "id": "dGuSY9wUan9g"
      },
      "execution_count": null,
      "outputs": []
    },
    {
      "cell_type": "code",
      "source": [
        "#10814\n",
        "\n",
        "n = int(input())\n",
        "member_list = []\n",
        "\n",
        "for i in range(n):\n",
        "  age_str, name = input().split()\n",
        "  age = int(age_str)\n",
        "  member = [age, name]\n",
        "  member_list.append(member)\n",
        "\n",
        "member_sort = sorted(member_list, key = lambda x: x[0])\n",
        "\n",
        "for m in member_sort:\n",
        "  print(m[0], m[1])"
      ],
      "metadata": {
        "id": "VQVK-3s4cXlc"
      },
      "execution_count": null,
      "outputs": []
    },
    {
      "cell_type": "code",
      "source": [
        "#18870\n",
        "\n",
        "n = int(input())\n",
        "x = list(map(int, input().split()))\n",
        "x_sort = sorted(set(x))\n",
        "x_dict = {}\n",
        "\n",
        "for i in range(len(x_sort)):\n",
        "  x_dict[x_sort[i]] = i\n",
        "\n",
        "for dot in x:\n",
        "  print(x_dict[dot], end = \" \")"
      ],
      "metadata": {
        "id": "mP35vL5hfxIY"
      },
      "execution_count": null,
      "outputs": []
    }
  ]
}