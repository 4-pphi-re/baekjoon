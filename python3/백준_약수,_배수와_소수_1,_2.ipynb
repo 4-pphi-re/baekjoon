{
  "nbformat": 4,
  "nbformat_minor": 0,
  "metadata": {
    "colab": {
      "provenance": [],
      "authorship_tag": "ABX9TyNZb3bBBhZDhtBb9L0xNME4",
      "include_colab_link": true
    },
    "kernelspec": {
      "name": "python3",
      "display_name": "Python 3"
    },
    "language_info": {
      "name": "python"
    }
  },
  "cells": [
    {
      "cell_type": "markdown",
      "metadata": {
        "id": "view-in-github",
        "colab_type": "text"
      },
      "source": [
        "<a href=\"https://colab.research.google.com/github/4pphier/baekjoon/blob/main/python3/%EB%B0%B1%EC%A4%80_%EC%95%BD%EC%88%98%2C_%EB%B0%B0%EC%88%98%EC%99%80_%EC%86%8C%EC%88%98_1%2C_2.ipynb\" target=\"_parent\"><img src=\"https://colab.research.google.com/assets/colab-badge.svg\" alt=\"Open In Colab\"/></a>"
      ]
    },
    {
      "cell_type": "code",
      "execution_count": null,
      "metadata": {
        "id": "fvToQ0_P4QWU"
      },
      "outputs": [],
      "source": [
        "#1978\n",
        "\n",
        "import math\n",
        "\n",
        "#소수판별함수1\n",
        "#어떤 수가 2이상 제곱근 이하의 어떤 정수로도\n",
        "#나누어떨어지지 않는다면 그 수를 소수라고 판별\n",
        "def isprime(x):\n",
        "  if x == 1:\n",
        "    return False\n",
        "  for i in range(2,int(math.sqrt(x))+1):\n",
        "    if x % i == 0:\n",
        "      return False\n",
        "  return True\n",
        "\n",
        "n = int(input())\n",
        "num = list(map(int, input().split()))\n",
        "prime = 0\n",
        "\n",
        "for k in num:\n",
        "  if isprime(k) == True:\n",
        "    prime = prime + 1\n",
        "\n",
        "print(prime)"
      ]
    },
    {
      "cell_type": "code",
      "source": [
        "#2581\n",
        "\n",
        "import math\n",
        "\n",
        "def isprime(x):\n",
        "  if x == 1:\n",
        "    return False\n",
        "  for i in range(2,int(math.sqrt(x))+1):\n",
        "    if x % i == 0:\n",
        "      return False\n",
        "  return True\n",
        "\n",
        "m = int(input())\n",
        "n = int(input())\n",
        "min = 0\n",
        "sum = 0\n",
        "\n",
        "for i in range(m, n+1):\n",
        "  if isprime(i) == True:\n",
        "    sum = sum + i\n",
        "    min = i\n",
        "    break\n",
        "\n",
        "for j in range(min+1, n+1):\n",
        "  if isprime(j) == True:\n",
        "    sum = sum + j\n",
        "\n",
        "if min == 0:\n",
        "  print(-1)\n",
        "else:\n",
        "  print(sum)\n",
        "  print(min)"
      ],
      "metadata": {
        "id": "1mA1WAhi6trw"
      },
      "execution_count": null,
      "outputs": []
    },
    {
      "cell_type": "code",
      "source": [
        "#11653\n",
        "\n",
        "n = int(input())\n",
        "i = 2\n",
        "\n",
        "while n != 1:\n",
        "  if n % i != 0:\n",
        "    i = i + 1\n",
        "  else:\n",
        "    n = n / i\n",
        "    print(i)"
      ],
      "metadata": {
        "id": "69CDknv78JfN"
      },
      "execution_count": null,
      "outputs": []
    },
    {
      "cell_type": "code",
      "source": [
        "#1929\n",
        "\n",
        "import math\n",
        "\n",
        "m, n = map(int,input().split())\n",
        "\n",
        "def isprime(x):\n",
        "  if x == 1:\n",
        "    return False\n",
        "  for i in range(2,int(math.sqrt(x))+1):\n",
        "    if x % i == 0:\n",
        "      return False\n",
        "  return True\n",
        "\n",
        "for j in range(m, n+1):\n",
        "  if isprime(j) == True:\n",
        "    print(j)"
      ],
      "metadata": {
        "id": "J251N3OW64rz"
      },
      "execution_count": null,
      "outputs": []
    },
    {
      "cell_type": "code",
      "source": [
        "#4948\n",
        "\n",
        "import math\n",
        "\n",
        "#소수판별함수2: 에라토스테네스의 체\n",
        "#2부터 시작하여 자기 자신을 제외한 배수를 모두 제외했을 때\n",
        "#남아 있는 수들이 소수\n",
        "def e_prime(x):\n",
        "  arr = [True for i in range(x+1)]\n",
        "  for j in range(2, int(math.sqrt(x))+1):\n",
        "    if arr[j] == True:\n",
        "      k = 2\n",
        "      while j * k <= x:\n",
        "        arr[j*k] = False\n",
        "        k = k+1\n",
        "  return arr\n",
        "\n",
        "n = int\n",
        "\n",
        "while n != 0:\n",
        "  n = int(input())\n",
        "  if n == 0:\n",
        "    break\n",
        "  else:\n",
        "    prime = e_prime(2*n).count(True) - e_prime(n).count(True)\n",
        "    print(prime)"
      ],
      "metadata": {
        "id": "GiJxI4og8Myh"
      },
      "execution_count": null,
      "outputs": []
    },
    {
      "cell_type": "code",
      "source": [
        "#9020\n",
        "\n",
        "import math\n",
        "\n",
        "def e_prime(x):\n",
        "  arr = [True for i in range(x+1)]\n",
        "  for j in range(2, int(math.sqrt(x))+1):\n",
        "    if arr[j] == True:\n",
        "      k = 2\n",
        "      while j * k <= x:\n",
        "        arr[j*k] = False\n",
        "        k = k+1\n",
        "  return arr\n",
        "\n",
        "t = int(input())\n",
        "\n",
        "for i in range(t):\n",
        "  n = int(input())\n",
        "  prime = e_prime(n)\n",
        "  a = int(math.floor(n/2))\n",
        "  b = n - a\n",
        "  while prime[a] != True or prime[b] != True:\n",
        "    if prime[a] == True and prime[b] == True:\n",
        "      break\n",
        "    else:\n",
        "      a = a-1\n",
        "      b = n-a\n",
        "  print(str(a) + ' ' + str(b))"
      ],
      "metadata": {
        "id": "019Ab5jAPiWe"
      },
      "execution_count": null,
      "outputs": []
    },
    {
      "cell_type": "code",
      "source": [
        "#1085\n",
        "\n",
        "x, y, w, h = map(int, input().split())\n",
        "\n",
        "up = h - y\n",
        "down = y\n",
        "right = x\n",
        "left = w - x\n",
        "d = min([up, down, right, left])\n",
        "print(d)"
      ],
      "metadata": {
        "id": "fON3r8Y4Ue6J"
      },
      "execution_count": null,
      "outputs": []
    },
    {
      "cell_type": "code",
      "source": [
        "#3009\n",
        "\n",
        "x1, y1 = map(int, input().split())\n",
        "x2, y2 = map(int, input().split())\n",
        "x3, y3 = map(int, input().split())\n",
        "\n",
        "if x2 == x3:\n",
        "  x4 = x1\n",
        "elif x1 == x3:\n",
        "  x4 = x2\n",
        "else:\n",
        "  x4 = x3\n",
        "\n",
        "if y2 == y3:\n",
        "  y4 = y1\n",
        "elif y1 == y3:\n",
        "  y4 = y2\n",
        "else:\n",
        "  y4 = y3\n",
        "\n",
        "print(str(x4) + ' ' + str(y4))"
      ],
      "metadata": {
        "id": "9IXI4sPRVlYS"
      },
      "execution_count": null,
      "outputs": []
    },
    {
      "cell_type": "code",
      "source": [
        "#4153\n",
        "\n",
        "while True:\n",
        "  triangle = list(map(int, input().split()))\n",
        "  if triangle[0] == 0:\n",
        "    break\n",
        "  else:\n",
        "    triangle.sort()\n",
        "    a = triangle[0]\n",
        "    b = triangle[1]\n",
        "    c = triangle[2]\n",
        "    if c**2 == a**2 + b**2:\n",
        "      print(\"right\")\n",
        "    else:\n",
        "      print(\"wrong\")"
      ],
      "metadata": {
        "id": "jYT-8T2Cfc7G"
      },
      "execution_count": null,
      "outputs": []
    },
    {
      "cell_type": "code",
      "source": [
        "#3053\n",
        "\n",
        "import math\n",
        "\n",
        "r = int(input())\n",
        "euclid = r**2 * math.pi\n",
        "taxi = r**2 * 2\n",
        "print(euclid)\n",
        "print(taxi)"
      ],
      "metadata": {
        "colab": {
          "base_uri": "https://localhost:8080/"
        },
        "id": "RrqIkGu8hTx5",
        "outputId": "e8ed9dbd-c2ce-4534-be16-2a1bcb7bc20b"
      },
      "execution_count": null,
      "outputs": [
        {
          "output_type": "stream",
          "name": "stdout",
          "text": [
            "42\n",
            "5541.769440932395\n",
            "3528\n"
          ]
        }
      ]
    },
    {
      "cell_type": "code",
      "source": [
        "#1002\n",
        "\n",
        "t = int(input())\n",
        "\n",
        "for i in range(t):\n",
        "  x1, y1, r1, x2, y2, r2 = map(int, input().split())\n",
        "  plus = r1 + r2\n",
        "  minus = abs(r2 - r1)\n",
        "  distance = ((x2 - x1)**2 + (y2 - y1)**2)**(1/2)\n",
        "  if x1 == x2 and y1 == y2 and r1 == r2:\n",
        "    print(-1)\n",
        "  elif distance > plus:\n",
        "    print(0)\n",
        "  elif distance == plus:\n",
        "    print(1)\n",
        "  elif distance == minus:\n",
        "    print(1)\n",
        "  elif distance < minus:\n",
        "    print(0)\n",
        "  else:\n",
        "    print(2)"
      ],
      "metadata": {
        "id": "Y6-XTdq9kXqd"
      },
      "execution_count": null,
      "outputs": []
    },
    {
      "cell_type": "code",
      "source": [
        "# 2501\n",
        "\n",
        "import math\n",
        "\n",
        "n, k = map(int, input().split())\n",
        "q = []\n",
        "\n",
        "for i in range(1, n+1):\n",
        "  if n % i == 0:\n",
        "    q.append(i)\n",
        "\n",
        "if len(q) < k:\n",
        "  print(0)\n",
        "else:\n",
        "  ans = q[k-1]\n",
        "  print(ans)"
      ],
      "metadata": {
        "id": "W8jl6RUTA22u",
        "colab": {
          "base_uri": "https://localhost:8080/"
        },
        "outputId": "224fa654-56b6-4cc7-b76e-4d54e46e96f3"
      },
      "execution_count": null,
      "outputs": [
        {
          "output_type": "stream",
          "name": "stdout",
          "text": [
            "2735 1\n",
            "1\n"
          ]
        }
      ]
    },
    {
      "cell_type": "code",
      "source": [
        "# 9506\n",
        "\n",
        "# 반복문에 쓰기 번거로우니 약수를 구하는 함수를 먼저 만들어보자\n",
        "\n",
        "def get_div(x): # x는 자연수\n",
        "  divs = []\n",
        "  for i in range(1, x):\n",
        "    if x % i == 0:\n",
        "      divs.append(i)\n",
        "  return divs\n",
        "\n",
        "while True:\n",
        "  n = int(input())\n",
        "  if n == -1:\n",
        "    break\n",
        "  else:\n",
        "    divn = get_div(n)\n",
        "    if sum(divn) == n:\n",
        "      print(f\"{n} = 1\", end = \"\")\n",
        "      for j in range(1, len(divn)-1):\n",
        "        print(f\" + {divn[j]}\", end = \"\")\n",
        "      print(f\" + {divn[-1]}\")\n",
        "    else:\n",
        "      print(f\"{n} is NOT perfect.\")\n"
      ],
      "metadata": {
        "colab": {
          "base_uri": "https://localhost:8080/"
        },
        "id": "ysTOoprkfx8l",
        "outputId": "2dccdc1e-8675-4ddc-ebfc-fa72eb3df227"
      },
      "execution_count": null,
      "outputs": [
        {
          "name": "stdout",
          "output_type": "stream",
          "text": [
            "6\n",
            "6 = 1 + 2 + 3\n",
            "12\n",
            "12 is NOT perfect.\n",
            "28\n",
            "28 = 1 + 2 + 4 + 7 + 14\n",
            "-1\n"
          ]
        }
      ]
    },
    {
      "cell_type": "code",
      "source": [
        "# 1934\n",
        "\n",
        "def euclidean(x, y):\n",
        "  a = max(x, y)\n",
        "  b = min(x, y)\n",
        "  q = a // b\n",
        "  r = a % b\n",
        "  if r == 0:\n",
        "    return b\n",
        "  else:\n",
        "    return euclidean(b, r)\n",
        "\n",
        "t = int(input())\n",
        "\n",
        "for i in range(t):\n",
        "  m, n = map(int, input().split())\n",
        "  gcd = euclidean(m, n)\n",
        "  lcm = gcd * (n/gcd) * (m/gcd)\n",
        "  lcm = int(lcm)\n",
        "  print(lcm)"
      ],
      "metadata": {
        "id": "5Od4xMbmlDIs"
      },
      "execution_count": null,
      "outputs": []
    },
    {
      "cell_type": "code",
      "source": [
        "# 13241\n",
        "\n",
        "# 최소공배수 = (a/최대공약수) * (b/최대공약수) * (최대공약수)\n",
        "# 유클리드 호제법\n",
        "# A, B의 최대공약수를 G(A, B)라고 하자.\n",
        "# 이때, A = BQ + R이면 G(A, B) = G(B, R)이다.\n",
        "# 생각을 해보면... G(A, B) = g라고 할 때 A=ag, B=bg 이런 식으로 나타낼 수 있을 것이다.\n",
        "# 그렇다면 ag = bgQ + R\n",
        "# (a-bQ)g = R\n",
        "# 따라서 R도 rg로 나타낼 수 있으므로 G(A, B) = G(B, R)이다.\n",
        "# 문제 설명 보면 유클리드 호제법을 쓰라고 했는데 위에 문제에서 유클리드 호제법을 썼잖아? 그래서 그냥 갖다쓰겠음.\n",
        "\n",
        "def euclidean(x, y):\n",
        "  a = max(x, y)\n",
        "  b = min(x, y)\n",
        "  q = a // b\n",
        "  r = a % b\n",
        "  if r == 0:\n",
        "    return b\n",
        "  else:\n",
        "    return euclidean(b, r)\n",
        "\n",
        "m, n = map(int, input().split())\n",
        "gcd = euclidean(m, n)\n",
        "lcm = gcd * (n/gcd) * (m/gcd)\n",
        "lcm = int(lcm)\n",
        "print(lcm)"
      ],
      "metadata": {
        "colab": {
          "base_uri": "https://localhost:8080/"
        },
        "id": "u9QjvRV9jnG1",
        "outputId": "526e18e4-7e56-45b4-9701-d34f4f409c46"
      },
      "execution_count": null,
      "outputs": [
        {
          "output_type": "stream",
          "name": "stdout",
          "text": [
            "121 199\n",
            "24079\n"
          ]
        }
      ]
    },
    {
      "cell_type": "code",
      "source": [
        "# 1735\n",
        "\n",
        "# (A/B) + (C/D) = (AD + BC) / BD\n",
        "# m/n을 기약분수 p/q로 나타내려면 m, n의 최대공약수로 m, n을 나누어주어야 함\n",
        "\n",
        "a, b = map(int, input().split())\n",
        "c, d = map(int, input().split())\n",
        "m = a*d + b*c\n",
        "n = b*d\n",
        "\n",
        "def euclidean(x, y):\n",
        "  a = max(x, y)\n",
        "  b = min(x, y)\n",
        "  q = a // b\n",
        "  r = a % b\n",
        "  if r == 0:\n",
        "    return b\n",
        "  else:\n",
        "    return euclidean(b, r)\n",
        "\n",
        "gcd = euclidean(m, n)\n",
        "p = str(int(m/gcd))\n",
        "q = str(int(n/gcd))\n",
        "\n",
        "print(p + ' ' + q)"
      ],
      "metadata": {
        "colab": {
          "base_uri": "https://localhost:8080/"
        },
        "id": "HKhivPncnBWr",
        "outputId": "59583682-bde2-48c3-d1e8-ac959e90489b"
      },
      "execution_count": null,
      "outputs": [
        {
          "output_type": "stream",
          "name": "stdout",
          "text": [
            "2 7\n",
            "3 5\n",
            "31 35\n"
          ]
        }
      ]
    },
    {
      "cell_type": "code",
      "source": [
        "# 2485\n",
        "\n",
        "# 가로수 사이의 거리의 최대공약수만큼 거리를 두게 심으면 되겠다\n",
        "\n",
        "import sys\n",
        "\n",
        "# 최대공약수 구하는 함수 위에서 끌어오기\n",
        "def euclidean(x, y):\n",
        "  a = max(x, y)\n",
        "  b = min(x, y)\n",
        "  q = a // b\n",
        "  r = a % b\n",
        "  if r == 0:\n",
        "    return b\n",
        "  else:\n",
        "    return euclidean(b, r)\n",
        "\n",
        "n = int(sys.stdin.readline())\n",
        "# [출처] [Python] [약수, 배수와 소수 2] 백준 2485번 - 가로수 (실버 4)|작성자 프로코딩러 지망생\n",
        "# input()보다 시간 단축이 된다고\n",
        "# 근데 colab에서는 안된다ㅠ\n",
        "\n",
        "tree = []\n",
        "\n",
        "for i in range(n):\n",
        "  t = int(sys.stdin.readline())\n",
        "  tree.append(t)\n",
        "\n",
        "# 일단 가장 가까운 나무와 가장 먼 나무 사이의 거리를 최대공약수(?)의 최초값으로 치자\n",
        "g = tree[-1] - tree[0]\n",
        "\n",
        "# 진짜로 최대공약수 구하기\n",
        "for j in range(len(tree)-1):\n",
        "  distance = tree[j+1] - tree[j]\n",
        "  g = euclidean(distance, g)\n",
        "\n",
        "# 다 심고 나무 개수를 구해보자\n",
        "tree_all = int((tree[-1] - tree[0])/g + 1)\n",
        "\n",
        "# 추가로 심은 나무 개수 - 원래 있던 나무 개수가 더 심어야 되는 나무\n",
        "new = tree_all - len(tree)\n",
        "\n",
        "print(new)\n",
        "\n",
        "# 내가 너무 어렵게 푼 것 같은데 더 좋은 방법 없나..."
      ],
      "metadata": {
        "id": "QLWkIYPlhFk2"
      },
      "execution_count": null,
      "outputs": []
    },
    {
      "cell_type": "code",
      "source": [
        "# 4134\n",
        "\n",
        "import math\n",
        "\n",
        "# 소수 판별 함수\n",
        "# 2부터 루트n까지 쭉 나눠보면 소수인지 아닌지 알 수 있겠지\n",
        "\n",
        "def isprime(x):\n",
        "  if x == 1:\n",
        "    return False\n",
        "  elif x == 0:\n",
        "    return False\n",
        "  for i in range(2, int(math.sqrt(x))+1):\n",
        "    if x % i == 0:\n",
        "      return False\n",
        "  return True\n",
        "\n",
        "# 소수 찾는 함수\n",
        "\n",
        "def findprime(x):\n",
        "  while True:\n",
        "    if isprime(x) == False:\n",
        "      x = x+1\n",
        "      return findprime(x)\n",
        "    else:\n",
        "      return x\n",
        "      break\n",
        "\n",
        "n = int(input())\n",
        "\n",
        "for j in range(n):\n",
        "  num = int(input())\n",
        "  prime = findprime(num)\n",
        "  print(prime)"
      ],
      "metadata": {
        "colab": {
          "base_uri": "https://localhost:8080/"
        },
        "id": "m0vETQgJap48",
        "outputId": "b7f6d195-cc87-4f10-d580-a433ce9c0187"
      },
      "execution_count": null,
      "outputs": [
        {
          "output_type": "stream",
          "name": "stdout",
          "text": [
            "1\n",
            "75\n",
            "79\n"
          ]
        }
      ]
    },
    {
      "cell_type": "code",
      "source": [
        "# 1929\n",
        "\n",
        "import math\n",
        "\n",
        "m, n = map(int,input().split())\n",
        "\n",
        "def isprime(x):\n",
        "  if x == 1:\n",
        "    return False\n",
        "  for i in range(2,int(math.sqrt(x))+1):\n",
        "    if x % i == 0:\n",
        "      return False\n",
        "  return True\n",
        "\n",
        "for j in range(m, n+1):\n",
        "  if isprime(j) == True:\n",
        "    print(j)"
      ],
      "metadata": {
        "id": "J8YLjgXPlQCN"
      },
      "execution_count": null,
      "outputs": []
    },
    {
      "cell_type": "code",
      "source": [
        "# 4948\n",
        "\n",
        "import math\n",
        "\n",
        "def e_prime(x):\n",
        "  arr = [True for i in range(x+1)]\n",
        "  for j in range(2, int(math.sqrt(x))+1):\n",
        "    if arr[j] == True:\n",
        "      k = 2\n",
        "      while j * k <= x:\n",
        "        arr[j*k] = False\n",
        "        k = k+1\n",
        "  return arr\n",
        "\n",
        "n = int\n",
        "\n",
        "while n != 0:\n",
        "  n = int(input())\n",
        "  if n == 0:\n",
        "    break\n",
        "  else:\n",
        "    prime = e_prime(2*n).count(True) - e_prime(n).count(True)\n",
        "    print(prime)"
      ],
      "metadata": {
        "id": "BFXMyXFxlWq5"
      },
      "execution_count": null,
      "outputs": []
    },
    {
      "cell_type": "code",
      "source": [
        "# 17103\n",
        "\n",
        "# 골드바흐의 추측: 2보다 큰 짝수는 두 소수의 합으로 나타낼 수 있다.\n",
        "# 골드바흐 파티션: 이러한 두 소수의 합으로 표현하는 방법\n",
        "# 문제: 주어진 짝수의 골드바흐 파티션의 개수는?\n",
        "\n",
        "import math\n",
        "\n",
        "# 소수 구하는 함수\n",
        "# 시간을 줄이기 위해 에라토스네스의 체를 사용\n",
        "def e_prime(x):\n",
        "  arr = [True for i in range(x+1)]\n",
        "  arr[0] = False\n",
        "  arr[1] = False\n",
        "  for j in range(2, len(arr)):\n",
        "    if arr[j] == True:\n",
        "      k = 2\n",
        "      while j * k <= x:\n",
        "        arr[j*k] = False\n",
        "        k = k+1\n",
        "  return arr\n",
        "\n",
        "test = int(input())\n",
        "\n",
        "for t in range(test):\n",
        "  num = int(input())\n",
        "  cnt = 0\n",
        "  primes = e_prime(num)\n",
        "  for p in range(2, math.ceil(num/2)+1):\n",
        "    q = num-p\n",
        "    if primes[p] == True and primes[q] == True:\n",
        "      cnt = cnt+1\n",
        "  print(cnt)"
      ],
      "metadata": {
        "colab": {
          "base_uri": "https://localhost:8080/"
        },
        "id": "AXnag4a5eV0m",
        "outputId": "2988b41e-7aaf-4ecb-9814-8a0fecc3fa2b"
      },
      "execution_count": null,
      "outputs": [
        {
          "output_type": "stream",
          "name": "stdout",
          "text": [
            "5\n",
            "6\n",
            "1\n",
            "8\n",
            "1\n",
            "10\n",
            "2\n",
            "12\n",
            "1\n",
            "100\n",
            "6\n"
          ]
        }
      ]
    },
    {
      "cell_type": "code",
      "source": [
        "# 13909\n",
        "\n",
        "# 창문이 열려 있으려면 그 창문을 건드린 사람의 수가 홀수여야 함 -> 제곱수\n",
        "# n보다 작거나 같은 제곱수의 개수를 구하면 됨 -> 루트 n의 정수 부분\n",
        "\n",
        "import math\n",
        "\n",
        "n = int(input())\n",
        "\n",
        "cnt = math.floor(math.sqrt(n))\n",
        "\n",
        "print(cnt)"
      ],
      "metadata": {
        "colab": {
          "base_uri": "https://localhost:8080/"
        },
        "id": "Q_G1acFUhSML",
        "outputId": "3947490b-92a0-41f4-81b1-3f4f2586c4c5"
      },
      "execution_count": 2,
      "outputs": [
        {
          "output_type": "stream",
          "name": "stdout",
          "text": [
            "24\n",
            "4\n"
          ]
        }
      ]
    }
  ]
}