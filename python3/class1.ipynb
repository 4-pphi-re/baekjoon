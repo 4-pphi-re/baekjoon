{
  "nbformat": 4,
  "nbformat_minor": 0,
  "metadata": {
    "colab": {
      "provenance": [],
      "authorship_tag": "ABX9TyOrsKsxBfpOUGuIpX3vqryb",
      "include_colab_link": true
    },
    "kernelspec": {
      "name": "python3",
      "display_name": "Python 3"
    },
    "language_info": {
      "name": "python"
    }
  },
  "cells": [
    {
      "cell_type": "markdown",
      "metadata": {
        "id": "view-in-github",
        "colab_type": "text"
      },
      "source": [
        "<a href=\"https://colab.research.google.com/github/4-pphi-re/baekjoon/blob/main/python3/level1.ipynb\" target=\"_parent\"><img src=\"https://colab.research.google.com/assets/colab-badge.svg\" alt=\"Open In Colab\"/></a>"
      ]
    },
    {
      "cell_type": "markdown",
      "source": [
        "### 2475번: 검증수\n",
        "\n",
        "나머지로 검증수 구하기"
      ],
      "metadata": {
        "id": "FHa2tQIfJ1B7"
      }
    },
    {
      "cell_type": "code",
      "execution_count": 1,
      "metadata": {
        "colab": {
          "base_uri": "https://localhost:8080/"
        },
        "id": "eUOsfUtNJyVs",
        "outputId": "77f4e00d-0913-424b-d7e2-2665b9df42dc"
      },
      "outputs": [
        {
          "output_type": "stream",
          "name": "stdout",
          "text": [
            "0 4 2 5 6\n",
            "1\n"
          ]
        }
      ],
      "source": [
        "numlist = list(map(int, input().split()))\n",
        "sums = 0\n",
        "for n in numlist:\n",
        "  sums = sums + n**2\n",
        "verify = sums%10\n",
        "print(verify)"
      ]
    },
    {
      "cell_type": "markdown",
      "source": [
        "### 2920번: 음계\n",
        "\n",
        "주어진 순서가 ascending인지 descending인지 mixed인지 판별하기"
      ],
      "metadata": {
        "id": "VFQ2sS6HKzz_"
      }
    },
    {
      "cell_type": "code",
      "source": [
        "asc = \"1 2 3 4 5 6 7 8\"\n",
        "desc = \"8 7 6 5 4 3 2 1\"\n",
        "\n",
        "play = input()\n",
        "\n",
        "if play == asc:\n",
        "  print(\"ascending\")\n",
        "elif play == desc:\n",
        "  print(\"descending\")\n",
        "else:\n",
        "  print(\"mixed\")"
      ],
      "metadata": {
        "colab": {
          "base_uri": "https://localhost:8080/"
        },
        "id": "7DFOccl6K-D3",
        "outputId": "c87bfb11-e213-4fd8-fa23-3c119f88bcd0"
      },
      "execution_count": 4,
      "outputs": [
        {
          "output_type": "stream",
          "name": "stdout",
          "text": [
            "8 1 7 2 6 3 5 4\n",
            "mixed\n"
          ]
        }
      ]
    },
    {
      "cell_type": "markdown",
      "source": [
        "### 31403번: A+B-C\n",
        "\n",
        "A, B, C가 정수일 때와 문자열일 때 각각 A + B - C의 값을 구하는 문제"
      ],
      "metadata": {
        "id": "ZsbImTiFL0Oz"
      }
    },
    {
      "cell_type": "code",
      "source": [
        "A = input()\n",
        "B = input()\n",
        "C = input()\n",
        "\n",
        "inta = int(A)\n",
        "intb = int(B)\n",
        "intc = int(C)\n",
        "\n",
        "intans = inta + intb - intc\n",
        "\n",
        "strab = A+B\n",
        "intstrab = int(strab)\n",
        "\n",
        "strans = intstrab - intc\n",
        "\n",
        "print(intans)\n",
        "print(strans)"
      ],
      "metadata": {
        "colab": {
          "base_uri": "https://localhost:8080/"
        },
        "id": "TA1M3L963w5Y",
        "outputId": "3b1efd4f-25dd-4ca9-b6ed-3af3ceacb936"
      },
      "execution_count": 1,
      "outputs": [
        {
          "output_type": "stream",
          "name": "stdout",
          "text": [
            "3\n",
            "4\n",
            "5\n",
            "2\n",
            "29\n"
          ]
        }
      ]
    }
  ]
}
