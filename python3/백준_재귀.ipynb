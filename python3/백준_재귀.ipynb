{
  "nbformat": 4,
  "nbformat_minor": 0,
  "metadata": {
    "colab": {
      "provenance": [],
      "collapsed_sections": [],
      "authorship_tag": "ABX9TyOTitmREcXD2qYj3GXTQ6MN",
      "include_colab_link": true
    },
    "kernelspec": {
      "name": "python3",
      "display_name": "Python 3"
    },
    "language_info": {
      "name": "python"
    }
  },
  "cells": [
    {
      "cell_type": "markdown",
      "metadata": {
        "id": "view-in-github",
        "colab_type": "text"
      },
      "source": [
        "<a href=\"https://colab.research.google.com/github/4pphier/baekjoon/blob/main/python3/%EB%B0%B1%EC%A4%80_%EC%9E%AC%EA%B7%80.ipynb\" target=\"_parent\"><img src=\"https://colab.research.google.com/assets/colab-badge.svg\" alt=\"Open In Colab\"/></a>"
      ]
    },
    {
      "cell_type": "code",
      "execution_count": null,
      "metadata": {
        "id": "NHOQbv4oPN3S",
        "colab": {
          "base_uri": "https://localhost:8080/"
        },
        "outputId": "cde78a90-53fd-4771-e7cc-48500e21008c"
      },
      "outputs": [
        {
          "output_type": "stream",
          "name": "stdout",
          "text": [
            "5\n",
            "120\n"
          ]
        }
      ],
      "source": [
        "#10872\n",
        "\n",
        "def factorial(x):\n",
        "  if x <= 0:\n",
        "    return 1\n",
        "  else:\n",
        "    return x * factorial(x-1)\n",
        "\n",
        "n = int(input())\n",
        "\n",
        "print(factorial(n))"
      ]
    },
    {
      "cell_type": "code",
      "source": [
        "#10870\n",
        "\n",
        "def fibonacci(x):\n",
        "  if x == 0:\n",
        "    return 0\n",
        "  elif x == 1:\n",
        "    return 1\n",
        "  else:\n",
        "    return fibonacci(x-1) + fibonacci(x-2)\n",
        "\n",
        "n = int(input())\n",
        "\n",
        "print(fibonacci(n))"
      ],
      "metadata": {
        "id": "Q125Ev8vSBhb",
        "colab": {
          "base_uri": "https://localhost:8080/"
        },
        "outputId": "2c9cd992-2afd-47fd-cb37-2913f485d3f4"
      },
      "execution_count": null,
      "outputs": [
        {
          "output_type": "stream",
          "name": "stdout",
          "text": [
            "10\n",
            "55\n"
          ]
        }
      ]
    },
    {
      "cell_type": "code",
      "source": [
        "#2447\n",
        "\n",
        "n = int(input())\n",
        "\n",
        "def star_blank(x):\n",
        "  star = []\n",
        "  for i in range(3*len(x)):\n",
        "    if i // len(x) == 1:\n",
        "      star.append(x[i % len(x)] + \" \" * len(x) + x[i % len(x)])\n",
        "    else:\n",
        "      star.append(x[i % len(x)] * 3)\n",
        "  return star\n",
        "\n",
        "pattern = [\"***\", \"* *\", \"***\"]\n",
        "k = 0\n",
        "\n",
        "while n != 3:\n",
        "  n = int(n/3)\n",
        "  k = k + 1\n",
        "\n",
        "for j in range(k):\n",
        "  pattern = star_blank(pattern)\n",
        "  \n",
        "for p in pattern:\n",
        "   print(p)"
      ],
      "metadata": {
        "id": "5DlORyVcKGFr",
        "colab": {
          "base_uri": "https://localhost:8080/"
        },
        "outputId": "b3da5272-6682-42e4-dbb6-1b1d2523c30e"
      },
      "execution_count": null,
      "outputs": [
        {
          "output_type": "stream",
          "name": "stdout",
          "text": [
            "27\n",
            "***************************\n",
            "* ** ** ** ** ** ** ** ** *\n",
            "***************************\n",
            "***   ******   ******   ***\n",
            "* *   * ** *   * ** *   * *\n",
            "***   ******   ******   ***\n",
            "***************************\n",
            "* ** ** ** ** ** ** ** ** *\n",
            "***************************\n",
            "*********         *********\n",
            "* ** ** *         * ** ** *\n",
            "*********         *********\n",
            "***   ***         ***   ***\n",
            "* *   * *         * *   * *\n",
            "***   ***         ***   ***\n",
            "*********         *********\n",
            "* ** ** *         * ** ** *\n",
            "*********         *********\n",
            "***************************\n",
            "* ** ** ** ** ** ** ** ** *\n",
            "***************************\n",
            "***   ******   ******   ***\n",
            "* *   * ** *   * ** *   * *\n",
            "***   ******   ******   ***\n",
            "***************************\n",
            "* ** ** ** ** ** ** ** ** *\n",
            "***************************\n"
          ]
        }
      ]
    },
    {
      "cell_type": "code",
      "source": [
        "#11729\n",
        "def hanoi(x, tower1, tower2, tower3):\n",
        "  if x == 1:\n",
        "    print(tower1, tower3)\n",
        "  else:\n",
        "    hanoi(x-1, tower1, tower3, tower2)\n",
        "    print(tower1, tower3)\n",
        "    hanoi(x-1, tower2, tower1, tower3)\n",
        "\n",
        "n = int(input())\n",
        "k = 2**n - 1\n",
        "print(k)\n",
        "hanoi(n, 1, 2, 3)"
      ],
      "metadata": {
        "id": "rKJimHDIMYfm",
        "colab": {
          "base_uri": "https://localhost:8080/"
        },
        "outputId": "83e3a35d-399c-4a07-85e4-500d84283bdd"
      },
      "execution_count": null,
      "outputs": [
        {
          "output_type": "stream",
          "name": "stdout",
          "text": [
            "3\n",
            "7\n",
            "1 3\n",
            "1 2\n",
            "3 2\n",
            "1 3\n",
            "2 1\n",
            "2 3\n",
            "1 3\n"
          ]
        }
      ]
    },
    {
      "cell_type": "code",
      "source": [
        "# 17478\n",
        "\n",
        "n = int(input())\n",
        "\n",
        "print('어느 한 컴퓨터공학과 학생이 유명한 교수님을 찾아가 물었다.')\n",
        "\n",
        "for i in range(n+1):\n",
        "  if i == n:\n",
        "    print(i * '____' + '\"재귀함수가 뭔가요?\"')\n",
        "    print(i * '____' + '\"재귀함수는 자기 자신을 호출하는 함수라네\"')\n",
        "  else:\n",
        "    print(i * '____' + '\"재귀함수가 뭔가요?\"')\n",
        "    print(i * '____' + '\"잘 들어보게. 옛날옛날 한 산 꼭대기에 이세상 모든 지식을 통달한 선인이 있었어.')\n",
        "    print(i * '____' + '마을 사람들은 모두 그 선인에게 수많은 질문을 했고, 모두 지혜롭게 대답해 주었지.')\n",
        "    print(i * '____' + '그의 답은 대부분 옳았다고 하네. 그런데 어느 날, 그 선인에게 한 선비가 찾아와서 물었어.\"')\n",
        "\n",
        "for j in range(n+1):\n",
        "  print((n - j) * '____' + '라고 답변하였지.')"
      ],
      "metadata": {
        "colab": {
          "base_uri": "https://localhost:8080/"
        },
        "id": "h8nulPM8rO65",
        "outputId": "cbe5322a-db2e-4373-e5a2-ae7eba1a4b02"
      },
      "execution_count": null,
      "outputs": [
        {
          "output_type": "stream",
          "name": "stdout",
          "text": [
            "2\n",
            "어느 한 컴퓨터공학과 학생이 유명한 교수님을 찾아가 물었다.\n",
            "\"재귀함수가 뭔가요?\"\n",
            "\"잘 들어보게. 옛날옛날 한 산 꼭대기에 이세상 모든 지식을 통달한 선인이 있었어.\n",
            "마을 사람들은 모두 그 선인에게 수많은 질문을 했고, 모두 지혜롭게 대답해 주었지.\n",
            "그의 답은 대부분 옳았다고 하네. 그런데 어느 날, 그 선인에게 한 선비가 찾아와서 물었어.\"\n",
            "____\"재귀함수가 뭔가요?\"\n",
            "____\"잘 들어보게. 옛날옛날 한 산 꼭대기에 이세상 모든 지식을 통달한 선인이 있었어.\n",
            "____마을 사람들은 모두 그 선인에게 수많은 질문을 했고, 모두 지혜롭게 대답해 주었지.\n",
            "____그의 답은 대부분 옳았다고 하네. 그런데 어느 날, 그 선인에게 한 선비가 찾아와서 물었어.\"\n",
            "________\"재귀함수가 뭔가요?\"\n",
            "________\"재귀함수는 자기 자신을 호출하는 함수라네\"\n",
            "________라고 답변하였지.\n",
            "____라고 답변하였지.\n",
            "라고 답변하였지.\n"
          ]
        }
      ]
    },
    {
      "cell_type": "code",
      "source": [
        "# 25501\n",
        "\n",
        "T = int(input())\n",
        "\n",
        "def isPalindrome(x, cnt):\n",
        "  cnt += 1\n",
        "  if len(x) == 0 or len(x) == 1:\n",
        "    return 1, cnt\n",
        "  elif x[0] != x[-1]:\n",
        "    return 0, cnt\n",
        "  else:\n",
        "    newstring = x[1:-1]\n",
        "    return isPalindrome(newstring, cnt)\n",
        "\n",
        "for i in range(T):\n",
        "  S = input()\n",
        "  p = isPalindrome(S, 0)\n",
        "  truthvalue = p[0]\n",
        "  count = p[1]\n",
        "  print(truthvalue, count)"
      ],
      "metadata": {
        "colab": {
          "base_uri": "https://localhost:8080/"
        },
        "id": "8dDsaIhDl8q6",
        "outputId": "fda6b014-1cd1-468f-bafc-86deff878f55"
      },
      "execution_count": 13,
      "outputs": [
        {
          "output_type": "stream",
          "name": "stdout",
          "text": [
            "5\n",
            "AAA\n",
            "1 2\n",
            "ABBA\n",
            "1 3\n",
            "ABABA\n",
            "1 3\n",
            "ABCA\n",
            "0 2\n",
            "PALINDROME\n",
            "0 1\n"
          ]
        }
      ]
    }
  ]
}