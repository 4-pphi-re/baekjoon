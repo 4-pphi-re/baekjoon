{
  "nbformat": 4,
  "nbformat_minor": 0,
  "metadata": {
    "colab": {
      "name": "백준 단계 08",
      "provenance": [],
      "collapsed_sections": [],
      "authorship_tag": "ABX9TyOV65SJRnd/FkKXyR8/VzEe",
      "include_colab_link": true
    },
    "kernelspec": {
      "name": "python3",
      "display_name": "Python 3"
    },
    "language_info": {
      "name": "python"
    }
  },
  "cells": [
    {
      "cell_type": "markdown",
      "metadata": {
        "id": "view-in-github",
        "colab_type": "text"
      },
      "source": [
        "<a href=\"https://colab.research.google.com/github/4pphier/baekjoon/blob/main/python3/%EB%B0%B1%EC%A4%80_%EB%8B%A8%EA%B3%84_08.ipynb\" target=\"_parent\"><img src=\"https://colab.research.google.com/assets/colab-badge.svg\" alt=\"Open In Colab\"/></a>"
      ]
    },
    {
      "cell_type": "code",
      "execution_count": null,
      "metadata": {
        "id": "dVDc6lWKJKE5"
      },
      "outputs": [],
      "source": [
        "#1712\n",
        "\n",
        "import math\n",
        "\n",
        "a, b, c = map(int, input().split())\n",
        "\n",
        "if c <= b:\n",
        "  bep = -1\n",
        "else:\n",
        "  n = a/(c-b)\n",
        "  if n == int(n):\n",
        "    bep = int(n + 1)\n",
        "  else:\n",
        "    bep = int(math.ceil(n))\n",
        "\n",
        "print(bep)"
      ]
    },
    {
      "cell_type": "code",
      "source": [
        "#2292\n",
        "\n",
        "n = int(input())\n",
        "i = 0\n",
        "\n",
        "def bee(k):\n",
        "  return(3*(k**2) + 3*k + 1)\n",
        "\n",
        "while bee(i) < n:\n",
        "  i = i + 1\n",
        "  if bee(i) >= n:\n",
        "    print(i+1)\n",
        "\n",
        "if n == 1:\n",
        "  print(n)"
      ],
      "metadata": {
        "id": "Tcr1DVW4GGpB"
      },
      "execution_count": null,
      "outputs": []
    },
    {
      "cell_type": "code",
      "source": [
        "#1193\n",
        "\n",
        "x = int(input())\n",
        "\n",
        "i = 0\n",
        "sum = 0\n",
        "\n",
        "while sum < x:\n",
        "  i = i + 1\n",
        "  sum = sum + i\n",
        "  if sum >= x:\n",
        "    line = i+1\n",
        "    position = x - sum + i\n",
        "    if line % 2 == 0:\n",
        "      print(str(line-position) + \"/\" + str(position))\n",
        "    else:\n",
        "      print(str(position) + \"/\" + str(line-position))"
      ],
      "metadata": {
        "id": "9uAlL_Z5KPxX"
      },
      "execution_count": null,
      "outputs": []
    },
    {
      "cell_type": "code",
      "source": [
        "#2869\n",
        "\n",
        "import math\n",
        "a,b,v = map(int,input().split())\n",
        "d = math.ceil((v-b)/(a-b))\n",
        "print(d)"
      ],
      "metadata": {
        "id": "2ZXK_nGTefSq"
      },
      "execution_count": null,
      "outputs": []
    },
    {
      "cell_type": "code",
      "source": [
        "#10250\n",
        "\n",
        "t = int(input())\n",
        "\n",
        "for m in range(t):\n",
        "  h, w, n = map(int, input().split())\n",
        "  if n % h == 0:\n",
        "    num = n // h\n",
        "    floor = h\n",
        "  else:\n",
        "    num = n // h + 1\n",
        "    floor = n % h\n",
        "\n",
        "  if num < 10:\n",
        "    print(str(floor) + '0' + str(num))\n",
        "  else:\n",
        "    print(str(floor) + str(num))"
      ],
      "metadata": {
        "colab": {
          "base_uri": "https://localhost:8080/"
        },
        "id": "sTgiroTDbTmi",
        "outputId": "3951d9dd-4608-442f-b146-ce2f459d715b"
      },
      "execution_count": null,
      "outputs": [
        {
          "output_type": "stream",
          "name": "stdout",
          "text": [
            "2\n",
            "5 3 5\n",
            "501\n",
            "6 12 10\n",
            "402\n"
          ]
        }
      ]
    },
    {
      "cell_type": "code",
      "source": [
        "#2775\n",
        "#백준 사이트에서는 numpy를 사용할 수 없어 오답으로 처리됨\n",
        "\n",
        "'''import numpy as np'''\n",
        "t = int(input())\n",
        "\n",
        "for i in range(t):\n",
        "  k = int(input())\n",
        "  n = int(input())\n",
        "  '''apt = np.zeros((k+1,n))\n",
        "\n",
        "  for j in range(n):\n",
        "    apt[0,j] = j+1\n",
        "\n",
        "  for col in range(1,k+1):\n",
        "    for row in range(n):\n",
        "      sum = 0\n",
        "      for r in range(row+1):\n",
        "        sum = sum + apt[col-1,r]\n",
        "      apt[col,row] = sum\n",
        "  print(int(apt[k,n-1]))'''\n",
        "\n",
        "  apt = []\n",
        "\n",
        "  for j in range(k+1):\n",
        "    line = []\n",
        "    for l in range(n):\n",
        "      line.append(0)\n",
        "    apt.append(line)\n",
        "\n",
        "  for j in range(n):\n",
        "    apt[0][j] = j+1\n",
        "\n",
        "  for col in range(1,k+1):\n",
        "    for row in range(n):\n",
        "      sum = 0\n",
        "      for r in range(row+1):\n",
        "        sum = sum + apt[col-1][r]\n",
        "      apt[col][row] = sum\n",
        "\n",
        "  print(apt[k][n-1])"
      ],
      "metadata": {
        "id": "7-9VxTsoo1OZ"
      },
      "execution_count": null,
      "outputs": []
    },
    {
      "cell_type": "code",
      "source": [
        "#2839\n",
        "\n",
        "n = int(input())\n",
        "sugar = 0\n",
        "\n",
        "while True:\n",
        "  if n % 5 != 0:\n",
        "    sugar = sugar + 1\n",
        "    n = n - 3\n",
        "    if 0 < n < 2:\n",
        "      print(-1)\n",
        "      break\n",
        "  elif n % 5 == 0:\n",
        "    sugar = sugar + (n/5)\n",
        "    print(int(sugar))\n",
        "    break"
      ],
      "metadata": {
        "id": "5cwRyUjqqlFU"
      },
      "execution_count": null,
      "outputs": []
    },
    {
      "cell_type": "code",
      "source": [
        "#10757\n",
        "\n",
        "a, b = map(int, input().split())\n",
        "print(a+b)"
      ],
      "metadata": {
        "id": "SQsaeI6FtEtA"
      },
      "execution_count": null,
      "outputs": []
    },
    {
      "cell_type": "code",
      "source": [
        "#1011\n",
        "\n",
        "import math\n",
        "\n",
        "t = int(input())\n",
        "\n",
        "for i in range(t):\n",
        "  x, y = map(int,input().split())\n",
        "  warp = 0\n",
        "  distance = y - x\n",
        "  n = math.ceil(math.sqrt(distance))\n",
        "  if distance <= (n-1)**2 + n-1:\n",
        "    warp = 2*n - 2\n",
        "  else:\n",
        "    warp = 2*n - 1\n",
        "  print(warp)"
      ],
      "metadata": {
        "id": "f9UMFT9-uCrZ"
      },
      "execution_count": null,
      "outputs": []
    }
  ]
}