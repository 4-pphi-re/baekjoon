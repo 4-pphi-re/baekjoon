{
  "nbformat": 4,
  "nbformat_minor": 0,
  "metadata": {
    "colab": {
      "name": "백준 단계 02",
      "provenance": [],
      "collapsed_sections": [],
      "authorship_tag": "ABX9TyPSZYuJFHqcwvk1lxRTljKb",
      "include_colab_link": true
    },
    "kernelspec": {
      "name": "python3",
      "display_name": "Python 3"
    },
    "language_info": {
      "name": "python"
    }
  },
  "cells": [
    {
      "cell_type": "markdown",
      "metadata": {
        "id": "view-in-github",
        "colab_type": "text"
      },
      "source": [
        "<a href=\"https://colab.research.google.com/github/4pphier/baekjoon/blob/main/python3/%EB%B0%B1%EC%A4%80_%EB%8B%A8%EA%B3%84_02.ipynb\" target=\"_parent\"><img src=\"https://colab.research.google.com/assets/colab-badge.svg\" alt=\"Open In Colab\"/></a>"
      ]
    },
    {
      "cell_type": "code",
      "execution_count": null,
      "metadata": {
        "id": "M77_MKR2MArv"
      },
      "outputs": [],
      "source": [
        "#1330\n",
        "A, B = map(int, input().split())\n",
        "if A > B:\n",
        "  print('>')\n",
        "elif A < B:\n",
        "  print('<')\n",
        "else:\n",
        "  print('==')"
      ]
    },
    {
      "cell_type": "code",
      "source": [
        "#9498\n",
        "score = int(input())\n",
        "if 90 <= score <= 100:\n",
        "  print('A')\n",
        "elif 80 <= score <= 89:\n",
        "  print('B')\n",
        "elif 70 <= score <= 79:\n",
        "  print('C')\n",
        "elif 60 <= score <= 69:\n",
        "  print('D')\n",
        "else:\n",
        "  print('F')"
      ],
      "metadata": {
        "id": "O4ovFBvqM-Ik"
      },
      "execution_count": null,
      "outputs": []
    },
    {
      "cell_type": "code",
      "source": [
        "#2753\n",
        "\n",
        "year = int(input())\n",
        "\n",
        "if year % 400 == 0:\n",
        "  print(\"1\")\n",
        "elif (year % 4 == 0) and (year % 100 != 0):\n",
        "  print(\"1\")\n",
        "else:\n",
        "  print(\"0\")"
      ],
      "metadata": {
        "id": "rAc_RymrITPm"
      },
      "execution_count": null,
      "outputs": []
    },
    {
      "cell_type": "code",
      "source": [
        "#14681\n",
        "\n",
        "x = int(input())\n",
        "y = int(input())\n",
        "\n",
        "if x > 0:\n",
        "  if y > 0:\n",
        "    print(\"1\")\n",
        "  else:\n",
        "    print(\"4\")\n",
        "else:\n",
        "  if y > 0:\n",
        "    print(\"2\")\n",
        "  else:\n",
        "    print(\"3\")"
      ],
      "metadata": {
        "id": "mllMmj9HJXAr"
      },
      "execution_count": null,
      "outputs": []
    },
    {
      "cell_type": "code",
      "source": [
        "#2884\n",
        "\n",
        "H, M = map(int, input().split())\n",
        "\n",
        "if M >= 45:\n",
        "  m = M-45\n",
        "  print(str(H) + \" \" + str(m))\n",
        "else:\n",
        "  m = 60 - (45-M)\n",
        "  if H == 0:\n",
        "    print(\"23 \" + str(m))\n",
        "  else:\n",
        "    h = H-1\n",
        "    print(str(h) + \" \" + str(m))"
      ],
      "metadata": {
        "id": "drk1NGfgJ7Jo"
      },
      "execution_count": null,
      "outputs": []
    },
    {
      "cell_type": "code",
      "source": [
        "#2525\n",
        "\n",
        "h, m = map(int, input().split())\n",
        "time = int(input())\n",
        "\n",
        "min = (m + time) % 60\n",
        "hour = h + (m + time) // 60\n",
        "\n",
        "if hour > 23:\n",
        "  hour = hour - 24\n",
        "\n",
        "print(hour, min)"
      ],
      "metadata": {
        "id": "1Bz44G5a_hMp"
      },
      "execution_count": null,
      "outputs": []
    },
    {
      "cell_type": "code",
      "source": [
        "#2480\n",
        "\n",
        "dice = list(map(int, input().split()))\n",
        "\n",
        "if dice[0] == dice[1] == dice[2]:\n",
        "  prize = 10000 + dice[0] * 1000\n",
        "elif dice[0] == dice[1]:\n",
        "  prize = 1000 + dice[0] * 100\n",
        "elif dice[0] == dice[2]:\n",
        "  prize = 1000 + dice[0] * 100\n",
        "elif dice[1] == dice[2]:\n",
        "  prize = 1000 + dice[1] * 100\n",
        "else:\n",
        "  prize = max(dice) * 100\n",
        "\n",
        "print(prize)"
      ],
      "metadata": {
        "id": "pDjaZgcHAk8f"
      },
      "execution_count": null,
      "outputs": []
    }
  ]
}